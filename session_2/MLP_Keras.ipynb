{
 "cells": [
  {
   "cell_type": "code",
   "execution_count": 13,
   "metadata": {
    "ExecuteTime": {
     "end_time": "2024-03-13T12:57:43.229070Z",
     "start_time": "2024-03-13T12:57:43.226439Z"
    }
   },
   "outputs": [],
   "source": [
    "import pandas as pd\n",
    "import numpy as np\n",
    "import warnings\n",
    "warnings.filterwarnings('ignore')"
   ]
  },
  {
   "cell_type": "code",
   "execution_count": 14,
   "metadata": {
    "ExecuteTime": {
     "end_time": "2024-03-13T12:57:43.278581Z",
     "start_time": "2024-03-13T12:57:43.232539Z"
    }
   },
   "outputs": [],
   "source": [
    "df=pd.read_csv('Customers.csv')"
   ]
  },
  {
   "cell_type": "code",
   "execution_count": 15,
   "metadata": {
    "ExecuteTime": {
     "end_time": "2024-03-13T12:57:43.285734Z",
     "start_time": "2024-03-13T12:57:43.259580Z"
    }
   },
   "outputs": [
    {
     "data": {
      "text/plain": "   CustomerID  Gender  Age  Annual Income ($)  Spending Score (1-100)  \\\n0           1    Male   19              15000                      39   \n1           2    Male   21              35000                      81   \n2           3  Female   20              86000                       6   \n3           4  Female   23              59000                      77   \n4           5  Female   31              38000                      40   \n\n      Profession  Work Experience  Family Size  \n0     Healthcare                1            4  \n1       Engineer                3            3  \n2       Engineer                1            1  \n3         Lawyer                0            2  \n4  Entertainment                2            6  ",
      "text/html": "<div>\n<style scoped>\n    .dataframe tbody tr th:only-of-type {\n        vertical-align: middle;\n    }\n\n    .dataframe tbody tr th {\n        vertical-align: top;\n    }\n\n    .dataframe thead th {\n        text-align: right;\n    }\n</style>\n<table border=\"1\" class=\"dataframe\">\n  <thead>\n    <tr style=\"text-align: right;\">\n      <th></th>\n      <th>CustomerID</th>\n      <th>Gender</th>\n      <th>Age</th>\n      <th>Annual Income ($)</th>\n      <th>Spending Score (1-100)</th>\n      <th>Profession</th>\n      <th>Work Experience</th>\n      <th>Family Size</th>\n    </tr>\n  </thead>\n  <tbody>\n    <tr>\n      <th>0</th>\n      <td>1</td>\n      <td>Male</td>\n      <td>19</td>\n      <td>15000</td>\n      <td>39</td>\n      <td>Healthcare</td>\n      <td>1</td>\n      <td>4</td>\n    </tr>\n    <tr>\n      <th>1</th>\n      <td>2</td>\n      <td>Male</td>\n      <td>21</td>\n      <td>35000</td>\n      <td>81</td>\n      <td>Engineer</td>\n      <td>3</td>\n      <td>3</td>\n    </tr>\n    <tr>\n      <th>2</th>\n      <td>3</td>\n      <td>Female</td>\n      <td>20</td>\n      <td>86000</td>\n      <td>6</td>\n      <td>Engineer</td>\n      <td>1</td>\n      <td>1</td>\n    </tr>\n    <tr>\n      <th>3</th>\n      <td>4</td>\n      <td>Female</td>\n      <td>23</td>\n      <td>59000</td>\n      <td>77</td>\n      <td>Lawyer</td>\n      <td>0</td>\n      <td>2</td>\n    </tr>\n    <tr>\n      <th>4</th>\n      <td>5</td>\n      <td>Female</td>\n      <td>31</td>\n      <td>38000</td>\n      <td>40</td>\n      <td>Entertainment</td>\n      <td>2</td>\n      <td>6</td>\n    </tr>\n  </tbody>\n</table>\n</div>"
     },
     "execution_count": 15,
     "metadata": {},
     "output_type": "execute_result"
    }
   ],
   "source": [
    "df.head()"
   ]
  },
  {
   "cell_type": "code",
   "execution_count": 16,
   "metadata": {
    "tags": [],
    "ExecuteTime": {
     "end_time": "2024-03-13T12:57:43.286524Z",
     "start_time": "2024-03-13T12:57:43.263457Z"
    }
   },
   "outputs": [
    {
     "data": {
      "text/plain": "(2000, 8)"
     },
     "execution_count": 16,
     "metadata": {},
     "output_type": "execute_result"
    }
   ],
   "source": [
    "df.shape"
   ]
  },
  {
   "cell_type": "code",
   "execution_count": 17,
   "metadata": {
    "ExecuteTime": {
     "end_time": "2024-03-13T12:57:43.287713Z",
     "start_time": "2024-03-13T12:57:43.272055Z"
    }
   },
   "outputs": [
    {
     "name": "stdout",
     "output_type": "stream",
     "text": [
      "<class 'pandas.core.frame.DataFrame'>\n",
      "RangeIndex: 2000 entries, 0 to 1999\n",
      "Data columns (total 8 columns):\n",
      " #   Column                  Non-Null Count  Dtype \n",
      "---  ------                  --------------  ----- \n",
      " 0   CustomerID              2000 non-null   int64 \n",
      " 1   Gender                  2000 non-null   object\n",
      " 2   Age                     2000 non-null   int64 \n",
      " 3   Annual Income ($)       2000 non-null   int64 \n",
      " 4   Spending Score (1-100)  2000 non-null   int64 \n",
      " 5   Profession              1965 non-null   object\n",
      " 6   Work Experience         2000 non-null   int64 \n",
      " 7   Family Size             2000 non-null   int64 \n",
      "dtypes: int64(6), object(2)\n",
      "memory usage: 125.1+ KB\n"
     ]
    }
   ],
   "source": [
    "df.info()"
   ]
  },
  {
   "cell_type": "code",
   "execution_count": 18,
   "metadata": {
    "ExecuteTime": {
     "end_time": "2024-03-13T12:57:43.289393Z",
     "start_time": "2024-03-13T12:57:43.276730Z"
    }
   },
   "outputs": [
    {
     "data": {
      "text/plain": "Profession\nArtist           612\nHealthcare       339\nEntertainment    234\nEngineer         179\nDoctor           161\nExecutive        153\nLawyer           142\nMarketing         85\nHomemaker         60\nName: count, dtype: int64"
     },
     "execution_count": 18,
     "metadata": {},
     "output_type": "execute_result"
    }
   ],
   "source": [
    "df['Profession'].value_counts()"
   ]
  },
  {
   "cell_type": "code",
   "execution_count": 19,
   "metadata": {
    "tags": [],
    "ExecuteTime": {
     "end_time": "2024-03-13T12:57:43.290056Z",
     "start_time": "2024-03-13T12:57:43.279617Z"
    }
   },
   "outputs": [
    {
     "data": {
      "text/plain": "Index(['CustomerID', 'Gender', 'Age', 'Annual Income ($)',\n       'Spending Score (1-100)', 'Profession', 'Work Experience',\n       'Family Size'],\n      dtype='object')"
     },
     "execution_count": 19,
     "metadata": {},
     "output_type": "execute_result"
    }
   ],
   "source": [
    "df.columns"
   ]
  },
  {
   "cell_type": "code",
   "execution_count": 20,
   "metadata": {
    "ExecuteTime": {
     "end_time": "2024-03-13T12:57:43.300466Z",
     "start_time": "2024-03-13T12:57:43.283215Z"
    }
   },
   "outputs": [],
   "source": [
    "#prepare the data to take only numerical featrures and separate input and target\n",
    "df_input=df[['CustomerID', 'Gender', 'Age', 'Annual Income ($)', 'Profession', 'Work Experience','Family Size']]\n",
    "df_target=df[['Spending Score (1-100)']]\n",
    "\n",
    "#split training and testing data\n",
    "from sklearn.model_selection import train_test_split\n",
    "X_train, X_test, y_train, y_test = train_test_split(df_input, df_target, test_size=0.2, random_state=42)"
   ]
  },
  {
   "cell_type": "code",
   "execution_count": 21,
   "metadata": {
    "ExecuteTime": {
     "end_time": "2024-03-13T12:57:43.302579Z",
     "start_time": "2024-03-13T12:57:43.292641Z"
    }
   },
   "outputs": [],
   "source": [
    "X_train['Profession'].fillna('others', inplace=True)\n",
    "X_test['Profession'].fillna('others', inplace=True)"
   ]
  },
  {
   "cell_type": "code",
   "execution_count": 22,
   "metadata": {
    "ExecuteTime": {
     "end_time": "2024-03-13T12:57:43.357334Z",
     "start_time": "2024-03-13T12:57:43.297488Z"
    }
   },
   "outputs": [],
   "source": [
    "#encode non numeric data into numeric data\n",
    "#encode Gender\n",
    "train_encode={\"Gender\": {\"Male\":1,\"Female\" :0}}\n",
    "test_encode={\"Gender\": {\"Male\":1,\"Female\" :0}}\n",
    "\n",
    "#replace categorical value into numerical value\n",
    "X_train=X_train.replace(train_encode)\n",
    "X_test=X_test.replace(test_encode)\n"
   ]
  },
  {
   "cell_type": "code",
   "execution_count": 23,
   "metadata": {
    "tags": [],
    "ExecuteTime": {
     "end_time": "2024-03-13T12:57:43.384879Z",
     "start_time": "2024-03-13T12:57:43.307677Z"
    }
   },
   "outputs": [],
   "source": [
    "from sklearn.preprocessing import OneHotEncoder\n",
    "#encoded profession for training data\n",
    "x=X_train[['Profession']]\n",
    "train_encoded=OneHotEncoder()\n",
    "train_data=pd.DataFrame(train_encoded.fit_transform(x).toarray(),columns=train_encoded.get_feature_names_out())\n",
    "X_train=X_train.reset_index()\n",
    "X_train_enc=pd.concat([X_train,train_data], axis=1)\n",
    "\n"
   ]
  },
  {
   "cell_type": "code",
   "execution_count": 24,
   "metadata": {
    "tags": [],
    "ExecuteTime": {
     "end_time": "2024-03-13T12:57:43.433984Z",
     "start_time": "2024-03-13T12:57:43.375457Z"
    }
   },
   "outputs": [
    {
     "data": {
      "text/plain": "   index  CustomerID  Gender  Age  Annual Income ($)     Profession  \\\n0    968         969       1   32             186897     Healthcare   \n1    240         241       1   92              83000      Executive   \n2    819         820       0   19             117477     Healthcare   \n3    692         693       1   83             132005  Entertainment   \n4    420         421       1   89             122430     Healthcare   \n\n   Work Experience  Family Size  Profession_Artist  Profession_Doctor  \\\n0                1            7                0.0                0.0   \n1                1            5                0.0                0.0   \n2                6            7                0.0                0.0   \n3                0            5                0.0                0.0   \n4                1            1                0.0                0.0   \n\n   Profession_Engineer  Profession_Entertainment  Profession_Executive  \\\n0                  0.0                       0.0                   0.0   \n1                  0.0                       0.0                   1.0   \n2                  0.0                       0.0                   0.0   \n3                  0.0                       1.0                   0.0   \n4                  0.0                       0.0                   0.0   \n\n   Profession_Healthcare  Profession_Homemaker  Profession_Lawyer  \\\n0                    1.0                   0.0                0.0   \n1                    0.0                   0.0                0.0   \n2                    1.0                   0.0                0.0   \n3                    0.0                   0.0                0.0   \n4                    1.0                   0.0                0.0   \n\n   Profession_Marketing  Profession_others  \n0                   0.0                0.0  \n1                   0.0                0.0  \n2                   0.0                0.0  \n3                   0.0                0.0  \n4                   0.0                0.0  ",
      "text/html": "<div>\n<style scoped>\n    .dataframe tbody tr th:only-of-type {\n        vertical-align: middle;\n    }\n\n    .dataframe tbody tr th {\n        vertical-align: top;\n    }\n\n    .dataframe thead th {\n        text-align: right;\n    }\n</style>\n<table border=\"1\" class=\"dataframe\">\n  <thead>\n    <tr style=\"text-align: right;\">\n      <th></th>\n      <th>index</th>\n      <th>CustomerID</th>\n      <th>Gender</th>\n      <th>Age</th>\n      <th>Annual Income ($)</th>\n      <th>Profession</th>\n      <th>Work Experience</th>\n      <th>Family Size</th>\n      <th>Profession_Artist</th>\n      <th>Profession_Doctor</th>\n      <th>Profession_Engineer</th>\n      <th>Profession_Entertainment</th>\n      <th>Profession_Executive</th>\n      <th>Profession_Healthcare</th>\n      <th>Profession_Homemaker</th>\n      <th>Profession_Lawyer</th>\n      <th>Profession_Marketing</th>\n      <th>Profession_others</th>\n    </tr>\n  </thead>\n  <tbody>\n    <tr>\n      <th>0</th>\n      <td>968</td>\n      <td>969</td>\n      <td>1</td>\n      <td>32</td>\n      <td>186897</td>\n      <td>Healthcare</td>\n      <td>1</td>\n      <td>7</td>\n      <td>0.0</td>\n      <td>0.0</td>\n      <td>0.0</td>\n      <td>0.0</td>\n      <td>0.0</td>\n      <td>1.0</td>\n      <td>0.0</td>\n      <td>0.0</td>\n      <td>0.0</td>\n      <td>0.0</td>\n    </tr>\n    <tr>\n      <th>1</th>\n      <td>240</td>\n      <td>241</td>\n      <td>1</td>\n      <td>92</td>\n      <td>83000</td>\n      <td>Executive</td>\n      <td>1</td>\n      <td>5</td>\n      <td>0.0</td>\n      <td>0.0</td>\n      <td>0.0</td>\n      <td>0.0</td>\n      <td>1.0</td>\n      <td>0.0</td>\n      <td>0.0</td>\n      <td>0.0</td>\n      <td>0.0</td>\n      <td>0.0</td>\n    </tr>\n    <tr>\n      <th>2</th>\n      <td>819</td>\n      <td>820</td>\n      <td>0</td>\n      <td>19</td>\n      <td>117477</td>\n      <td>Healthcare</td>\n      <td>6</td>\n      <td>7</td>\n      <td>0.0</td>\n      <td>0.0</td>\n      <td>0.0</td>\n      <td>0.0</td>\n      <td>0.0</td>\n      <td>1.0</td>\n      <td>0.0</td>\n      <td>0.0</td>\n      <td>0.0</td>\n      <td>0.0</td>\n    </tr>\n    <tr>\n      <th>3</th>\n      <td>692</td>\n      <td>693</td>\n      <td>1</td>\n      <td>83</td>\n      <td>132005</td>\n      <td>Entertainment</td>\n      <td>0</td>\n      <td>5</td>\n      <td>0.0</td>\n      <td>0.0</td>\n      <td>0.0</td>\n      <td>1.0</td>\n      <td>0.0</td>\n      <td>0.0</td>\n      <td>0.0</td>\n      <td>0.0</td>\n      <td>0.0</td>\n      <td>0.0</td>\n    </tr>\n    <tr>\n      <th>4</th>\n      <td>420</td>\n      <td>421</td>\n      <td>1</td>\n      <td>89</td>\n      <td>122430</td>\n      <td>Healthcare</td>\n      <td>1</td>\n      <td>1</td>\n      <td>0.0</td>\n      <td>0.0</td>\n      <td>0.0</td>\n      <td>0.0</td>\n      <td>0.0</td>\n      <td>1.0</td>\n      <td>0.0</td>\n      <td>0.0</td>\n      <td>0.0</td>\n      <td>0.0</td>\n    </tr>\n  </tbody>\n</table>\n</div>"
     },
     "execution_count": 24,
     "metadata": {},
     "output_type": "execute_result"
    }
   ],
   "source": [
    "X_train_enc.head()"
   ]
  },
  {
   "cell_type": "code",
   "execution_count": 25,
   "metadata": {
    "tags": [],
    "ExecuteTime": {
     "end_time": "2024-03-13T12:57:43.442812Z",
     "start_time": "2024-03-13T12:57:43.422738Z"
    }
   },
   "outputs": [],
   "source": [
    "#encoded profession for testing data\n",
    "y=X_test[['Profession']]\n",
    "test_data=pd.DataFrame(train_encoded.transform(y).toarray(),columns=train_encoded.get_feature_names_out())\n",
    "X_test=X_test.reset_index()\n",
    "X_test_enc=pd.concat([X_test,test_data], axis=1)"
   ]
  },
  {
   "cell_type": "code",
   "execution_count": 26,
   "metadata": {
    "ExecuteTime": {
     "end_time": "2024-03-13T12:57:43.479157Z",
     "start_time": "2024-03-13T12:57:43.450619Z"
    }
   },
   "outputs": [
    {
     "data": {
      "text/plain": "   index  CustomerID  Gender  Age  Annual Income ($)  Profession  \\\n0   1860        1861       1   32             104494  Healthcare   \n1    353         354       1   23             181760  Healthcare   \n2   1333        1334       0   97             133614      Artist   \n3    905         906       0   66             118385  Healthcare   \n4   1289        1290       0   75              86297   Executive   \n\n   Work Experience  Family Size  Profession_Artist  Profession_Doctor  \\\n0                6            4                0.0                0.0   \n1               14            3                0.0                0.0   \n2                7            4                1.0                0.0   \n3               10            3                0.0                0.0   \n4                9            4                0.0                0.0   \n\n   Profession_Engineer  Profession_Entertainment  Profession_Executive  \\\n0                  0.0                       0.0                   0.0   \n1                  0.0                       0.0                   0.0   \n2                  0.0                       0.0                   0.0   \n3                  0.0                       0.0                   0.0   \n4                  0.0                       0.0                   1.0   \n\n   Profession_Healthcare  Profession_Homemaker  Profession_Lawyer  \\\n0                    1.0                   0.0                0.0   \n1                    1.0                   0.0                0.0   \n2                    0.0                   0.0                0.0   \n3                    1.0                   0.0                0.0   \n4                    0.0                   0.0                0.0   \n\n   Profession_Marketing  Profession_others  \n0                   0.0                0.0  \n1                   0.0                0.0  \n2                   0.0                0.0  \n3                   0.0                0.0  \n4                   0.0                0.0  ",
      "text/html": "<div>\n<style scoped>\n    .dataframe tbody tr th:only-of-type {\n        vertical-align: middle;\n    }\n\n    .dataframe tbody tr th {\n        vertical-align: top;\n    }\n\n    .dataframe thead th {\n        text-align: right;\n    }\n</style>\n<table border=\"1\" class=\"dataframe\">\n  <thead>\n    <tr style=\"text-align: right;\">\n      <th></th>\n      <th>index</th>\n      <th>CustomerID</th>\n      <th>Gender</th>\n      <th>Age</th>\n      <th>Annual Income ($)</th>\n      <th>Profession</th>\n      <th>Work Experience</th>\n      <th>Family Size</th>\n      <th>Profession_Artist</th>\n      <th>Profession_Doctor</th>\n      <th>Profession_Engineer</th>\n      <th>Profession_Entertainment</th>\n      <th>Profession_Executive</th>\n      <th>Profession_Healthcare</th>\n      <th>Profession_Homemaker</th>\n      <th>Profession_Lawyer</th>\n      <th>Profession_Marketing</th>\n      <th>Profession_others</th>\n    </tr>\n  </thead>\n  <tbody>\n    <tr>\n      <th>0</th>\n      <td>1860</td>\n      <td>1861</td>\n      <td>1</td>\n      <td>32</td>\n      <td>104494</td>\n      <td>Healthcare</td>\n      <td>6</td>\n      <td>4</td>\n      <td>0.0</td>\n      <td>0.0</td>\n      <td>0.0</td>\n      <td>0.0</td>\n      <td>0.0</td>\n      <td>1.0</td>\n      <td>0.0</td>\n      <td>0.0</td>\n      <td>0.0</td>\n      <td>0.0</td>\n    </tr>\n    <tr>\n      <th>1</th>\n      <td>353</td>\n      <td>354</td>\n      <td>1</td>\n      <td>23</td>\n      <td>181760</td>\n      <td>Healthcare</td>\n      <td>14</td>\n      <td>3</td>\n      <td>0.0</td>\n      <td>0.0</td>\n      <td>0.0</td>\n      <td>0.0</td>\n      <td>0.0</td>\n      <td>1.0</td>\n      <td>0.0</td>\n      <td>0.0</td>\n      <td>0.0</td>\n      <td>0.0</td>\n    </tr>\n    <tr>\n      <th>2</th>\n      <td>1333</td>\n      <td>1334</td>\n      <td>0</td>\n      <td>97</td>\n      <td>133614</td>\n      <td>Artist</td>\n      <td>7</td>\n      <td>4</td>\n      <td>1.0</td>\n      <td>0.0</td>\n      <td>0.0</td>\n      <td>0.0</td>\n      <td>0.0</td>\n      <td>0.0</td>\n      <td>0.0</td>\n      <td>0.0</td>\n      <td>0.0</td>\n      <td>0.0</td>\n    </tr>\n    <tr>\n      <th>3</th>\n      <td>905</td>\n      <td>906</td>\n      <td>0</td>\n      <td>66</td>\n      <td>118385</td>\n      <td>Healthcare</td>\n      <td>10</td>\n      <td>3</td>\n      <td>0.0</td>\n      <td>0.0</td>\n      <td>0.0</td>\n      <td>0.0</td>\n      <td>0.0</td>\n      <td>1.0</td>\n      <td>0.0</td>\n      <td>0.0</td>\n      <td>0.0</td>\n      <td>0.0</td>\n    </tr>\n    <tr>\n      <th>4</th>\n      <td>1289</td>\n      <td>1290</td>\n      <td>0</td>\n      <td>75</td>\n      <td>86297</td>\n      <td>Executive</td>\n      <td>9</td>\n      <td>4</td>\n      <td>0.0</td>\n      <td>0.0</td>\n      <td>0.0</td>\n      <td>0.0</td>\n      <td>1.0</td>\n      <td>0.0</td>\n      <td>0.0</td>\n      <td>0.0</td>\n      <td>0.0</td>\n      <td>0.0</td>\n    </tr>\n  </tbody>\n</table>\n</div>"
     },
     "execution_count": 26,
     "metadata": {},
     "output_type": "execute_result"
    }
   ],
   "source": [
    "X_test_enc.head()"
   ]
  },
  {
   "cell_type": "code",
   "execution_count": 27,
   "metadata": {
    "tags": [],
    "ExecuteTime": {
     "end_time": "2024-03-13T12:57:43.498829Z",
     "start_time": "2024-03-13T12:57:43.455913Z"
    }
   },
   "outputs": [
    {
     "data": {
      "text/plain": "Index(['index', 'CustomerID', 'Gender', 'Age', 'Annual Income ($)',\n       'Profession', 'Work Experience', 'Family Size', 'Profession_Artist',\n       'Profession_Doctor', 'Profession_Engineer', 'Profession_Entertainment',\n       'Profession_Executive', 'Profession_Healthcare', 'Profession_Homemaker',\n       'Profession_Lawyer', 'Profession_Marketing', 'Profession_others'],\n      dtype='object')"
     },
     "execution_count": 27,
     "metadata": {},
     "output_type": "execute_result"
    }
   ],
   "source": [
    "X_train_enc.columns"
   ]
  },
  {
   "cell_type": "code",
   "execution_count": 28,
   "metadata": {
    "tags": [],
    "ExecuteTime": {
     "end_time": "2024-03-13T12:57:43.524973Z",
     "start_time": "2024-03-13T12:57:43.490257Z"
    }
   },
   "outputs": [
    {
     "name": "stdout",
     "output_type": "stream",
     "text": [
      "<class 'pandas.core.frame.DataFrame'>\n",
      "RangeIndex: 1600 entries, 0 to 1599\n",
      "Data columns (total 18 columns):\n",
      " #   Column                    Non-Null Count  Dtype  \n",
      "---  ------                    --------------  -----  \n",
      " 0   index                     1600 non-null   int64  \n",
      " 1   CustomerID                1600 non-null   int64  \n",
      " 2   Gender                    1600 non-null   int64  \n",
      " 3   Age                       1600 non-null   int64  \n",
      " 4   Annual Income ($)         1600 non-null   int64  \n",
      " 5   Profession                1600 non-null   object \n",
      " 6   Work Experience           1600 non-null   int64  \n",
      " 7   Family Size               1600 non-null   int64  \n",
      " 8   Profession_Artist         1600 non-null   float64\n",
      " 9   Profession_Doctor         1600 non-null   float64\n",
      " 10  Profession_Engineer       1600 non-null   float64\n",
      " 11  Profession_Entertainment  1600 non-null   float64\n",
      " 12  Profession_Executive      1600 non-null   float64\n",
      " 13  Profession_Healthcare     1600 non-null   float64\n",
      " 14  Profession_Homemaker      1600 non-null   float64\n",
      " 15  Profession_Lawyer         1600 non-null   float64\n",
      " 16  Profession_Marketing      1600 non-null   float64\n",
      " 17  Profession_others         1600 non-null   float64\n",
      "dtypes: float64(10), int64(7), object(1)\n",
      "memory usage: 225.1+ KB\n"
     ]
    }
   ],
   "source": [
    "X_train_enc.info()"
   ]
  },
  {
   "cell_type": "code",
   "execution_count": 29,
   "metadata": {
    "tags": [],
    "ExecuteTime": {
     "end_time": "2024-03-13T12:57:43.558238Z",
     "start_time": "2024-03-13T12:57:43.528129Z"
    }
   },
   "outputs": [],
   "source": [
    "X_train_enc=X_train_enc[['Gender', 'Age', 'Annual Income ($)','Work Experience', 'Family Size', 'Profession_Artist',\n",
    "                         'Profession_Doctor', 'Profession_Engineer', 'Profession_Entertainment',\n",
    "                         'Profession_Executive', 'Profession_Healthcare', 'Profession_Homemaker',\n",
    "                         'Profession_Lawyer', 'Profession_Marketing', 'Profession_others']]\n",
    "X_test_enc=X_test_enc[['Gender', 'Age', 'Annual Income ($)','Work Experience', 'Family Size', 'Profession_Artist',\n",
    "                         'Profession_Doctor', 'Profession_Engineer', 'Profession_Entertainment',\n",
    "                         'Profession_Executive', 'Profession_Healthcare', 'Profession_Homemaker',\n",
    "                         'Profession_Lawyer', 'Profession_Marketing', 'Profession_others']]"
   ]
  },
  {
   "cell_type": "code",
   "execution_count": 30,
   "metadata": {
    "ExecuteTime": {
     "end_time": "2024-03-13T12:57:53.713442Z",
     "start_time": "2024-03-13T12:57:43.541610Z"
    }
   },
   "outputs": [
    {
     "name": "stdout",
     "output_type": "stream",
     "text": [
      "Model: \"sequential\"\n",
      "_________________________________________________________________\n",
      " Layer (type)                Output Shape              Param #   \n",
      "=================================================================\n",
      " dense (Dense)               (None, 16)                256       \n",
      "                                                                 \n",
      " dense_1 (Dense)             (None, 15)                255       \n",
      "                                                                 \n",
      " dense_2 (Dense)             (None, 1)                 16        \n",
      "                                                                 \n",
      "=================================================================\n",
      "Total params: 527 (2.06 KB)\n",
      "Trainable params: 527 (2.06 KB)\n",
      "Non-trainable params: 0 (0.00 Byte)\n",
      "_________________________________________________________________\n",
      "None\n"
     ]
    }
   ],
   "source": [
    "import keras\n",
    "from tensorflow.keras.models import Sequential\n",
    "import tensorflow as tf\n",
    "model = keras.models.Sequential()\n",
    "model.add(tf.keras.Input(shape=(15,)))\n",
    "#Dense implements the operation: output = activation(dot(input, kernel) + bias)\n",
    "model.add(keras.layers.Dense(16, activation='sigmoid'))\n",
    "model.add(keras.layers.Dense(15, activation='sigmoid'))\n",
    "model.add(keras.layers.Dense(1,   activation='linear'))\n",
    "model.compile(optimizer=\"sgd\",loss='mse',metrics=[keras.metrics.RootMeanSquaredError(), 'mae', 'mape'])\n",
    "print(model.summary())\n"
   ]
  },
  {
   "cell_type": "code",
   "execution_count": 31,
   "metadata": {
    "ExecuteTime": {
     "end_time": "2024-03-13T12:57:54.365239Z",
     "start_time": "2024-03-13T12:57:53.715460Z"
    }
   },
   "outputs": [
    {
     "name": "stdout",
     "output_type": "stream",
     "text": [
      "Epoch 1/20\n",
      "50/50 - 0s - loss: 944.4578 - root_mean_squared_error: 30.7320 - mae: 25.5822 - mape: 36058320.0000 - 173ms/epoch - 3ms/step\n",
      "Epoch 2/20\n",
      "50/50 - 0s - loss: 789.2042 - root_mean_squared_error: 28.0928 - mae: 23.9487 - mape: 64380648.0000 - 21ms/epoch - 417us/step\n",
      "Epoch 3/20\n",
      "50/50 - 0s - loss: 787.4754 - root_mean_squared_error: 28.0620 - mae: 23.8746 - mape: 62868932.0000 - 22ms/epoch - 442us/step\n",
      "Epoch 4/20\n",
      "50/50 - 0s - loss: 791.1559 - root_mean_squared_error: 28.1275 - mae: 23.9010 - mape: 64517188.0000 - 20ms/epoch - 401us/step\n",
      "Epoch 5/20\n",
      "50/50 - 0s - loss: 789.4677 - root_mean_squared_error: 28.0975 - mae: 23.9027 - mape: 65260720.0000 - 22ms/epoch - 438us/step\n",
      "Epoch 6/20\n",
      "50/50 - 0s - loss: 789.7216 - root_mean_squared_error: 28.1020 - mae: 23.9063 - mape: 62880092.0000 - 21ms/epoch - 429us/step\n",
      "Epoch 7/20\n",
      "50/50 - 0s - loss: 787.0408 - root_mean_squared_error: 28.0542 - mae: 23.8540 - mape: 64352912.0000 - 22ms/epoch - 443us/step\n",
      "Epoch 8/20\n",
      "50/50 - 0s - loss: 788.2338 - root_mean_squared_error: 28.0755 - mae: 23.8612 - mape: 64066308.0000 - 21ms/epoch - 426us/step\n",
      "Epoch 9/20\n",
      "50/50 - 0s - loss: 789.2059 - root_mean_squared_error: 28.0928 - mae: 23.9111 - mape: 62401632.0000 - 21ms/epoch - 425us/step\n",
      "Epoch 10/20\n",
      "50/50 - 0s - loss: 784.7218 - root_mean_squared_error: 28.0129 - mae: 23.8150 - mape: 62520984.0000 - 18ms/epoch - 369us/step\n",
      "Epoch 11/20\n",
      "50/50 - 0s - loss: 788.4044 - root_mean_squared_error: 28.0785 - mae: 23.8954 - mape: 63825428.0000 - 21ms/epoch - 421us/step\n",
      "Epoch 12/20\n",
      "50/50 - 0s - loss: 789.4722 - root_mean_squared_error: 28.0975 - mae: 23.9062 - mape: 63809884.0000 - 20ms/epoch - 408us/step\n",
      "Epoch 13/20\n",
      "50/50 - 0s - loss: 790.3589 - root_mean_squared_error: 28.1133 - mae: 23.9007 - mape: 65141776.0000 - 19ms/epoch - 379us/step\n",
      "Epoch 14/20\n",
      "50/50 - 0s - loss: 789.2144 - root_mean_squared_error: 28.0930 - mae: 23.8992 - mape: 65318856.0000 - 21ms/epoch - 430us/step\n",
      "Epoch 15/20\n",
      "50/50 - 0s - loss: 786.7530 - root_mean_squared_error: 28.0491 - mae: 23.8557 - mape: 61192396.0000 - 21ms/epoch - 421us/step\n",
      "Epoch 16/20\n",
      "50/50 - 0s - loss: 790.0056 - root_mean_squared_error: 28.1070 - mae: 23.9086 - mape: 64727164.0000 - 21ms/epoch - 411us/step\n",
      "Epoch 17/20\n",
      "50/50 - 0s - loss: 788.4880 - root_mean_squared_error: 28.0800 - mae: 23.8848 - mape: 61295436.0000 - 20ms/epoch - 396us/step\n",
      "Epoch 18/20\n",
      "50/50 - 0s - loss: 792.0873 - root_mean_squared_error: 28.1440 - mae: 23.9522 - mape: 66393176.0000 - 21ms/epoch - 420us/step\n",
      "Epoch 19/20\n",
      "50/50 - 0s - loss: 785.4671 - root_mean_squared_error: 28.0262 - mae: 23.8548 - mape: 58901612.0000 - 21ms/epoch - 415us/step\n",
      "Epoch 20/20\n",
      "50/50 - 0s - loss: 787.9743 - root_mean_squared_error: 28.0709 - mae: 23.8237 - mape: 58185888.0000 - 21ms/epoch - 418us/step\n"
     ]
    },
    {
     "data": {
      "text/plain": "<keras.src.callbacks.History at 0x2915a5bb0>"
     },
     "execution_count": 31,
     "metadata": {},
     "output_type": "execute_result"
    }
   ],
   "source": [
    "model.fit(X_train_enc, y_train, epochs=20, verbose=2)"
   ]
  },
  {
   "cell_type": "code",
   "execution_count": 32,
   "metadata": {
    "ExecuteTime": {
     "end_time": "2024-03-13T12:57:54.419822Z",
     "start_time": "2024-03-13T12:57:54.349073Z"
    }
   },
   "outputs": [
    {
     "name": "stdout",
     "output_type": "stream",
     "text": [
      "13/13 [==============================] - 0s 514us/step\n"
     ]
    }
   ],
   "source": [
    "test_result=model.predict(X_test_enc)"
   ]
  },
  {
   "cell_type": "code",
   "execution_count": 33,
   "metadata": {
    "tags": [],
    "ExecuteTime": {
     "end_time": "2024-03-13T12:57:54.420520Z",
     "start_time": "2024-03-13T12:57:54.416499Z"
    }
   },
   "outputs": [
    {
     "name": "stdout",
     "output_type": "stream",
     "text": [
      "R2 test:  0.0\n",
      "error_test:  23.58592056274414\n"
     ]
    }
   ],
   "source": [
    "#calculate error for training and testing\n",
    "from sklearn import metrics\n",
    "from sklearn.metrics import r2_score\n",
    "\n",
    "print(\"R2 test: \",r2_score(test_result,y_test))\n",
    "print(\"error_test: \",metrics.mean_absolute_error(test_result,y_test))"
   ]
  },
  {
   "cell_type": "code",
   "execution_count": 33,
   "metadata": {
    "ExecuteTime": {
     "end_time": "2024-03-13T12:57:54.421695Z",
     "start_time": "2024-03-13T12:57:54.418782Z"
    }
   },
   "outputs": [],
   "source": []
  }
 ],
 "metadata": {
  "kernelspec": {
   "display_name": "Python 3 (ipykernel)",
   "language": "python",
   "name": "python3"
  },
  "language_info": {
   "codemirror_mode": {
    "name": "ipython",
    "version": 3
   },
   "file_extension": ".py",
   "mimetype": "text/x-python",
   "name": "python",
   "nbconvert_exporter": "python",
   "pygments_lexer": "ipython3",
   "version": "3.11.4"
  }
 },
 "nbformat": 4,
 "nbformat_minor": 4
}
