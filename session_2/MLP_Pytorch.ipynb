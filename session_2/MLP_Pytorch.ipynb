{
 "cells": [
  {
   "cell_type": "code",
   "execution_count": null,
   "metadata": {
    "is_executing": true
   },
   "outputs": [],
   "source": [
    "import pandas as pd\n",
    "import numpy as np\n",
    "import warnings\n",
    "warnings.filterwarnings('ignore')"
   ]
  },
  {
   "cell_type": "code",
   "execution_count": null,
   "metadata": {
    "is_executing": true
   },
   "outputs": [],
   "source": [
    "df=pd.read_csv('Customers.csv')"
   ]
  },
  {
   "cell_type": "code",
   "execution_count": null,
   "metadata": {
    "is_executing": true
   },
   "outputs": [],
   "source": [
    "df.head()"
   ]
  },
  {
   "cell_type": "code",
   "execution_count": 91,
   "metadata": {
    "tags": [],
    "ExecuteTime": {
     "end_time": "2024-03-13T13:24:36.719247Z",
     "start_time": "2024-03-13T13:24:36.695660Z"
    }
   },
   "outputs": [
    {
     "data": {
      "text/plain": "(2000, 8)"
     },
     "execution_count": 91,
     "metadata": {},
     "output_type": "execute_result"
    }
   ],
   "source": [
    "df.shape"
   ]
  },
  {
   "cell_type": "code",
   "execution_count": 92,
   "metadata": {
    "ExecuteTime": {
     "end_time": "2024-03-13T13:24:36.748882Z",
     "start_time": "2024-03-13T13:24:36.703321Z"
    }
   },
   "outputs": [
    {
     "name": "stdout",
     "output_type": "stream",
     "text": [
      "<class 'pandas.core.frame.DataFrame'>\n",
      "RangeIndex: 2000 entries, 0 to 1999\n",
      "Data columns (total 8 columns):\n",
      " #   Column                  Non-Null Count  Dtype \n",
      "---  ------                  --------------  ----- \n",
      " 0   CustomerID              2000 non-null   int64 \n",
      " 1   Gender                  2000 non-null   object\n",
      " 2   Age                     2000 non-null   int64 \n",
      " 3   Annual Income ($)       2000 non-null   int64 \n",
      " 4   Spending Score (1-100)  2000 non-null   int64 \n",
      " 5   Profession              1965 non-null   object\n",
      " 6   Work Experience         2000 non-null   int64 \n",
      " 7   Family Size             2000 non-null   int64 \n",
      "dtypes: int64(6), object(2)\n",
      "memory usage: 125.1+ KB\n"
     ]
    }
   ],
   "source": [
    "df.info()"
   ]
  },
  {
   "cell_type": "code",
   "execution_count": 93,
   "metadata": {
    "ExecuteTime": {
     "end_time": "2024-03-13T13:24:36.767220Z",
     "start_time": "2024-03-13T13:24:36.724183Z"
    }
   },
   "outputs": [
    {
     "data": {
      "text/plain": "Profession\nArtist           612\nHealthcare       339\nEntertainment    234\nEngineer         179\nDoctor           161\nExecutive        153\nLawyer           142\nMarketing         85\nHomemaker         60\nName: count, dtype: int64"
     },
     "execution_count": 93,
     "metadata": {},
     "output_type": "execute_result"
    }
   ],
   "source": [
    "df['Profession'].value_counts()"
   ]
  },
  {
   "cell_type": "code",
   "execution_count": 94,
   "metadata": {
    "tags": [],
    "ExecuteTime": {
     "end_time": "2024-03-13T13:24:36.812156Z",
     "start_time": "2024-03-13T13:24:36.754537Z"
    }
   },
   "outputs": [
    {
     "data": {
      "text/plain": "Index(['CustomerID', 'Gender', 'Age', 'Annual Income ($)',\n       'Spending Score (1-100)', 'Profession', 'Work Experience',\n       'Family Size'],\n      dtype='object')"
     },
     "execution_count": 94,
     "metadata": {},
     "output_type": "execute_result"
    }
   ],
   "source": [
    "df.columns"
   ]
  },
  {
   "cell_type": "code",
   "execution_count": 95,
   "metadata": {
    "ExecuteTime": {
     "end_time": "2024-03-13T13:24:36.837099Z",
     "start_time": "2024-03-13T13:24:36.816842Z"
    }
   },
   "outputs": [],
   "source": [
    "#prepare the data to take only numerical featrures and separate input and target\n",
    "df_input=df[['CustomerID', 'Gender', 'Age', 'Annual Income ($)', 'Profession', 'Work Experience','Family Size']]\n",
    "df_target=df[['Spending Score (1-100)']]\n",
    "\n",
    "#split training and testing data\n",
    "from sklearn.model_selection import train_test_split\n",
    "X_train, X_test, y_train, y_test = train_test_split(df_input, df_target, test_size=0.2, random_state=42)"
   ]
  },
  {
   "cell_type": "code",
   "execution_count": 96,
   "metadata": {
    "ExecuteTime": {
     "end_time": "2024-03-13T13:24:36.865426Z",
     "start_time": "2024-03-13T13:24:36.839178Z"
    }
   },
   "outputs": [],
   "source": [
    "X_train['Profession'].fillna('others', inplace=True)\n",
    "X_test['Profession'].fillna('others', inplace=True)"
   ]
  },
  {
   "cell_type": "code",
   "execution_count": 97,
   "metadata": {
    "ExecuteTime": {
     "end_time": "2024-03-13T13:24:36.880329Z",
     "start_time": "2024-03-13T13:24:36.867388Z"
    }
   },
   "outputs": [],
   "source": [
    "#encode non numeric data into numeric data\n",
    "#encode Gender\n",
    "train_encode={\"Gender\": {\"Male\":1,\"Female\" :0}}\n",
    "test_encode={\"Gender\": {\"Male\":1,\"Female\" :0}}\n",
    "\n",
    "#replace categorical value into numerical value\n",
    "X_train=X_train.replace(train_encode)\n",
    "X_test=X_test.replace(test_encode)\n"
   ]
  },
  {
   "cell_type": "code",
   "execution_count": 98,
   "metadata": {
    "tags": [],
    "ExecuteTime": {
     "end_time": "2024-03-13T13:24:36.890650Z",
     "start_time": "2024-03-13T13:24:36.885469Z"
    }
   },
   "outputs": [],
   "source": [
    "from sklearn.preprocessing import OneHotEncoder\n",
    "#encoded profession for training data\n",
    "x=X_train[['Profession']]\n",
    "train_encoded=OneHotEncoder()\n",
    "train_data=pd.DataFrame(train_encoded.fit_transform(x).toarray(),columns=train_encoded.get_feature_names_out())\n",
    "X_train=X_train.reset_index()\n",
    "X_train_enc=pd.concat([X_train,train_data], axis=1)\n",
    "\n"
   ]
  },
  {
   "cell_type": "code",
   "execution_count": 99,
   "metadata": {
    "tags": [],
    "ExecuteTime": {
     "end_time": "2024-03-13T13:24:36.904237Z",
     "start_time": "2024-03-13T13:24:36.895671Z"
    }
   },
   "outputs": [
    {
     "data": {
      "text/plain": "   index  CustomerID  Gender  Age  Annual Income ($)     Profession  \\\n0    968         969       1   32             186897     Healthcare   \n1    240         241       1   92              83000      Executive   \n2    819         820       0   19             117477     Healthcare   \n3    692         693       1   83             132005  Entertainment   \n4    420         421       1   89             122430     Healthcare   \n\n   Work Experience  Family Size  Profession_Artist  Profession_Doctor  \\\n0                1            7                0.0                0.0   \n1                1            5                0.0                0.0   \n2                6            7                0.0                0.0   \n3                0            5                0.0                0.0   \n4                1            1                0.0                0.0   \n\n   Profession_Engineer  Profession_Entertainment  Profession_Executive  \\\n0                  0.0                       0.0                   0.0   \n1                  0.0                       0.0                   1.0   \n2                  0.0                       0.0                   0.0   \n3                  0.0                       1.0                   0.0   \n4                  0.0                       0.0                   0.0   \n\n   Profession_Healthcare  Profession_Homemaker  Profession_Lawyer  \\\n0                    1.0                   0.0                0.0   \n1                    0.0                   0.0                0.0   \n2                    1.0                   0.0                0.0   \n3                    0.0                   0.0                0.0   \n4                    1.0                   0.0                0.0   \n\n   Profession_Marketing  Profession_others  \n0                   0.0                0.0  \n1                   0.0                0.0  \n2                   0.0                0.0  \n3                   0.0                0.0  \n4                   0.0                0.0  ",
      "text/html": "<div>\n<style scoped>\n    .dataframe tbody tr th:only-of-type {\n        vertical-align: middle;\n    }\n\n    .dataframe tbody tr th {\n        vertical-align: top;\n    }\n\n    .dataframe thead th {\n        text-align: right;\n    }\n</style>\n<table border=\"1\" class=\"dataframe\">\n  <thead>\n    <tr style=\"text-align: right;\">\n      <th></th>\n      <th>index</th>\n      <th>CustomerID</th>\n      <th>Gender</th>\n      <th>Age</th>\n      <th>Annual Income ($)</th>\n      <th>Profession</th>\n      <th>Work Experience</th>\n      <th>Family Size</th>\n      <th>Profession_Artist</th>\n      <th>Profession_Doctor</th>\n      <th>Profession_Engineer</th>\n      <th>Profession_Entertainment</th>\n      <th>Profession_Executive</th>\n      <th>Profession_Healthcare</th>\n      <th>Profession_Homemaker</th>\n      <th>Profession_Lawyer</th>\n      <th>Profession_Marketing</th>\n      <th>Profession_others</th>\n    </tr>\n  </thead>\n  <tbody>\n    <tr>\n      <th>0</th>\n      <td>968</td>\n      <td>969</td>\n      <td>1</td>\n      <td>32</td>\n      <td>186897</td>\n      <td>Healthcare</td>\n      <td>1</td>\n      <td>7</td>\n      <td>0.0</td>\n      <td>0.0</td>\n      <td>0.0</td>\n      <td>0.0</td>\n      <td>0.0</td>\n      <td>1.0</td>\n      <td>0.0</td>\n      <td>0.0</td>\n      <td>0.0</td>\n      <td>0.0</td>\n    </tr>\n    <tr>\n      <th>1</th>\n      <td>240</td>\n      <td>241</td>\n      <td>1</td>\n      <td>92</td>\n      <td>83000</td>\n      <td>Executive</td>\n      <td>1</td>\n      <td>5</td>\n      <td>0.0</td>\n      <td>0.0</td>\n      <td>0.0</td>\n      <td>0.0</td>\n      <td>1.0</td>\n      <td>0.0</td>\n      <td>0.0</td>\n      <td>0.0</td>\n      <td>0.0</td>\n      <td>0.0</td>\n    </tr>\n    <tr>\n      <th>2</th>\n      <td>819</td>\n      <td>820</td>\n      <td>0</td>\n      <td>19</td>\n      <td>117477</td>\n      <td>Healthcare</td>\n      <td>6</td>\n      <td>7</td>\n      <td>0.0</td>\n      <td>0.0</td>\n      <td>0.0</td>\n      <td>0.0</td>\n      <td>0.0</td>\n      <td>1.0</td>\n      <td>0.0</td>\n      <td>0.0</td>\n      <td>0.0</td>\n      <td>0.0</td>\n    </tr>\n    <tr>\n      <th>3</th>\n      <td>692</td>\n      <td>693</td>\n      <td>1</td>\n      <td>83</td>\n      <td>132005</td>\n      <td>Entertainment</td>\n      <td>0</td>\n      <td>5</td>\n      <td>0.0</td>\n      <td>0.0</td>\n      <td>0.0</td>\n      <td>1.0</td>\n      <td>0.0</td>\n      <td>0.0</td>\n      <td>0.0</td>\n      <td>0.0</td>\n      <td>0.0</td>\n      <td>0.0</td>\n    </tr>\n    <tr>\n      <th>4</th>\n      <td>420</td>\n      <td>421</td>\n      <td>1</td>\n      <td>89</td>\n      <td>122430</td>\n      <td>Healthcare</td>\n      <td>1</td>\n      <td>1</td>\n      <td>0.0</td>\n      <td>0.0</td>\n      <td>0.0</td>\n      <td>0.0</td>\n      <td>0.0</td>\n      <td>1.0</td>\n      <td>0.0</td>\n      <td>0.0</td>\n      <td>0.0</td>\n      <td>0.0</td>\n    </tr>\n  </tbody>\n</table>\n</div>"
     },
     "execution_count": 99,
     "metadata": {},
     "output_type": "execute_result"
    }
   ],
   "source": [
    "X_train_enc.head()"
   ]
  },
  {
   "cell_type": "code",
   "execution_count": 100,
   "metadata": {
    "tags": [],
    "ExecuteTime": {
     "end_time": "2024-03-13T13:24:36.910390Z",
     "start_time": "2024-03-13T13:24:36.900167Z"
    }
   },
   "outputs": [],
   "source": [
    "#encoded profession for testing data\n",
    "y=X_test[['Profession']]\n",
    "test_data=pd.DataFrame(train_encoded.transform(y).toarray(),columns=train_encoded.get_feature_names_out())\n",
    "X_test=X_test.reset_index()\n",
    "X_test_enc=pd.concat([X_test,test_data], axis=1)"
   ]
  },
  {
   "cell_type": "code",
   "execution_count": 101,
   "metadata": {
    "ExecuteTime": {
     "end_time": "2024-03-13T13:24:36.918532Z",
     "start_time": "2024-03-13T13:24:36.911040Z"
    }
   },
   "outputs": [
    {
     "data": {
      "text/plain": "   index  CustomerID  Gender  Age  Annual Income ($)  Profession  \\\n0   1860        1861       1   32             104494  Healthcare   \n1    353         354       1   23             181760  Healthcare   \n2   1333        1334       0   97             133614      Artist   \n3    905         906       0   66             118385  Healthcare   \n4   1289        1290       0   75              86297   Executive   \n\n   Work Experience  Family Size  Profession_Artist  Profession_Doctor  \\\n0                6            4                0.0                0.0   \n1               14            3                0.0                0.0   \n2                7            4                1.0                0.0   \n3               10            3                0.0                0.0   \n4                9            4                0.0                0.0   \n\n   Profession_Engineer  Profession_Entertainment  Profession_Executive  \\\n0                  0.0                       0.0                   0.0   \n1                  0.0                       0.0                   0.0   \n2                  0.0                       0.0                   0.0   \n3                  0.0                       0.0                   0.0   \n4                  0.0                       0.0                   1.0   \n\n   Profession_Healthcare  Profession_Homemaker  Profession_Lawyer  \\\n0                    1.0                   0.0                0.0   \n1                    1.0                   0.0                0.0   \n2                    0.0                   0.0                0.0   \n3                    1.0                   0.0                0.0   \n4                    0.0                   0.0                0.0   \n\n   Profession_Marketing  Profession_others  \n0                   0.0                0.0  \n1                   0.0                0.0  \n2                   0.0                0.0  \n3                   0.0                0.0  \n4                   0.0                0.0  ",
      "text/html": "<div>\n<style scoped>\n    .dataframe tbody tr th:only-of-type {\n        vertical-align: middle;\n    }\n\n    .dataframe tbody tr th {\n        vertical-align: top;\n    }\n\n    .dataframe thead th {\n        text-align: right;\n    }\n</style>\n<table border=\"1\" class=\"dataframe\">\n  <thead>\n    <tr style=\"text-align: right;\">\n      <th></th>\n      <th>index</th>\n      <th>CustomerID</th>\n      <th>Gender</th>\n      <th>Age</th>\n      <th>Annual Income ($)</th>\n      <th>Profession</th>\n      <th>Work Experience</th>\n      <th>Family Size</th>\n      <th>Profession_Artist</th>\n      <th>Profession_Doctor</th>\n      <th>Profession_Engineer</th>\n      <th>Profession_Entertainment</th>\n      <th>Profession_Executive</th>\n      <th>Profession_Healthcare</th>\n      <th>Profession_Homemaker</th>\n      <th>Profession_Lawyer</th>\n      <th>Profession_Marketing</th>\n      <th>Profession_others</th>\n    </tr>\n  </thead>\n  <tbody>\n    <tr>\n      <th>0</th>\n      <td>1860</td>\n      <td>1861</td>\n      <td>1</td>\n      <td>32</td>\n      <td>104494</td>\n      <td>Healthcare</td>\n      <td>6</td>\n      <td>4</td>\n      <td>0.0</td>\n      <td>0.0</td>\n      <td>0.0</td>\n      <td>0.0</td>\n      <td>0.0</td>\n      <td>1.0</td>\n      <td>0.0</td>\n      <td>0.0</td>\n      <td>0.0</td>\n      <td>0.0</td>\n    </tr>\n    <tr>\n      <th>1</th>\n      <td>353</td>\n      <td>354</td>\n      <td>1</td>\n      <td>23</td>\n      <td>181760</td>\n      <td>Healthcare</td>\n      <td>14</td>\n      <td>3</td>\n      <td>0.0</td>\n      <td>0.0</td>\n      <td>0.0</td>\n      <td>0.0</td>\n      <td>0.0</td>\n      <td>1.0</td>\n      <td>0.0</td>\n      <td>0.0</td>\n      <td>0.0</td>\n      <td>0.0</td>\n    </tr>\n    <tr>\n      <th>2</th>\n      <td>1333</td>\n      <td>1334</td>\n      <td>0</td>\n      <td>97</td>\n      <td>133614</td>\n      <td>Artist</td>\n      <td>7</td>\n      <td>4</td>\n      <td>1.0</td>\n      <td>0.0</td>\n      <td>0.0</td>\n      <td>0.0</td>\n      <td>0.0</td>\n      <td>0.0</td>\n      <td>0.0</td>\n      <td>0.0</td>\n      <td>0.0</td>\n      <td>0.0</td>\n    </tr>\n    <tr>\n      <th>3</th>\n      <td>905</td>\n      <td>906</td>\n      <td>0</td>\n      <td>66</td>\n      <td>118385</td>\n      <td>Healthcare</td>\n      <td>10</td>\n      <td>3</td>\n      <td>0.0</td>\n      <td>0.0</td>\n      <td>0.0</td>\n      <td>0.0</td>\n      <td>0.0</td>\n      <td>1.0</td>\n      <td>0.0</td>\n      <td>0.0</td>\n      <td>0.0</td>\n      <td>0.0</td>\n    </tr>\n    <tr>\n      <th>4</th>\n      <td>1289</td>\n      <td>1290</td>\n      <td>0</td>\n      <td>75</td>\n      <td>86297</td>\n      <td>Executive</td>\n      <td>9</td>\n      <td>4</td>\n      <td>0.0</td>\n      <td>0.0</td>\n      <td>0.0</td>\n      <td>0.0</td>\n      <td>1.0</td>\n      <td>0.0</td>\n      <td>0.0</td>\n      <td>0.0</td>\n      <td>0.0</td>\n      <td>0.0</td>\n    </tr>\n  </tbody>\n</table>\n</div>"
     },
     "execution_count": 101,
     "metadata": {},
     "output_type": "execute_result"
    }
   ],
   "source": [
    "X_test_enc.head()"
   ]
  },
  {
   "cell_type": "code",
   "execution_count": 102,
   "metadata": {
    "tags": [],
    "ExecuteTime": {
     "end_time": "2024-03-13T13:24:36.933759Z",
     "start_time": "2024-03-13T13:24:36.914976Z"
    }
   },
   "outputs": [
    {
     "data": {
      "text/plain": "Index(['index', 'CustomerID', 'Gender', 'Age', 'Annual Income ($)',\n       'Profession', 'Work Experience', 'Family Size', 'Profession_Artist',\n       'Profession_Doctor', 'Profession_Engineer', 'Profession_Entertainment',\n       'Profession_Executive', 'Profession_Healthcare', 'Profession_Homemaker',\n       'Profession_Lawyer', 'Profession_Marketing', 'Profession_others'],\n      dtype='object')"
     },
     "execution_count": 102,
     "metadata": {},
     "output_type": "execute_result"
    }
   ],
   "source": [
    "X_train_enc.columns"
   ]
  },
  {
   "cell_type": "code",
   "execution_count": 103,
   "metadata": {
    "tags": [],
    "ExecuteTime": {
     "end_time": "2024-03-13T13:24:36.948074Z",
     "start_time": "2024-03-13T13:24:36.921251Z"
    }
   },
   "outputs": [
    {
     "name": "stdout",
     "output_type": "stream",
     "text": [
      "<class 'pandas.core.frame.DataFrame'>\n",
      "RangeIndex: 1600 entries, 0 to 1599\n",
      "Data columns (total 18 columns):\n",
      " #   Column                    Non-Null Count  Dtype  \n",
      "---  ------                    --------------  -----  \n",
      " 0   index                     1600 non-null   int64  \n",
      " 1   CustomerID                1600 non-null   int64  \n",
      " 2   Gender                    1600 non-null   int64  \n",
      " 3   Age                       1600 non-null   int64  \n",
      " 4   Annual Income ($)         1600 non-null   int64  \n",
      " 5   Profession                1600 non-null   object \n",
      " 6   Work Experience           1600 non-null   int64  \n",
      " 7   Family Size               1600 non-null   int64  \n",
      " 8   Profession_Artist         1600 non-null   float64\n",
      " 9   Profession_Doctor         1600 non-null   float64\n",
      " 10  Profession_Engineer       1600 non-null   float64\n",
      " 11  Profession_Entertainment  1600 non-null   float64\n",
      " 12  Profession_Executive      1600 non-null   float64\n",
      " 13  Profession_Healthcare     1600 non-null   float64\n",
      " 14  Profession_Homemaker      1600 non-null   float64\n",
      " 15  Profession_Lawyer         1600 non-null   float64\n",
      " 16  Profession_Marketing      1600 non-null   float64\n",
      " 17  Profession_others         1600 non-null   float64\n",
      "dtypes: float64(10), int64(7), object(1)\n",
      "memory usage: 225.1+ KB\n"
     ]
    }
   ],
   "source": [
    "X_train_enc.info()"
   ]
  },
  {
   "cell_type": "code",
   "execution_count": 104,
   "metadata": {
    "tags": [],
    "ExecuteTime": {
     "end_time": "2024-03-13T13:24:36.970387Z",
     "start_time": "2024-03-13T13:24:36.925659Z"
    }
   },
   "outputs": [],
   "source": [
    "X_train_enc=X_train_enc[['Gender', 'Age', 'Annual Income ($)','Work Experience', 'Family Size', 'Profession_Artist',\n",
    "                         'Profession_Doctor', 'Profession_Engineer', 'Profession_Entertainment',\n",
    "                         'Profession_Executive', 'Profession_Healthcare', 'Profession_Homemaker',\n",
    "                         'Profession_Lawyer', 'Profession_Marketing', 'Profession_others']]\n",
    "X_test_enc=X_test_enc[['Gender', 'Age', 'Annual Income ($)','Work Experience', 'Family Size', 'Profession_Artist',\n",
    "                         'Profession_Doctor', 'Profession_Engineer', 'Profession_Entertainment',\n",
    "                         'Profession_Executive', 'Profession_Healthcare', 'Profession_Homemaker',\n",
    "                         'Profession_Lawyer', 'Profession_Marketing', 'Profession_others']]"
   ]
  },
  {
   "cell_type": "code",
   "execution_count": 105,
   "metadata": {
    "ExecuteTime": {
     "end_time": "2024-03-13T13:24:36.984468Z",
     "start_time": "2024-03-13T13:24:36.939319Z"
    }
   },
   "outputs": [],
   "source": [
    "import torch\n",
    "import torch.nn as nn\n",
    " \n",
    "# Define the model\n",
    "model = nn.Sequential(\n",
    "    nn.Linear(15, 16),\n",
    "    nn.Sigmoid(),\n",
    "    nn.Linear(16, 15),\n",
    "    nn.Sigmoid(),\n",
    "    nn.Linear(15, 1),\n",
    ")"
   ]
  },
  {
   "cell_type": "code",
   "execution_count": 106,
   "metadata": {
    "tags": [],
    "ExecuteTime": {
     "end_time": "2024-03-13T13:24:37.045432Z",
     "start_time": "2024-03-13T13:24:36.975698Z"
    }
   },
   "outputs": [],
   "source": [
    "import torch.nn as nn\n",
    "import torch.optim as optim\n",
    " \n",
    "# loss function and optimizer\n",
    "loss_fn = nn.MSELoss()  # mean square error\n",
    "optimizer = optim.Adam(model.parameters(), lr=0.0001)"
   ]
  },
  {
   "cell_type": "code",
   "execution_count": 107,
   "metadata": {
    "tags": [],
    "ExecuteTime": {
     "end_time": "2024-03-13T13:24:37.058882Z",
     "start_time": "2024-03-13T13:24:37.047836Z"
    }
   },
   "outputs": [],
   "source": [
    "#data preparation\n",
    "X_train = torch.tensor(X_train_enc.values)\n",
    "X_train = torch.tensor(X_train, dtype=torch.float32)\n",
    "y_train = torch.tensor(y_train.values).reshape(-1, 1)\n",
    "y_train = torch.tensor(y_train, dtype=torch.float32)\n",
    "\n",
    "X_test = torch.tensor(X_test_enc.values)\n",
    "X_test = torch.tensor(X_test, dtype=torch.float32)\n",
    "y_test = torch.tensor(y_test.values).reshape(-1, 1)\n",
    "y_test = torch.tensor(y_test, dtype=torch.float32)"
   ]
  },
  {
   "cell_type": "code",
   "execution_count": 108,
   "metadata": {
    "tags": [],
    "ExecuteTime": {
     "end_time": "2024-03-13T13:24:37.069819Z",
     "start_time": "2024-03-13T13:24:37.060964Z"
    }
   },
   "outputs": [
    {
     "data": {
      "text/plain": "torch.Size([1600, 1])"
     },
     "execution_count": 108,
     "metadata": {},
     "output_type": "execute_result"
    }
   ],
   "source": [
    "y_train.shape"
   ]
  },
  {
   "cell_type": "code",
   "execution_count": 109,
   "metadata": {
    "tags": [],
    "ExecuteTime": {
     "end_time": "2024-03-13T13:24:41.903144Z",
     "start_time": "2024-03-13T13:24:37.067613Z"
    }
   },
   "outputs": [
    {
     "data": {
      "text/plain": "<All keys matched successfully>"
     },
     "execution_count": 109,
     "metadata": {},
     "output_type": "execute_result"
    }
   ],
   "source": [
    "import tqdm\n",
    "import copy\n",
    "# training parameters\n",
    "n_epochs = 100   # number of epochs to run\n",
    "batch_size = 10  # size of each batch\n",
    "batch_start = torch.arange(0, len(X_train), batch_size)\n",
    " \n",
    "# Hold the best model\n",
    "best_mse = np.inf   # init to infinity\n",
    "best_weights = None\n",
    "history = []\n",
    " \n",
    "# training loop\n",
    "for epoch in range(n_epochs):\n",
    "    model.train()\n",
    "    with tqdm.tqdm(batch_start, unit=\"batch\", mininterval=0, disable=True) as bar:\n",
    "        bar.set_description(f\"Epoch {epoch}\")\n",
    "        for start in bar:\n",
    "            # take a batch\n",
    "            X_batch = X_train[start:start+batch_size]\n",
    "            y_batch = y_train[start:start+batch_size]\n",
    "            # forward pass\n",
    "            y_pred = model(X_batch)\n",
    "            loss = loss_fn(y_pred, y_batch)\n",
    "            # backward pass\n",
    "            optimizer.zero_grad()\n",
    "            loss.backward()\n",
    "            # update weights\n",
    "            optimizer.step()\n",
    "            # print progress\n",
    "            bar.set_postfix(mse=float(loss))\n",
    "    # evaluate accuracy at end of each epoch\n",
    "    model.eval()\n",
    "    y_pred = model(X_test)\n",
    "    mse = loss_fn(y_pred, y_test)\n",
    "    mse = float(mse)\n",
    "    history.append(mse)\n",
    "    if mse < best_mse:\n",
    "        best_mse = mse\n",
    "        best_weights = copy.deepcopy(model.state_dict())\n",
    " \n",
    "# restore model and return best accuracy\n",
    "model.load_state_dict(best_weights)"
   ]
  },
  {
   "cell_type": "code",
   "execution_count": 110,
   "metadata": {
    "ExecuteTime": {
     "end_time": "2024-03-13T13:24:41.966234Z",
     "start_time": "2024-03-13T13:24:41.910368Z"
    }
   },
   "outputs": [
    {
     "name": "stdout",
     "output_type": "stream",
     "text": [
      "MSE: 1498.54\n",
      "RMSE: 38.71\n"
     ]
    },
    {
     "data": {
      "text/plain": "<Figure size 640x480 with 1 Axes>",
      "image/png": "[encoded data removed]"
     },
     "metadata": {},
     "output_type": "display_data"
    }
   ],
   "source": [
    "import matplotlib.pyplot as plt\n",
    "print(\"MSE: %.2f\" % best_mse)\n",
    "print(\"RMSE: %.2f\" % np.sqrt(best_mse))\n",
    "plt.plot(history)\n",
    "plt.show()"
   ]
  },
  {
   "cell_type": "code",
   "execution_count": 111,
   "metadata": {
    "tags": [],
    "ExecuteTime": {
     "end_time": "2024-03-13T13:24:41.973536Z",
     "start_time": "2024-03-13T13:24:41.965079Z"
    }
   },
   "outputs": [
    {
     "data": {
      "text/plain": "tensor(-0.9529)"
     },
     "execution_count": 111,
     "metadata": {},
     "output_type": "execute_result"
    }
   ],
   "source": [
    "from torcheval.metrics import R2Score\n",
    "metric = R2Score()\n",
    "metric.update(y_pred, y_test)\n",
    "metric.compute()"
   ]
  },
  {
   "cell_type": "code",
   "execution_count": 111,
   "metadata": {
    "ExecuteTime": {
     "end_time": "2024-03-13T13:24:41.974998Z",
     "start_time": "2024-03-13T13:24:41.972704Z"
    }
   },
   "outputs": [],
   "source": []
  }
 ],
 "metadata": {
  "kernelspec": {
   "display_name": "Python 3 (ipykernel)",
   "language": "python",
   "name": "python3"
  },
  "language_info": {
   "codemirror_mode": {
    "name": "ipython",
    "version": 3
   },
   "file_extension": ".py",
   "mimetype": "text/x-python",
   "name": "python",
   "nbconvert_exporter": "python",
   "pygments_lexer": "ipython3",
   "version": "3.11.4"
  }
 },
 "nbformat": 4,
 "nbformat_minor": 4
}
