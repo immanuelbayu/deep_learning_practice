{
 "cells": [
  {
   "cell_type": "code",
   "execution_count": 31,
   "id": "initial_id",
   "metadata": {
    "collapsed": true,
    "ExecuteTime": {
     "end_time": "2024-04-03T13:41:37.945786Z",
     "start_time": "2024-04-03T13:41:37.945168Z"
    }
   },
   "outputs": [],
   "source": [
    "import warnings\n",
    "import pandas as pd\n",
    "from sklearn.model_selection import train_test_split\n",
    "from sklearn.neural_network import MLPRegressor\n",
    "from sklearn import metrics\n",
    "from sklearn.metrics import r2_score\n",
    "\n",
    "warnings.filterwarnings('ignore')"
   ]
  },
  {
   "cell_type": "code",
   "execution_count": 32,
   "id": "c9b5ca71c2d86f7a",
   "metadata": {
    "collapsed": false,
    "ExecuteTime": {
     "end_time": "2024-04-03T13:41:40.128225Z",
     "start_time": "2024-04-03T13:41:38.632663Z"
    }
   },
   "outputs": [],
   "source": [
    "df=pd.read_csv('fraud_test.csv')"
   ]
  },
  {
   "cell_type": "code",
   "execution_count": 33,
   "id": "dd5784e03ad5cca4",
   "metadata": {
    "collapsed": false,
    "ExecuteTime": {
     "end_time": "2024-04-03T13:41:40.144690Z",
     "start_time": "2024-04-03T13:41:40.132050Z"
    }
   },
   "outputs": [
    {
     "data": {
      "text/plain": "   Unnamed: 0 trans_date_trans_time        cc_num  \\\n0           0      21/06/2020 12:14  2.291160e+15   \n1           1      21/06/2020 12:14  3.573030e+15   \n2           2      21/06/2020 12:14  3.598220e+15   \n3           3      21/06/2020 12:15  3.591920e+15   \n4           4      21/06/2020 12:15  3.526830e+15   \n\n                               merchant        category    amt   first  \\\n0                 fraud_Kirlin and Sons   personal_care   2.86    Jeff   \n1                  fraud_Sporer-Keebler   personal_care  29.84  Joanne   \n2  fraud_Swaniawski, Nitzsche and Welch  health_fitness  41.28  Ashley   \n3                     fraud_Haley Group        misc_pos  60.05   Brian   \n4                 fraud_Johnston-Casper          travel   3.19  Nathan   \n\n       last gender                       street  ...      lat      long  \\\n0   Elliott      M            351 Darlene Green  ...  33.9659  -80.9355   \n1  Williams      F             3638 Marsh Union  ...  40.3207 -110.4360   \n2     Lopez      F         9333 Valentine Point  ...  40.6729  -73.5365   \n3  Williams      M  32941 Krystal Mill Apt. 552  ...  28.5697  -80.8191   \n4    Massey      M     5783 Evan Roads Apt. 465  ...  44.2529  -85.0170   \n\n   city_pop                     job         dob  \\\n0    333497     Mechanical engineer  19/03/1968   \n1       302  Sales professional, IT  17/01/1990   \n2     34496       Librarian, public  21/10/1970   \n3     54767            Set designer  25/07/1987   \n4      1126      Furniture designer  06/07/1955   \n\n                          trans_num   unix_time  merch_lat  merch_long  \\\n0  2da90c7d74bd46a0caf3777415b3ebd3  1371816865  33.986391  -81.200714   \n1  324cc204407e99f51b0d6ca0055005e7  1371816873  39.450498 -109.960431   \n2  c81755dbbbea9d5c77f094348a7579be  1371816893  40.495810  -74.196111   \n3  2159175b9efe66dc301f149d3d5abf8c  1371816915  28.812398  -80.883061   \n4  57ff021bd3f328f8738bb535c302a31b  1371816917  44.959148  -85.884734   \n\n   is_fraud  \n0         0  \n1         0  \n2         0  \n3         0  \n4         0  \n\n[5 rows x 23 columns]",
      "text/html": "<div>\n<style scoped>\n    .dataframe tbody tr th:only-of-type {\n        vertical-align: middle;\n    }\n\n    .dataframe tbody tr th {\n        vertical-align: top;\n    }\n\n    .dataframe thead th {\n        text-align: right;\n    }\n</style>\n<table border=\"1\" class=\"dataframe\">\n  <thead>\n    <tr style=\"text-align: right;\">\n      <th></th>\n      <th>Unnamed: 0</th>\n      <th>trans_date_trans_time</th>\n      <th>cc_num</th>\n      <th>merchant</th>\n      <th>category</th>\n      <th>amt</th>\n      <th>first</th>\n      <th>last</th>\n      <th>gender</th>\n      <th>street</th>\n      <th>...</th>\n      <th>lat</th>\n      <th>long</th>\n      <th>city_pop</th>\n      <th>job</th>\n      <th>dob</th>\n      <th>trans_num</th>\n      <th>unix_time</th>\n      <th>merch_lat</th>\n      <th>merch_long</th>\n      <th>is_fraud</th>\n    </tr>\n  </thead>\n  <tbody>\n    <tr>\n      <th>0</th>\n      <td>0</td>\n      <td>21/06/2020 12:14</td>\n      <td>2.291160e+15</td>\n      <td>fraud_Kirlin and Sons</td>\n      <td>personal_care</td>\n      <td>2.86</td>\n      <td>Jeff</td>\n      <td>Elliott</td>\n      <td>M</td>\n      <td>351 Darlene Green</td>\n      <td>...</td>\n      <td>33.9659</td>\n      <td>-80.9355</td>\n      <td>333497</td>\n      <td>Mechanical engineer</td>\n      <td>19/03/1968</td>\n      <td>2da90c7d74bd46a0caf3777415b3ebd3</td>\n      <td>1371816865</td>\n      <td>33.986391</td>\n      <td>-81.200714</td>\n      <td>0</td>\n    </tr>\n    <tr>\n      <th>1</th>\n      <td>1</td>\n      <td>21/06/2020 12:14</td>\n      <td>3.573030e+15</td>\n      <td>fraud_Sporer-Keebler</td>\n      <td>personal_care</td>\n      <td>29.84</td>\n      <td>Joanne</td>\n      <td>Williams</td>\n      <td>F</td>\n      <td>3638 Marsh Union</td>\n      <td>...</td>\n      <td>40.3207</td>\n      <td>-110.4360</td>\n      <td>302</td>\n      <td>Sales professional, IT</td>\n      <td>17/01/1990</td>\n      <td>324cc204407e99f51b0d6ca0055005e7</td>\n      <td>1371816873</td>\n      <td>39.450498</td>\n      <td>-109.960431</td>\n      <td>0</td>\n    </tr>\n    <tr>\n      <th>2</th>\n      <td>2</td>\n      <td>21/06/2020 12:14</td>\n      <td>3.598220e+15</td>\n      <td>fraud_Swaniawski, Nitzsche and Welch</td>\n      <td>health_fitness</td>\n      <td>41.28</td>\n      <td>Ashley</td>\n      <td>Lopez</td>\n      <td>F</td>\n      <td>9333 Valentine Point</td>\n      <td>...</td>\n      <td>40.6729</td>\n      <td>-73.5365</td>\n      <td>34496</td>\n      <td>Librarian, public</td>\n      <td>21/10/1970</td>\n      <td>c81755dbbbea9d5c77f094348a7579be</td>\n      <td>1371816893</td>\n      <td>40.495810</td>\n      <td>-74.196111</td>\n      <td>0</td>\n    </tr>\n    <tr>\n      <th>3</th>\n      <td>3</td>\n      <td>21/06/2020 12:15</td>\n      <td>3.591920e+15</td>\n      <td>fraud_Haley Group</td>\n      <td>misc_pos</td>\n      <td>60.05</td>\n      <td>Brian</td>\n      <td>Williams</td>\n      <td>M</td>\n      <td>32941 Krystal Mill Apt. 552</td>\n      <td>...</td>\n      <td>28.5697</td>\n      <td>-80.8191</td>\n      <td>54767</td>\n      <td>Set designer</td>\n      <td>25/07/1987</td>\n      <td>2159175b9efe66dc301f149d3d5abf8c</td>\n      <td>1371816915</td>\n      <td>28.812398</td>\n      <td>-80.883061</td>\n      <td>0</td>\n    </tr>\n    <tr>\n      <th>4</th>\n      <td>4</td>\n      <td>21/06/2020 12:15</td>\n      <td>3.526830e+15</td>\n      <td>fraud_Johnston-Casper</td>\n      <td>travel</td>\n      <td>3.19</td>\n      <td>Nathan</td>\n      <td>Massey</td>\n      <td>M</td>\n      <td>5783 Evan Roads Apt. 465</td>\n      <td>...</td>\n      <td>44.2529</td>\n      <td>-85.0170</td>\n      <td>1126</td>\n      <td>Furniture designer</td>\n      <td>06/07/1955</td>\n      <td>57ff021bd3f328f8738bb535c302a31b</td>\n      <td>1371816917</td>\n      <td>44.959148</td>\n      <td>-85.884734</td>\n      <td>0</td>\n    </tr>\n  </tbody>\n</table>\n<p>5 rows × 23 columns</p>\n</div>"
     },
     "execution_count": 33,
     "metadata": {},
     "output_type": "execute_result"
    }
   ],
   "source": [
    "df.head()"
   ]
  },
  {
   "cell_type": "code",
   "execution_count": 34,
   "id": "bd4f92560e1703e6",
   "metadata": {
    "collapsed": false,
    "ExecuteTime": {
     "end_time": "2024-04-03T13:41:40.735849Z",
     "start_time": "2024-04-03T13:41:40.730785Z"
    }
   },
   "outputs": [
    {
     "data": {
      "text/plain": "(555719, 23)"
     },
     "execution_count": 34,
     "metadata": {},
     "output_type": "execute_result"
    }
   ],
   "source": [
    "df.shape"
   ]
  },
  {
   "cell_type": "code",
   "execution_count": 35,
   "id": "8d46f2744598d8fb",
   "metadata": {
    "collapsed": false,
    "ExecuteTime": {
     "end_time": "2024-04-03T13:41:41.593369Z",
     "start_time": "2024-04-03T13:41:41.443911Z"
    }
   },
   "outputs": [
    {
     "name": "stdout",
     "output_type": "stream",
     "text": [
      "<class 'pandas.core.frame.DataFrame'>\n",
      "RangeIndex: 555719 entries, 0 to 555718\n",
      "Data columns (total 23 columns):\n",
      " #   Column                 Non-Null Count   Dtype  \n",
      "---  ------                 --------------   -----  \n",
      " 0   Unnamed: 0             555719 non-null  int64  \n",
      " 1   trans_date_trans_time  555719 non-null  object \n",
      " 2   cc_num                 555719 non-null  float64\n",
      " 3   merchant               555719 non-null  object \n",
      " 4   category               555719 non-null  object \n",
      " 5   amt                    555719 non-null  float64\n",
      " 6   first                  555719 non-null  object \n",
      " 7   last                   555719 non-null  object \n",
      " 8   gender                 555719 non-null  object \n",
      " 9   street                 555719 non-null  object \n",
      " 10  city                   555719 non-null  object \n",
      " 11  state                  555719 non-null  object \n",
      " 12  zip                    555719 non-null  int64  \n",
      " 13  lat                    555719 non-null  float64\n",
      " 14  long                   555719 non-null  float64\n",
      " 15  city_pop               555719 non-null  int64  \n",
      " 16  job                    555719 non-null  object \n",
      " 17  dob                    555719 non-null  object \n",
      " 18  trans_num              555719 non-null  object \n",
      " 19  unix_time              555719 non-null  int64  \n",
      " 20  merch_lat              555719 non-null  float64\n",
      " 21  merch_long             555719 non-null  float64\n",
      " 22  is_fraud               555719 non-null  int64  \n",
      "dtypes: float64(6), int64(5), object(12)\n",
      "memory usage: 97.5+ MB\n"
     ]
    }
   ],
   "source": [
    "df.info()"
   ]
  },
  {
   "cell_type": "code",
   "execution_count": 36,
   "id": "d429929e814e4575",
   "metadata": {
    "collapsed": false,
    "ExecuteTime": {
     "end_time": "2024-04-03T13:41:42.090892Z",
     "start_time": "2024-04-03T13:41:42.077819Z"
    }
   },
   "outputs": [
    {
     "data": {
      "text/plain": "Index(['Unnamed: 0', 'trans_date_trans_time', 'cc_num', 'merchant', 'category',\n       'amt', 'first', 'last', 'gender', 'street', 'city', 'state', 'zip',\n       'lat', 'long', 'city_pop', 'job', 'dob', 'trans_num', 'unix_time',\n       'merch_lat', 'merch_long', 'is_fraud'],\n      dtype='object')"
     },
     "execution_count": 36,
     "metadata": {},
     "output_type": "execute_result"
    }
   ],
   "source": [
    "df.columns"
   ]
  },
  {
   "cell_type": "code",
   "execution_count": 37,
   "id": "5257b441a799f27a",
   "metadata": {
    "collapsed": false,
    "ExecuteTime": {
     "end_time": "2024-04-03T13:41:42.919344Z",
     "start_time": "2024-04-03T13:41:42.885936Z"
    }
   },
   "outputs": [],
   "source": [
    "# Only prepare the numerical and target is_fraud\n",
    "df_input=df[['cc_num', 'amt']]\n",
    "df_target=df[['is_fraud']]\n",
    "\n",
    "# split training and testing data\n",
    "X_train, X_test, y_train, y_test = train_test_split(df_input, df_target, test_size=0.2, random_state=42)"
   ]
  },
  {
   "cell_type": "code",
   "execution_count": 38,
   "outputs": [],
   "source": [
    "# encode Gender\n",
    "train_encode={\"Gender\": {\"Male\":1,\"Female\" :0}}\n",
    "test_encode={\"Gender\": {\"Male\":1,\"Female\" :0}}\n",
    "\n",
    "X_train=X_train.replace(train_encode)\n",
    "X_test=X_test.replace(test_encode)"
   ],
   "metadata": {
    "collapsed": false,
    "ExecuteTime": {
     "end_time": "2024-04-03T13:41:43.819122Z",
     "start_time": "2024-04-03T13:41:43.814192Z"
    }
   },
   "id": "d1ac85012e961099"
  },
  {
   "cell_type": "code",
   "execution_count": 39,
   "outputs": [
    {
     "data": {
      "text/plain": "MLPRegressor(activation='logistic', hidden_layer_sizes=(8, 8), momentum=0.1,\n             random_state=42, solver='sgd')",
      "text/html": "<style>#sk-container-id-5 {color: black;}#sk-container-id-5 pre{padding: 0;}#sk-container-id-5 div.sk-toggleable {background-color: white;}#sk-container-id-5 label.sk-toggleable__label {cursor: pointer;display: block;width: 100%;margin-bottom: 0;padding: 0.3em;box-sizing: border-box;text-align: center;}#sk-container-id-5 label.sk-toggleable__label-arrow:before {content: \"▸\";float: left;margin-right: 0.25em;color: #696969;}#sk-container-id-5 label.sk-toggleable__label-arrow:hover:before {color: black;}#sk-container-id-5 div.sk-estimator:hover label.sk-toggleable__label-arrow:before {color: black;}#sk-container-id-5 div.sk-toggleable__content {max-height: 0;max-width: 0;overflow: hidden;text-align: left;background-color: #f0f8ff;}#sk-container-id-5 div.sk-toggleable__content pre {margin: 0.2em;color: black;border-radius: 0.25em;background-color: #f0f8ff;}#sk-container-id-5 input.sk-toggleable__control:checked~div.sk-toggleable__content {max-height: 200px;max-width: 100%;overflow: auto;}#sk-container-id-5 input.sk-toggleable__control:checked~label.sk-toggleable__label-arrow:before {content: \"▾\";}#sk-container-id-5 div.sk-estimator input.sk-toggleable__control:checked~label.sk-toggleable__label {background-color: #d4ebff;}#sk-container-id-5 div.sk-label input.sk-toggleable__control:checked~label.sk-toggleable__label {background-color: #d4ebff;}#sk-container-id-5 input.sk-hidden--visually {border: 0;clip: rect(1px 1px 1px 1px);clip: rect(1px, 1px, 1px, 1px);height: 1px;margin: -1px;overflow: hidden;padding: 0;position: absolute;width: 1px;}#sk-container-id-5 div.sk-estimator {font-family: monospace;background-color: #f0f8ff;border: 1px dotted black;border-radius: 0.25em;box-sizing: border-box;margin-bottom: 0.5em;}#sk-container-id-5 div.sk-estimator:hover {background-color: #d4ebff;}#sk-container-id-5 div.sk-parallel-item::after {content: \"\";width: 100%;border-bottom: 1px solid gray;flex-grow: 1;}#sk-container-id-5 div.sk-label:hover label.sk-toggleable__label {background-color: #d4ebff;}#sk-container-id-5 div.sk-serial::before {content: \"\";position: absolute;border-left: 1px solid gray;box-sizing: border-box;top: 0;bottom: 0;left: 50%;z-index: 0;}#sk-container-id-5 div.sk-serial {display: flex;flex-direction: column;align-items: center;background-color: white;padding-right: 0.2em;padding-left: 0.2em;position: relative;}#sk-container-id-5 div.sk-item {position: relative;z-index: 1;}#sk-container-id-5 div.sk-parallel {display: flex;align-items: stretch;justify-content: center;background-color: white;position: relative;}#sk-container-id-5 div.sk-item::before, #sk-container-id-5 div.sk-parallel-item::before {content: \"\";position: absolute;border-left: 1px solid gray;box-sizing: border-box;top: 0;bottom: 0;left: 50%;z-index: -1;}#sk-container-id-5 div.sk-parallel-item {display: flex;flex-direction: column;z-index: 1;position: relative;background-color: white;}#sk-container-id-5 div.sk-parallel-item:first-child::after {align-self: flex-end;width: 50%;}#sk-container-id-5 div.sk-parallel-item:last-child::after {align-self: flex-start;width: 50%;}#sk-container-id-5 div.sk-parallel-item:only-child::after {width: 0;}#sk-container-id-5 div.sk-dashed-wrapped {border: 1px dashed gray;margin: 0 0.4em 0.5em 0.4em;box-sizing: border-box;padding-bottom: 0.4em;background-color: white;}#sk-container-id-5 div.sk-label label {font-family: monospace;font-weight: bold;display: inline-block;line-height: 1.2em;}#sk-container-id-5 div.sk-label-container {text-align: center;}#sk-container-id-5 div.sk-container {/* jupyter's `normalize.less` sets `[hidden] { display: none; }` but bootstrap.min.css set `[hidden] { display: none !important; }` so we also need the `!important` here to be able to override the default hidden behavior on the sphinx rendered scikit-learn.org. See: https://github.com/scikit-learn/scikit-learn/issues/21755 */display: inline-block !important;position: relative;}#sk-container-id-5 div.sk-text-repr-fallback {display: none;}</style><div id=\"sk-container-id-5\" class=\"sk-top-container\"><div class=\"sk-text-repr-fallback\"><pre>MLPRegressor(activation=&#x27;logistic&#x27;, hidden_layer_sizes=(8, 8), momentum=0.1,\n             random_state=42, solver=&#x27;sgd&#x27;)</pre><b>In a Jupyter environment, please rerun this cell to show the HTML representation or trust the notebook. <br />On GitHub, the HTML representation is unable to render, please try loading this page with nbviewer.org.</b></div><div class=\"sk-container\" hidden><div class=\"sk-item\"><div class=\"sk-estimator sk-toggleable\"><input class=\"sk-toggleable__control sk-hidden--visually\" id=\"sk-estimator-id-5\" type=\"checkbox\" checked><label for=\"sk-estimator-id-5\" class=\"sk-toggleable__label sk-toggleable__label-arrow\">MLPRegressor</label><div class=\"sk-toggleable__content\"><pre>MLPRegressor(activation=&#x27;logistic&#x27;, hidden_layer_sizes=(8, 8), momentum=0.1,\n             random_state=42, solver=&#x27;sgd&#x27;)</pre></div></div></div></div></div>"
     },
     "execution_count": 39,
     "metadata": {},
     "output_type": "execute_result"
    }
   ],
   "source": [
    "model_reg = MLPRegressor( hidden_layer_sizes=(8,8),activation='logistic',solver='sgd',learning_rate_init=1e-3,random_state=42, momentum=0.1)\n",
    "#Sklearn cannot handle different activation function for each hidden\n",
    "model_reg.fit(X_train, y_train)"
   ],
   "metadata": {
    "collapsed": false,
    "ExecuteTime": {
     "end_time": "2024-04-03T13:41:47.629410Z",
     "start_time": "2024-04-03T13:41:44.540371Z"
    }
   },
   "id": "c82a93aa636355f3"
  },
  {
   "cell_type": "code",
   "execution_count": 40,
   "outputs": [],
   "source": [
    "train_result=model_reg.predict(X_train)\n"
   ],
   "metadata": {
    "collapsed": false,
    "ExecuteTime": {
     "end_time": "2024-04-03T13:41:48.973788Z",
     "start_time": "2024-04-03T13:41:48.855534Z"
    }
   },
   "id": "2ad75ee270e21fac"
  },
  {
   "cell_type": "code",
   "execution_count": 41,
   "outputs": [],
   "source": [
    "test_result=model_reg.predict(X_test)"
   ],
   "metadata": {
    "collapsed": false,
    "ExecuteTime": {
     "end_time": "2024-04-03T13:41:49.748544Z",
     "start_time": "2024-04-03T13:41:49.664483Z"
    }
   },
   "id": "8d245fc2727307f8"
  },
  {
   "cell_type": "code",
   "execution_count": 42,
   "outputs": [
    {
     "name": "stdout",
     "output_type": "stream",
     "text": [
      "R2 train:  0.0\n",
      "error_train:  0.007769840345727664\n",
      "R2 test:  0.0\n",
      "error_test:  0.007736357146418619\n"
     ]
    }
   ],
   "source": [
    "# Print the result\n",
    "print(\"R2 train: \",r2_score(train_result,y_train))\n",
    "print(\"error_train: \",metrics.mean_absolute_error(train_result,y_train))\n",
    "\n",
    "print(\"R2 test: \",r2_score(test_result,y_test))\n",
    "print(\"error_test: \",metrics.mean_absolute_error(test_result,y_test))"
   ],
   "metadata": {
    "collapsed": false,
    "ExecuteTime": {
     "end_time": "2024-04-03T13:41:50.369230Z",
     "start_time": "2024-04-03T13:41:50.357235Z"
    }
   },
   "id": "2d7d3083b983ec0f"
  }
 ],
 "metadata": {
  "kernelspec": {
   "display_name": "Python 3",
   "language": "python",
   "name": "python3"
  },
  "language_info": {
   "codemirror_mode": {
    "name": "ipython",
    "version": 2
   },
   "file_extension": ".py",
   "mimetype": "text/x-python",
   "name": "python",
   "nbconvert_exporter": "python",
   "pygments_lexer": "ipython2",
   "version": "2.7.6"
  }
 },
 "nbformat": 4,
 "nbformat_minor": 5
}
