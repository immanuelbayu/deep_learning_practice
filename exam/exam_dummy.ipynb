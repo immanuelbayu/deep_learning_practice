{
 "cells": [
  {
   "metadata": {
    "ExecuteTime": {
     "end_time": "2024-05-29T15:33:27.230566Z",
     "start_time": "2024-05-29T15:33:25.551129Z"
    }
   },
   "cell_type": "code",
   "source": [
    "import random\n",
    "import pandas as pd\n",
    "from transformers import BertTokenizer\n",
    "\n",
    "# Generate random positive and negative sentences\n",
    "def generate_random_sentences(num_samples):\n",
    "    positive_sentences = [\"I love BERT!\", \"BERT is amazing.\", \"I'm a fan of BERT.\", \"BERT makes me happy.\"]\n",
    "    negative_sentences = [\"I dislike BERT.\", \"BERT is not good.\", \"I'm not impressed with BERT.\", \"BERT disappoints me.\"]\n",
    "\n",
    "    random.seed(42)  # For reproducibility\n",
    "    random_samples = []\n",
    "    labels = []\n",
    "\n",
    "    for _ in range(num_samples):\n",
    "        sentiment = random.choice([0, 1])  # 0 for negative, 1 for positive\n",
    "        if sentiment == 0:\n",
    "            random_samples.append(random.choice(negative_sentences))\n",
    "            labels.append(0)\n",
    "        else:\n",
    "            random_samples.append(random.choice(positive_sentences))\n",
    "            labels.append(1)\n",
    "\n",
    "    return random_samples, labels\n",
    "\n",
    "# Generate the dataset\n",
    "train_texts, train_labels = generate_random_sentences(80)\n",
    "eval_texts, eval_labels = generate_random_sentences(20)\n",
    "\n",
    "# Create pandas DataFrames\n",
    "train_df = pd.DataFrame({'text': train_texts, 'label': train_labels})\n",
    "eval_df = pd.DataFrame({'text': eval_texts, 'label': eval_labels})\n",
    "\n",
    "# Save DataFrames to CSV files\n",
    "train_df.to_csv('train_dataset.csv', index=False)\n",
    "eval_df.to_csv('eval_dataset.csv', index=False)"
   ],
   "id": "8d8c7b94de4fab7f",
   "outputs": [],
   "execution_count": 1
  },
  {
   "metadata": {},
   "cell_type": "code",
   "outputs": [],
   "execution_count": null,
   "source": "",
   "id": "680b92056f12af06"
  }
 ],
 "metadata": {
  "kernelspec": {
   "display_name": "Python 3",
   "language": "python",
   "name": "python3"
  },
  "language_info": {
   "codemirror_mode": {
    "name": "ipython",
    "version": 2
   },
   "file_extension": ".py",
   "mimetype": "text/x-python",
   "name": "python",
   "nbconvert_exporter": "python",
   "pygments_lexer": "ipython2",
   "version": "2.7.6"
  }
 },
 "nbformat": 4,
 "nbformat_minor": 5
}
