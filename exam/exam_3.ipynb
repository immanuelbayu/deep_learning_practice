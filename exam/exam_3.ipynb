{
 "cells": [
  {
   "cell_type": "code",
   "id": "initial_id",
   "metadata": {
    "collapsed": true,
    "ExecuteTime": {
     "end_time": "2024-05-29T15:10:30.024931Z",
     "start_time": "2024-05-29T15:10:30.014339Z"
    }
   },
   "source": [
    "import numpy as np\n",
    "import pandas as pd\n",
    "import tensorflow as tf\n",
    "from transformers import BertTokenizer, TFBertForSequenceClassification\n",
    "from sklearn.metrics import accuracy_score, precision_recall_fscore_support\n",
    "from sklearn.model_selection import train_test_split"
   ],
   "outputs": [],
   "execution_count": 59
  },
  {
   "metadata": {
    "ExecuteTime": {
     "end_time": "2024-05-29T15:10:30.699157Z",
     "start_time": "2024-05-29T15:10:30.694771Z"
    }
   },
   "cell_type": "code",
   "source": [
    "# Create a simple custom dataset\n",
    "data = {\n",
    "    'text': [\n",
    "        'I love this movie, it is fantastic!',\n",
    "        'This film was terrible, I hated it.',\n",
    "        'An excellent movie with a great plot.',\n",
    "        'The worst movie I have ever seen.',\n",
    "        'Absolutely wonderful and thrilling!',\n",
    "        'Not good, I will not recommend it.',\n",
    "        'An outstanding performance by the actors.',\n",
    "        'A dull and boring movie.',\n",
    "        'A masterpiece of cinematography.',\n",
    "        'A complete waste of time.',\n",
    "    ],\n",
    "    'label': [1, 0, 1, 0, 1, 0, 1, 0, 1, 0]  # 1 for positive, 0 for negative\n",
    "}\n",
    "\n",
    "df = pd.DataFrame(data)"
   ],
   "id": "be263cecfff2358c",
   "outputs": [],
   "execution_count": 60
  },
  {
   "metadata": {
    "ExecuteTime": {
     "end_time": "2024-05-29T15:10:31.533107Z",
     "start_time": "2024-05-29T15:10:31.518833Z"
    }
   },
   "cell_type": "code",
   "source": [
    "# Split dataset into training and test sets\n",
    "train_texts, test_texts, train_labels, test_labels = train_test_split(\n",
    "    df['text'], df['label'], test_size=0.2, random_state=42\n",
    ")"
   ],
   "id": "e10107b239e12f3c",
   "outputs": [],
   "execution_count": 61
  },
  {
   "metadata": {
    "ExecuteTime": {
     "end_time": "2024-05-29T15:11:06.068323Z",
     "start_time": "2024-05-29T15:11:05.726770Z"
    }
   },
   "cell_type": "code",
   "source": [
    "# Initialize tokenizer\n",
    "tokenizer = BertTokenizer.from_pretrained('bert-base-uncased')"
   ],
   "id": "7155c13af269a329",
   "outputs": [],
   "execution_count": 65
  },
  {
   "metadata": {
    "ExecuteTime": {
     "end_time": "2024-05-29T15:21:26.786587Z",
     "start_time": "2024-05-29T15:21:26.780984Z"
    }
   },
   "cell_type": "code",
   "source": [
    "# Tokenization function\n",
    "def tokenize_function(texts):\n",
    "    return tokenizer(texts, padding=True, truncation=True, return_tensors='np')"
   ],
   "id": "f23bc5ceae430998",
   "outputs": [],
   "execution_count": 82
  },
  {
   "metadata": {
    "ExecuteTime": {
     "end_time": "2024-05-29T15:11:07.298276Z",
     "start_time": "2024-05-29T15:11:07.268869Z"
    }
   },
   "cell_type": "code",
   "source": [
    "# Tokenize datasets\n",
    "train_encodings = tokenize_function(train_texts.tolist())\n",
    "test_encodings = tokenize_function(test_texts.tolist())"
   ],
   "id": "a0017bc3cfe844e0",
   "outputs": [],
   "execution_count": 67
  },
  {
   "metadata": {
    "ExecuteTime": {
     "end_time": "2024-05-29T15:22:03.774522Z",
     "start_time": "2024-05-29T15:22:03.749740Z"
    }
   },
   "cell_type": "code",
   "source": [
    "# Convert to TensorFlow datasets\n",
    "train_dataset = tf.data.Dataset.from_tensor_slices((\n",
    "    {key: train_encodings[key] for key in train_encodings},\n",
    "    train_labels.values\n",
    "))\n",
    "\n",
    "test_dataset = tf.data.Dataset.from_tensor_slices((\n",
    "    {key: test_encodings[key] for key in test_encodings},\n",
    "    test_labels.values\n",
    "))"
   ],
   "id": "e903eee8f1edf149",
   "outputs": [],
   "execution_count": 83
  },
  {
   "metadata": {
    "ExecuteTime": {
     "end_time": "2024-05-29T15:22:04.600517Z",
     "start_time": "2024-05-29T15:22:04.590382Z"
    }
   },
   "cell_type": "code",
   "source": [
    "# Data collator\n",
    "batch_size = 4\n",
    "train_dataset = train_dataset.shuffle(1000).batch(batch_size).prefetch(tf.data.experimental.AUTOTUNE)\n",
    "test_dataset = test_dataset.batch(batch_size).prefetch(tf.data.experimental.AUTOTUNE)"
   ],
   "id": "a8d9b8b45153212a",
   "outputs": [],
   "execution_count": 84
  },
  {
   "metadata": {
    "ExecuteTime": {
     "end_time": "2024-05-29T15:22:07.525748Z",
     "start_time": "2024-05-29T15:22:05.446590Z"
    }
   },
   "cell_type": "code",
   "source": [
    "# Load pre-trained model\n",
    "model = TFBertForSequenceClassification.from_pretrained('bert-base-uncased', num_labels=2)"
   ],
   "id": "e3c22bf2a4e135f6",
   "outputs": [
    {
     "name": "stderr",
     "output_type": "stream",
     "text": [
      "All PyTorch model weights were used when initializing TFBertForSequenceClassification.\n",
      "\n",
      "Some weights or buffers of the TF 2.0 model TFBertForSequenceClassification were not initialized from the PyTorch model and are newly initialized: ['classifier.weight', 'classifier.bias']\n",
      "You should probably TRAIN this model on a down-stream task to be able to use it for predictions and inference.\n"
     ]
    }
   ],
   "execution_count": 85
  },
  {
   "metadata": {
    "ExecuteTime": {
     "end_time": "2024-05-29T15:22:08.673751Z",
     "start_time": "2024-05-29T15:22:08.550922Z"
    }
   },
   "cell_type": "code",
   "source": [
    "# Compile model\n",
    "model.compile(optimizer=tf.keras.optimizers.Adam(learning_rate=2e-5),\n",
    "              loss=tf.keras.losses.SparseCategoricalCrossentropy(from_logits=True),\n",
    "              metrics=['accuracy'])"
   ],
   "id": "c8ec9defaaa5204e",
   "outputs": [
    {
     "ename": "RecursionError",
     "evalue": "maximum recursion depth exceeded in comparison",
     "output_type": "error",
     "traceback": [
      "\u001B[0;31m---------------------------------------------------------------------------\u001B[0m",
      "\u001B[0;31mRecursionError\u001B[0m                            Traceback (most recent call last)",
      "Cell \u001B[0;32mIn[86], line 2\u001B[0m\n\u001B[1;32m      1\u001B[0m \u001B[38;5;66;03m# Compile model\u001B[39;00m\n\u001B[0;32m----> 2\u001B[0m model\u001B[38;5;241m.\u001B[39mcompile(optimizer\u001B[38;5;241m=\u001B[39m\u001B[43mtf\u001B[49m\u001B[38;5;241;43m.\u001B[39;49m\u001B[43mkeras\u001B[49m\u001B[38;5;241;43m.\u001B[39;49m\u001B[43moptimizers\u001B[49m\u001B[38;5;241m.\u001B[39mAdam(learning_rate\u001B[38;5;241m=\u001B[39m\u001B[38;5;241m2e-5\u001B[39m),\n\u001B[1;32m      3\u001B[0m               loss\u001B[38;5;241m=\u001B[39mtf\u001B[38;5;241m.\u001B[39mkeras\u001B[38;5;241m.\u001B[39mlosses\u001B[38;5;241m.\u001B[39mSparseCategoricalCrossentropy(from_logits\u001B[38;5;241m=\u001B[39m\u001B[38;5;28;01mTrue\u001B[39;00m),\n\u001B[1;32m      4\u001B[0m               metrics\u001B[38;5;241m=\u001B[39m[\u001B[38;5;124m'\u001B[39m\u001B[38;5;124maccuracy\u001B[39m\u001B[38;5;124m'\u001B[39m])\n",
      "File \u001B[0;32m/Library/Python/3.9/site-packages/tensorflow/python/util/lazy_loader.py:170\u001B[0m, in \u001B[0;36mKerasLazyLoader.__getattr__\u001B[0;34m(self, item)\u001B[0m\n\u001B[1;32m    165\u001B[0m   \u001B[38;5;28;01melif\u001B[39;00m (\u001B[38;5;28mself\u001B[39m\u001B[38;5;241m.\u001B[39m_submodule \u001B[38;5;129;01mand\u001B[39;00m\n\u001B[1;32m    166\u001B[0m         \u001B[38;5;28mself\u001B[39m\u001B[38;5;241m.\u001B[39m_submodule\u001B[38;5;241m.\u001B[39mstartswith(\u001B[38;5;124m\"\u001B[39m\u001B[38;5;124m__internal__.legacy.\u001B[39m\u001B[38;5;124m\"\u001B[39m)):\n\u001B[1;32m    167\u001B[0m     \u001B[38;5;28;01mraise\u001B[39;00m \u001B[38;5;167;01mAttributeError\u001B[39;00m(\n\u001B[1;32m    168\u001B[0m         \u001B[38;5;124mf\u001B[39m\u001B[38;5;124m\"\u001B[39m\u001B[38;5;124m`\u001B[39m\u001B[38;5;132;01m{\u001B[39;00mitem\u001B[38;5;132;01m}\u001B[39;00m\u001B[38;5;124m` is not available with Keras 3.\u001B[39m\u001B[38;5;124m\"\u001B[39m\n\u001B[1;32m    169\u001B[0m     )\n\u001B[0;32m--> 170\u001B[0m module \u001B[38;5;241m=\u001B[39m \u001B[38;5;28;43mself\u001B[39;49m\u001B[38;5;241;43m.\u001B[39;49m\u001B[43m_load\u001B[49m\u001B[43m(\u001B[49m\u001B[43m)\u001B[49m\n\u001B[1;32m    171\u001B[0m \u001B[38;5;28;01mreturn\u001B[39;00m \u001B[38;5;28mgetattr\u001B[39m(module, item)\n",
      "File \u001B[0;32m/Library/Python/3.9/site-packages/tensorflow/python/util/lazy_loader.py:50\u001B[0m, in \u001B[0;36mLazyLoader._load\u001B[0;34m(self)\u001B[0m\n\u001B[1;32m     48\u001B[0m \u001B[38;5;250m\u001B[39m\u001B[38;5;124;03m\"\"\"Load the module and insert it into the parent's globals.\"\"\"\u001B[39;00m\n\u001B[1;32m     49\u001B[0m \u001B[38;5;66;03m# Import the target module and insert it into the parent's namespace\u001B[39;00m\n\u001B[0;32m---> 50\u001B[0m module \u001B[38;5;241m=\u001B[39m importlib\u001B[38;5;241m.\u001B[39mimport_module(\u001B[38;5;28;43mself\u001B[39;49m\u001B[38;5;241;43m.\u001B[39;49m\u001B[38;5;18;43m__name__\u001B[39;49m)\n\u001B[1;32m     51\u001B[0m \u001B[38;5;28mself\u001B[39m\u001B[38;5;241m.\u001B[39m_parent_module_globals[\u001B[38;5;28mself\u001B[39m\u001B[38;5;241m.\u001B[39m_local_name] \u001B[38;5;241m=\u001B[39m module\n\u001B[1;32m     53\u001B[0m \u001B[38;5;66;03m# Emit a warning if one was specified\u001B[39;00m\n",
      "File \u001B[0;32m/Library/Python/3.9/site-packages/tensorflow/python/util/lazy_loader.py:170\u001B[0m, in \u001B[0;36mKerasLazyLoader.__getattr__\u001B[0;34m(self, item)\u001B[0m\n\u001B[1;32m    165\u001B[0m   \u001B[38;5;28;01melif\u001B[39;00m (\u001B[38;5;28mself\u001B[39m\u001B[38;5;241m.\u001B[39m_submodule \u001B[38;5;129;01mand\u001B[39;00m\n\u001B[1;32m    166\u001B[0m         \u001B[38;5;28mself\u001B[39m\u001B[38;5;241m.\u001B[39m_submodule\u001B[38;5;241m.\u001B[39mstartswith(\u001B[38;5;124m\"\u001B[39m\u001B[38;5;124m__internal__.legacy.\u001B[39m\u001B[38;5;124m\"\u001B[39m)):\n\u001B[1;32m    167\u001B[0m     \u001B[38;5;28;01mraise\u001B[39;00m \u001B[38;5;167;01mAttributeError\u001B[39;00m(\n\u001B[1;32m    168\u001B[0m         \u001B[38;5;124mf\u001B[39m\u001B[38;5;124m\"\u001B[39m\u001B[38;5;124m`\u001B[39m\u001B[38;5;132;01m{\u001B[39;00mitem\u001B[38;5;132;01m}\u001B[39;00m\u001B[38;5;124m` is not available with Keras 3.\u001B[39m\u001B[38;5;124m\"\u001B[39m\n\u001B[1;32m    169\u001B[0m     )\n\u001B[0;32m--> 170\u001B[0m module \u001B[38;5;241m=\u001B[39m \u001B[38;5;28;43mself\u001B[39;49m\u001B[38;5;241;43m.\u001B[39;49m\u001B[43m_load\u001B[49m\u001B[43m(\u001B[49m\u001B[43m)\u001B[49m\n\u001B[1;32m    171\u001B[0m \u001B[38;5;28;01mreturn\u001B[39;00m \u001B[38;5;28mgetattr\u001B[39m(module, item)\n",
      "File \u001B[0;32m/Library/Python/3.9/site-packages/tensorflow/python/util/lazy_loader.py:50\u001B[0m, in \u001B[0;36mLazyLoader._load\u001B[0;34m(self)\u001B[0m\n\u001B[1;32m     48\u001B[0m \u001B[38;5;250m\u001B[39m\u001B[38;5;124;03m\"\"\"Load the module and insert it into the parent's globals.\"\"\"\u001B[39;00m\n\u001B[1;32m     49\u001B[0m \u001B[38;5;66;03m# Import the target module and insert it into the parent's namespace\u001B[39;00m\n\u001B[0;32m---> 50\u001B[0m module \u001B[38;5;241m=\u001B[39m importlib\u001B[38;5;241m.\u001B[39mimport_module(\u001B[38;5;28;43mself\u001B[39;49m\u001B[38;5;241;43m.\u001B[39;49m\u001B[38;5;18;43m__name__\u001B[39;49m)\n\u001B[1;32m     51\u001B[0m \u001B[38;5;28mself\u001B[39m\u001B[38;5;241m.\u001B[39m_parent_module_globals[\u001B[38;5;28mself\u001B[39m\u001B[38;5;241m.\u001B[39m_local_name] \u001B[38;5;241m=\u001B[39m module\n\u001B[1;32m     53\u001B[0m \u001B[38;5;66;03m# Emit a warning if one was specified\u001B[39;00m\n",
      "    \u001B[0;31m[... skipping similar frames: KerasLazyLoader.__getattr__ at line 170 (1483 times), LazyLoader._load at line 50 (1483 times)]\u001B[0m\n",
      "File \u001B[0;32m/Library/Python/3.9/site-packages/tensorflow/python/util/lazy_loader.py:170\u001B[0m, in \u001B[0;36mKerasLazyLoader.__getattr__\u001B[0;34m(self, item)\u001B[0m\n\u001B[1;32m    165\u001B[0m   \u001B[38;5;28;01melif\u001B[39;00m (\u001B[38;5;28mself\u001B[39m\u001B[38;5;241m.\u001B[39m_submodule \u001B[38;5;129;01mand\u001B[39;00m\n\u001B[1;32m    166\u001B[0m         \u001B[38;5;28mself\u001B[39m\u001B[38;5;241m.\u001B[39m_submodule\u001B[38;5;241m.\u001B[39mstartswith(\u001B[38;5;124m\"\u001B[39m\u001B[38;5;124m__internal__.legacy.\u001B[39m\u001B[38;5;124m\"\u001B[39m)):\n\u001B[1;32m    167\u001B[0m     \u001B[38;5;28;01mraise\u001B[39;00m \u001B[38;5;167;01mAttributeError\u001B[39;00m(\n\u001B[1;32m    168\u001B[0m         \u001B[38;5;124mf\u001B[39m\u001B[38;5;124m\"\u001B[39m\u001B[38;5;124m`\u001B[39m\u001B[38;5;132;01m{\u001B[39;00mitem\u001B[38;5;132;01m}\u001B[39;00m\u001B[38;5;124m` is not available with Keras 3.\u001B[39m\u001B[38;5;124m\"\u001B[39m\n\u001B[1;32m    169\u001B[0m     )\n\u001B[0;32m--> 170\u001B[0m module \u001B[38;5;241m=\u001B[39m \u001B[38;5;28;43mself\u001B[39;49m\u001B[38;5;241;43m.\u001B[39;49m\u001B[43m_load\u001B[49m\u001B[43m(\u001B[49m\u001B[43m)\u001B[49m\n\u001B[1;32m    171\u001B[0m \u001B[38;5;28;01mreturn\u001B[39;00m \u001B[38;5;28mgetattr\u001B[39m(module, item)\n",
      "File \u001B[0;32m/Library/Python/3.9/site-packages/tensorflow/python/util/lazy_loader.py:50\u001B[0m, in \u001B[0;36mLazyLoader._load\u001B[0;34m(self)\u001B[0m\n\u001B[1;32m     48\u001B[0m \u001B[38;5;250m\u001B[39m\u001B[38;5;124;03m\"\"\"Load the module and insert it into the parent's globals.\"\"\"\u001B[39;00m\n\u001B[1;32m     49\u001B[0m \u001B[38;5;66;03m# Import the target module and insert it into the parent's namespace\u001B[39;00m\n\u001B[0;32m---> 50\u001B[0m module \u001B[38;5;241m=\u001B[39m importlib\u001B[38;5;241m.\u001B[39mimport_module(\u001B[38;5;28;43mself\u001B[39;49m\u001B[38;5;241;43m.\u001B[39;49m\u001B[38;5;18;43m__name__\u001B[39;49m)\n\u001B[1;32m     51\u001B[0m \u001B[38;5;28mself\u001B[39m\u001B[38;5;241m.\u001B[39m_parent_module_globals[\u001B[38;5;28mself\u001B[39m\u001B[38;5;241m.\u001B[39m_local_name] \u001B[38;5;241m=\u001B[39m module\n\u001B[1;32m     53\u001B[0m \u001B[38;5;66;03m# Emit a warning if one was specified\u001B[39;00m\n",
      "File \u001B[0;32m/Library/Python/3.9/site-packages/tensorflow/python/util/lazy_loader.py:143\u001B[0m, in \u001B[0;36mKerasLazyLoader.__getattr__\u001B[0;34m(self, item)\u001B[0m\n\u001B[1;32m    142\u001B[0m \u001B[38;5;28;01mdef\u001B[39;00m \u001B[38;5;21m__getattr__\u001B[39m(\u001B[38;5;28mself\u001B[39m, item):\n\u001B[0;32m--> 143\u001B[0m   \u001B[38;5;28;01mif\u001B[39;00m \u001B[43mitem\u001B[49m\u001B[43m \u001B[49m\u001B[38;5;129;43;01min\u001B[39;49;00m\u001B[43m \u001B[49m\u001B[43m(\u001B[49m\u001B[38;5;124;43m\"\u001B[39;49m\u001B[38;5;124;43m_mode\u001B[39;49m\u001B[38;5;124;43m\"\u001B[39;49m\u001B[43m,\u001B[49m\u001B[43m \u001B[49m\u001B[38;5;124;43m\"\u001B[39;49m\u001B[38;5;124;43m_initialized\u001B[39;49m\u001B[38;5;124;43m\"\u001B[39;49m\u001B[43m,\u001B[49m\u001B[43m \u001B[49m\u001B[38;5;124;43m\"\u001B[39;49m\u001B[38;5;124;43m_name\u001B[39;49m\u001B[38;5;124;43m\"\u001B[39;49m\u001B[43m)\u001B[49m:\n\u001B[1;32m    144\u001B[0m     \u001B[38;5;28;01mreturn\u001B[39;00m \u001B[38;5;28msuper\u001B[39m(types\u001B[38;5;241m.\u001B[39mModuleType, \u001B[38;5;28mself\u001B[39m)\u001B[38;5;241m.\u001B[39m\u001B[38;5;21m__getattribute__\u001B[39m(item)\n\u001B[1;32m    145\u001B[0m   \u001B[38;5;28;01mif\u001B[39;00m \u001B[38;5;129;01mnot\u001B[39;00m \u001B[38;5;28mself\u001B[39m\u001B[38;5;241m.\u001B[39m_initialized:\n",
      "\u001B[0;31mRecursionError\u001B[0m: maximum recursion depth exceeded in comparison"
     ]
    }
   ],
   "execution_count": 86
  },
  {
   "metadata": {
    "ExecuteTime": {
     "end_time": "2024-05-29T15:11:19.126138Z",
     "start_time": "2024-05-29T15:11:18.838902Z"
    }
   },
   "cell_type": "code",
   "source": [
    "# Train the model\n",
    "model.fit(train_dataset, epochs=3, validation_data=test_dataset)"
   ],
   "id": "e32f43624191192f",
   "outputs": [
    {
     "ename": "RuntimeError",
     "evalue": "You must compile your model before training/testing. Use `model.compile(optimizer, loss)`.",
     "output_type": "error",
     "traceback": [
      "\u001B[0;31m---------------------------------------------------------------------------\u001B[0m",
      "\u001B[0;31mRuntimeError\u001B[0m                              Traceback (most recent call last)",
      "Cell \u001B[0;32mIn[72], line 2\u001B[0m\n\u001B[1;32m      1\u001B[0m \u001B[38;5;66;03m# Train the model\u001B[39;00m\n\u001B[0;32m----> 2\u001B[0m \u001B[43mmodel\u001B[49m\u001B[38;5;241;43m.\u001B[39;49m\u001B[43mfit\u001B[49m\u001B[43m(\u001B[49m\u001B[43mtrain_dataset\u001B[49m\u001B[43m,\u001B[49m\u001B[43m \u001B[49m\u001B[43mepochs\u001B[49m\u001B[38;5;241;43m=\u001B[39;49m\u001B[38;5;241;43m3\u001B[39;49m\u001B[43m,\u001B[49m\u001B[43m \u001B[49m\u001B[43mvalidation_data\u001B[49m\u001B[38;5;241;43m=\u001B[39;49m\u001B[43mtest_dataset\u001B[49m\u001B[43m)\u001B[49m\n",
      "File \u001B[0;32m~/Library/Python/3.9/lib/python/site-packages/transformers/modeling_tf_utils.py:1229\u001B[0m, in \u001B[0;36mTFPreTrainedModel.fit\u001B[0;34m(self, *args, **kwargs)\u001B[0m\n\u001B[1;32m   1226\u001B[0m \u001B[38;5;129m@functools\u001B[39m\u001B[38;5;241m.\u001B[39mwraps(keras\u001B[38;5;241m.\u001B[39mModel\u001B[38;5;241m.\u001B[39mfit)\n\u001B[1;32m   1227\u001B[0m \u001B[38;5;28;01mdef\u001B[39;00m \u001B[38;5;21mfit\u001B[39m(\u001B[38;5;28mself\u001B[39m, \u001B[38;5;241m*\u001B[39margs, \u001B[38;5;241m*\u001B[39m\u001B[38;5;241m*\u001B[39mkwargs):\n\u001B[1;32m   1228\u001B[0m     args, kwargs \u001B[38;5;241m=\u001B[39m convert_batch_encoding(\u001B[38;5;241m*\u001B[39margs, \u001B[38;5;241m*\u001B[39m\u001B[38;5;241m*\u001B[39mkwargs)\n\u001B[0;32m-> 1229\u001B[0m     \u001B[38;5;28;01mreturn\u001B[39;00m \u001B[38;5;28;43msuper\u001B[39;49m\u001B[43m(\u001B[49m\u001B[43m)\u001B[49m\u001B[38;5;241;43m.\u001B[39;49m\u001B[43mfit\u001B[49m\u001B[43m(\u001B[49m\u001B[38;5;241;43m*\u001B[39;49m\u001B[43margs\u001B[49m\u001B[43m,\u001B[49m\u001B[43m \u001B[49m\u001B[38;5;241;43m*\u001B[39;49m\u001B[38;5;241;43m*\u001B[39;49m\u001B[43mkwargs\u001B[49m\u001B[43m)\u001B[49m\n",
      "File \u001B[0;32m~/Library/Python/3.9/lib/python/site-packages/keras/src/utils/traceback_utils.py:70\u001B[0m, in \u001B[0;36mfilter_traceback.<locals>.error_handler\u001B[0;34m(*args, **kwargs)\u001B[0m\n\u001B[1;32m     67\u001B[0m     filtered_tb \u001B[38;5;241m=\u001B[39m _process_traceback_frames(e\u001B[38;5;241m.\u001B[39m__traceback__)\n\u001B[1;32m     68\u001B[0m     \u001B[38;5;66;03m# To get the full stack trace, call:\u001B[39;00m\n\u001B[1;32m     69\u001B[0m     \u001B[38;5;66;03m# `tf.debugging.disable_traceback_filtering()`\u001B[39;00m\n\u001B[0;32m---> 70\u001B[0m     \u001B[38;5;28;01mraise\u001B[39;00m e\u001B[38;5;241m.\u001B[39mwith_traceback(filtered_tb) \u001B[38;5;28;01mfrom\u001B[39;00m \u001B[38;5;28;01mNone\u001B[39;00m\n\u001B[1;32m     71\u001B[0m \u001B[38;5;28;01mfinally\u001B[39;00m:\n\u001B[1;32m     72\u001B[0m     \u001B[38;5;28;01mdel\u001B[39;00m filtered_tb\n",
      "File \u001B[0;32m~/Library/Python/3.9/lib/python/site-packages/keras/src/engine/training.py:3983\u001B[0m, in \u001B[0;36mModel._assert_compile_was_called\u001B[0;34m(self)\u001B[0m\n\u001B[1;32m   3977\u001B[0m \u001B[38;5;28;01mdef\u001B[39;00m \u001B[38;5;21m_assert_compile_was_called\u001B[39m(\u001B[38;5;28mself\u001B[39m):\n\u001B[1;32m   3978\u001B[0m     \u001B[38;5;66;03m# Checks whether `compile` has been called. If it has been called,\u001B[39;00m\n\u001B[1;32m   3979\u001B[0m     \u001B[38;5;66;03m# then the optimizer is set. This is different from whether the\u001B[39;00m\n\u001B[1;32m   3980\u001B[0m     \u001B[38;5;66;03m# model is compiled\u001B[39;00m\n\u001B[1;32m   3981\u001B[0m     \u001B[38;5;66;03m# (i.e. whether the model is built and its inputs/outputs are set).\u001B[39;00m\n\u001B[1;32m   3982\u001B[0m     \u001B[38;5;28;01mif\u001B[39;00m \u001B[38;5;129;01mnot\u001B[39;00m \u001B[38;5;28mself\u001B[39m\u001B[38;5;241m.\u001B[39m_is_compiled:\n\u001B[0;32m-> 3983\u001B[0m         \u001B[38;5;28;01mraise\u001B[39;00m \u001B[38;5;167;01mRuntimeError\u001B[39;00m(\n\u001B[1;32m   3984\u001B[0m             \u001B[38;5;124m\"\u001B[39m\u001B[38;5;124mYou must compile your model before \u001B[39m\u001B[38;5;124m\"\u001B[39m\n\u001B[1;32m   3985\u001B[0m             \u001B[38;5;124m\"\u001B[39m\u001B[38;5;124mtraining/testing. \u001B[39m\u001B[38;5;124m\"\u001B[39m\n\u001B[1;32m   3986\u001B[0m             \u001B[38;5;124m\"\u001B[39m\u001B[38;5;124mUse `model.compile(optimizer, loss)`.\u001B[39m\u001B[38;5;124m\"\u001B[39m\n\u001B[1;32m   3987\u001B[0m         )\n",
      "\u001B[0;31mRuntimeError\u001B[0m: You must compile your model before training/testing. Use `model.compile(optimizer, loss)`."
     ]
    }
   ],
   "execution_count": 72
  },
  {
   "metadata": {
    "ExecuteTime": {
     "end_time": "2024-05-29T14:32:59.237884Z",
     "start_time": "2024-05-29T14:32:59.220248Z"
    }
   },
   "cell_type": "code",
   "source": [
    "# Predictions and metrics computation\n",
    "y_pred = np.argmax(model.predict(test_dataset).logits, axis=1)\n",
    "y_true = np.concatenate([y for x, y in test_dataset], axis=0)\n",
    "\n",
    "precision, recall, f1, _ = precision_recall_fscore_support(y_true, y_pred, average='binary')\n",
    "print(f\"Precision: {precision}, Recall: {recall}, F1 Score: {f1}\")"
   ],
   "id": "cb1cfb822e816f71",
   "outputs": [
    {
     "ename": "NameError",
     "evalue": "name 'trainer' is not defined",
     "output_type": "error",
     "traceback": [
      "\u001B[0;31m---------------------------------------------------------------------------\u001B[0m",
      "\u001B[0;31mNameError\u001B[0m                                 Traceback (most recent call last)",
      "Cell \u001B[0;32mIn[39], line 2\u001B[0m\n\u001B[1;32m      1\u001B[0m \u001B[38;5;66;03m# Train the model\u001B[39;00m\n\u001B[0;32m----> 2\u001B[0m \u001B[43mtrainer\u001B[49m\u001B[38;5;241m.\u001B[39mtrain()\n",
      "\u001B[0;31mNameError\u001B[0m: name 'trainer' is not defined"
     ]
    }
   ],
   "execution_count": 39
  }
 ],
 "metadata": {
  "kernelspec": {
   "display_name": "Python 3",
   "language": "python",
   "name": "python3"
  },
  "language_info": {
   "codemirror_mode": {
    "name": "ipython",
    "version": 2
   },
   "file_extension": ".py",
   "mimetype": "text/x-python",
   "name": "python",
   "nbconvert_exporter": "python",
   "pygments_lexer": "ipython2",
   "version": "2.7.6"
  }
 },
 "nbformat": 4,
 "nbformat_minor": 5
}
