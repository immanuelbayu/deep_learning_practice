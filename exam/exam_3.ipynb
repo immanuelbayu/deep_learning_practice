{
 "cells": [
  {
   "cell_type": "code",
   "id": "initial_id",
   "metadata": {
    "collapsed": true,
    "ExecuteTime": {
     "end_time": "2024-05-30T04:29:10.496982Z",
     "start_time": "2024-05-30T04:29:10.493553Z"
    }
   },
   "source": [
    "import pandas as pd\n",
    "import torch\n",
    "from transformers import BertTokenizer, BertForSequenceClassification, Trainer, TrainingArguments, EvalPrediction\n",
    "from sklearn.metrics import accuracy_score, precision_recall_fscore_support"
   ],
   "outputs": [],
   "execution_count": 74
  },
  {
   "metadata": {
    "ExecuteTime": {
     "end_time": "2024-05-30T04:29:10.510836Z",
     "start_time": "2024-05-30T04:29:10.499090Z"
    }
   },
   "cell_type": "code",
   "source": [
    "# Load data from CSV files\n",
    "train_df = pd.read_csv('../data/train_dataset.csv')\n",
    "eval_df = pd.read_csv('../data/eval_dataset.csv')\n",
    "test_df = pd.read_csv('../data/test_dataset.csv')"
   ],
   "id": "2fb6eab148c2a4be",
   "outputs": [],
   "execution_count": 75
  },
  {
   "metadata": {
    "ExecuteTime": {
     "end_time": "2024-05-30T04:29:10.836659Z",
     "start_time": "2024-05-30T04:29:10.512276Z"
    }
   },
   "cell_type": "code",
   "source": [
    "# Initialize the tokenizer\n",
    "tokenizer = BertTokenizer.from_pretrained('bert-base-uncased')"
   ],
   "id": "635e9d69e4488edb",
   "outputs": [],
   "execution_count": 76
  },
  {
   "metadata": {
    "ExecuteTime": {
     "end_time": "2024-05-30T04:29:10.857979Z",
     "start_time": "2024-05-30T04:29:10.837481Z"
    }
   },
   "cell_type": "code",
   "source": [
    "# Tokenize the input\n",
    "train_encodings = tokenizer(list(train_df['text']), truncation=True, padding=True)\n",
    "eval_encodings = tokenizer(list(eval_df['text']), truncation=True, padding=True)\n",
    "test_encodings = tokenizer(list(test_df['text']), truncation=True, padding=True)"
   ],
   "id": "a3064316e3b89d71",
   "outputs": [],
   "execution_count": 77
  },
  {
   "metadata": {
    "ExecuteTime": {
     "end_time": "2024-05-30T04:29:10.863955Z",
     "start_time": "2024-05-30T04:29:10.858910Z"
    }
   },
   "cell_type": "code",
   "source": [
    "# Define a PyTorch dataset\n",
    "class CustomDataset(torch.utils.data.Dataset):\n",
    "    def __init__(self, encodings, labels):\n",
    "        self.encodings = encodings\n",
    "        self.labels = labels\n",
    "\n",
    "    def __getitem__(self, idx):\n",
    "        item = {key: torch.tensor(val[idx]) for key, val in self.encodings.items()}\n",
    "        item['labels'] = torch.tensor(self.labels[idx])\n",
    "        return item\n",
    "\n",
    "    def __len__(self):\n",
    "        return len(self.labels)\n",
    "\n",
    "train_labels = list(train_df['label'])\n",
    "eval_labels = list(eval_df['label'])\n",
    "test_labels = list(eval_df['label'])\n",
    "\n",
    "train_dataset = CustomDataset(train_encodings, train_labels)\n",
    "eval_dataset = CustomDataset(eval_encodings, eval_labels)\n",
    "test_dataset = CustomDataset(test_encodings, test_labels)"
   ],
   "id": "63b9b163d77b24ec",
   "outputs": [],
   "execution_count": 78
  },
  {
   "metadata": {
    "ExecuteTime": {
     "end_time": "2024-05-30T04:29:12.559059Z",
     "start_time": "2024-05-30T04:29:10.865739Z"
    }
   },
   "cell_type": "code",
   "source": [
    "# Load the model\n",
    "model = BertForSequenceClassification.from_pretrained('bert-base-uncased', num_labels=2)"
   ],
   "id": "a6959cb30b48937e",
   "outputs": [
    {
     "name": "stderr",
     "output_type": "stream",
     "text": [
      "Some weights of BertForSequenceClassification were not initialized from the model checkpoint at bert-base-uncased and are newly initialized: ['classifier.bias', 'classifier.weight']\n",
      "You should probably TRAIN this model on a down-stream task to be able to use it for predictions and inference.\n"
     ]
    }
   ],
   "execution_count": 79
  },
  {
   "metadata": {
    "ExecuteTime": {
     "end_time": "2024-05-30T04:29:12.565330Z",
     "start_time": "2024-05-30T04:29:12.560182Z"
    }
   },
   "cell_type": "code",
   "source": [
    "# Set up training arguments\n",
    "training_args = TrainingArguments(\n",
    "    output_dir='./results',          # output directory\n",
    "    num_train_epochs=1,              # number of training epochs\n",
    "    per_device_train_batch_size=2,   # batch size for training\n",
    "    per_device_eval_batch_size=2,    # batch size for evaluation\n",
    "    warmup_steps=500,                # number of warmup steps for learning rate scheduler\n",
    "    weight_decay=0.01,               # strength of weight decay\n",
    "    logging_dir='./logs',            # directory for storing logs\n",
    "    logging_steps=10,\n",
    ")"
   ],
   "id": "d35f042430940245",
   "outputs": [],
   "execution_count": 80
  },
  {
   "metadata": {
    "ExecuteTime": {
     "end_time": "2024-05-30T04:29:13.666629Z",
     "start_time": "2024-05-30T04:29:12.566345Z"
    }
   },
   "cell_type": "code",
   "source": [
    "# Initialize the Trainer\n",
    "trainer = Trainer(\n",
    "    model=model,                         # the instantiated 🤗 Transformers model to be trained\n",
    "    args=training_args,                  # training arguments, defined above\n",
    "    train_dataset=train_dataset,         # training dataset\n",
    "    eval_dataset=eval_dataset            # evaluation dataset\n",
    ")"
   ],
   "id": "79fd2b280aa6f360",
   "outputs": [],
   "execution_count": 81
  },
  {
   "metadata": {
    "ExecuteTime": {
     "end_time": "2024-05-30T04:29:21.700958Z",
     "start_time": "2024-05-30T04:29:13.667726Z"
    }
   },
   "cell_type": "code",
   "source": [
    "# Train the model\n",
    "trainer.train()"
   ],
   "id": "2c57b61f05a6ae16",
   "outputs": [
    {
     "data": {
      "text/plain": [
       "<IPython.core.display.HTML object>"
      ],
      "text/html": [
       "\n",
       "    <div>\n",
       "      \n",
       "      <progress value='40' max='40' style='width:300px; height:20px; vertical-align: middle;'></progress>\n",
       "      [40/40 00:05, Epoch 1/1]\n",
       "    </div>\n",
       "    <table border=\"1\" class=\"dataframe\">\n",
       "  <thead>\n",
       " <tr style=\"text-align: left;\">\n",
       "      <th>Step</th>\n",
       "      <th>Training Loss</th>\n",
       "    </tr>\n",
       "  </thead>\n",
       "  <tbody>\n",
       "    <tr>\n",
       "      <td>10</td>\n",
       "      <td>0.688800</td>\n",
       "    </tr>\n",
       "    <tr>\n",
       "      <td>20</td>\n",
       "      <td>0.713000</td>\n",
       "    </tr>\n",
       "    <tr>\n",
       "      <td>30</td>\n",
       "      <td>0.692700</td>\n",
       "    </tr>\n",
       "    <tr>\n",
       "      <td>40</td>\n",
       "      <td>0.698900</td>\n",
       "    </tr>\n",
       "  </tbody>\n",
       "</table><p>"
      ]
     },
     "metadata": {},
     "output_type": "display_data"
    },
    {
     "data": {
      "text/plain": [
       "TrainOutput(global_step=40, training_loss=0.6983397245407105, metrics={'train_runtime': 6.7048, 'train_samples_per_second': 11.932, 'train_steps_per_second': 5.966, 'total_flos': 575555433600.0, 'train_loss': 0.6983397245407105, 'epoch': 1.0})"
      ]
     },
     "execution_count": 82,
     "metadata": {},
     "output_type": "execute_result"
    }
   ],
   "execution_count": 82
  },
  {
   "metadata": {
    "ExecuteTime": {
     "end_time": "2024-05-30T04:29:21.989504Z",
     "start_time": "2024-05-30T04:29:21.702585Z"
    }
   },
   "cell_type": "code",
   "source": [
    "# Evaluate the model\n",
    "eval_result = trainer.evaluate()\n",
    "\n",
    "print(f\"Evaluation results: {eval_result}\")"
   ],
   "id": "6610bdf0b27eec7f",
   "outputs": [
    {
     "data": {
      "text/plain": [
       "<IPython.core.display.HTML object>"
      ],
      "text/html": []
     },
     "metadata": {},
     "output_type": "display_data"
    },
    {
     "name": "stdout",
     "output_type": "stream",
     "text": [
      "Evaluation results: {'eval_loss': 0.6620675325393677, 'eval_runtime': 0.2824, 'eval_samples_per_second': 70.816, 'eval_steps_per_second': 35.408, 'epoch': 1.0}\n"
     ]
    }
   ],
   "execution_count": 83
  },
  {
   "metadata": {
    "ExecuteTime": {
     "end_time": "2024-05-30T04:29:22.356931Z",
     "start_time": "2024-05-30T04:29:21.990632Z"
    }
   },
   "cell_type": "code",
   "source": [
    "# # Make predictions on the evaluation set\n",
    "test_predictions = trainer.predict(eval_dataset)\n",
    "\n",
    "for idx, example in enumerate(eval_dataset):\n",
    "    text = tokenizer.decode(example['input_ids'], skip_special_tokens=True)\n",
    "    true_label = eval_dataset[idx]['labels']\n",
    "    predicted_label = test_predictions.predictions[idx].argmax().item()\n",
    "    predicted_sentiment = \"positive\" if predicted_label == 1 else \"negative\"\n",
    "\n",
    "    print(f\"Text: {text}\")\n",
    "    print(f\"True Label: {'positive' if true_label == 1 else 'negative'}\")\n",
    "    print(f\"Predicted Sentiment: {predicted_sentiment}\\n\")\n"
   ],
   "id": "77b97b24e22c222",
   "outputs": [
    {
     "name": "stdout",
     "output_type": "stream",
     "text": [
      "Text: she always lies and can't be trusted.\n",
      "True Label: negative\n",
      "Predicted Sentiment: negative\n",
      "\n",
      "Text: this garden is a work of art.\n",
      "True Label: positive\n",
      "Predicted Sentiment: positive\n",
      "\n",
      "Text: this situation is hopeless.\n",
      "True Label: negative\n",
      "Predicted Sentiment: negative\n",
      "\n",
      "Text: you always show up late.\n",
      "True Label: negative\n",
      "Predicted Sentiment: positive\n",
      "\n",
      "Text: this job is a nightmare.\n",
      "True Label: negative\n",
      "Predicted Sentiment: negative\n",
      "\n",
      "Text: your positive attitude is infectious.\n",
      "True Label: positive\n",
      "Predicted Sentiment: positive\n",
      "\n",
      "Text: this product is a complete waste of money.\n",
      "True Label: negative\n",
      "Predicted Sentiment: negative\n",
      "\n",
      "Text: i'm so tired of your constant negativity.\n",
      "True Label: negative\n",
      "Predicted Sentiment: negative\n",
      "\n",
      "Text: i'm fed up with your lies.\n",
      "True Label: negative\n",
      "Predicted Sentiment: negative\n",
      "\n",
      "Text: your voice is grating.\n",
      "True Label: negative\n",
      "Predicted Sentiment: negative\n",
      "\n",
      "Text: the customer service here is exceptional.\n",
      "True Label: positive\n",
      "Predicted Sentiment: positive\n",
      "\n",
      "Text: you have a wonderful personality.\n",
      "True Label: positive\n",
      "Predicted Sentiment: positive\n",
      "\n",
      "Text: you always know how to make me smile.\n",
      "True Label: positive\n",
      "Predicted Sentiment: positive\n",
      "\n",
      "Text: the lighting in here is horrible.\n",
      "True Label: negative\n",
      "Predicted Sentiment: negative\n",
      "\n",
      "Text: you always make everyone feel special.\n",
      "True Label: positive\n",
      "Predicted Sentiment: positive\n",
      "\n",
      "Text: this beach is paradise.\n",
      "True Label: positive\n",
      "Predicted Sentiment: positive\n",
      "\n",
      "Text: this place gives me the creeps.\n",
      "True Label: negative\n",
      "Predicted Sentiment: negative\n",
      "\n",
      "Text: the view from here is spectacular.\n",
      "True Label: positive\n",
      "Predicted Sentiment: positive\n",
      "\n",
      "Text: this website is the worst i've ever used.\n",
      "True Label: negative\n",
      "Predicted Sentiment: negative\n",
      "\n",
      "Text: this entire week has been awful.\n",
      "True Label: negative\n",
      "Predicted Sentiment: negative\n",
      "\n"
     ]
    }
   ],
   "execution_count": 84
  },
  {
   "metadata": {
    "ExecuteTime": {
     "end_time": "2024-05-30T04:29:22.367871Z",
     "start_time": "2024-05-30T04:29:22.358733Z"
    }
   },
   "cell_type": "code",
   "source": [
    "# Calculate metrics\n",
    "def compute_metrics(p: EvalPrediction):\n",
    "    preds = p.predictions.argmax(-1)\n",
    "    accuracy = accuracy_score(p.label_ids, preds)\n",
    "    precision, recall, f1, _ = precision_recall_fscore_support(p.label_ids, preds, average='binary')\n",
    "    return {\n",
    "        'accuracy': accuracy,\n",
    "        'precision': precision,\n",
    "        'recall': recall,\n",
    "        'f1': f1\n",
    "    }\n",
    "\n",
    "metrics = compute_metrics(test_predictions)\n",
    "print(f\"Metrics: {metrics}\")"
   ],
   "id": "755d8d2b9beb1065",
   "outputs": [
    {
     "name": "stdout",
     "output_type": "stream",
     "text": [
      "Metrics: {'accuracy': 0.95, 'precision': 0.8888888888888888, 'recall': 1.0, 'f1': 0.9411764705882353}\n"
     ]
    }
   ],
   "execution_count": 85
  }
 ],
 "metadata": {
  "kernelspec": {
   "display_name": "Python 3",
   "language": "python",
   "name": "python3"
  },
  "language_info": {
   "codemirror_mode": {
    "name": "ipython",
    "version": 2
   },
   "file_extension": ".py",
   "mimetype": "text/x-python",
   "name": "python",
   "nbconvert_exporter": "python",
   "pygments_lexer": "ipython2",
   "version": "2.7.6"
  }
 },
 "nbformat": 4,
 "nbformat_minor": 5
}
