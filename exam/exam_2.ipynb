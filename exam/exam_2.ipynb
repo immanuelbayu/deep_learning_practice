{
 "cells": [
  {
   "cell_type": "code",
   "id": "initial_id",
   "metadata": {
    "collapsed": true,
    "ExecuteTime": {
     "end_time": "2024-05-28T15:16:03.000923Z",
     "start_time": "2024-05-28T15:16:02.997844Z"
    }
   },
   "source": [
    "import numpy as np\n",
    "from tensorflow.keras.layers import Embedding, LSTM, Dense\n",
    "from tensorflow.keras.models import Sequential\n",
    "from tensorflow.keras.preprocessing.sequence import pad_sequences\n",
    "from tensorflow.keras.preprocessing.text import Tokenizer"
   ],
   "outputs": [],
   "execution_count": 2
  },
  {
   "metadata": {
    "ExecuteTime": {
     "end_time": "2024-05-28T15:16:09.327877Z",
     "start_time": "2024-05-28T15:16:09.322549Z"
    }
   },
   "cell_type": "code",
   "source": [
    "# Sample data\n",
    "texts = [\n",
    "    \"I love machine learning\",\n",
    "    \"Natural language processing is amazing\",\n",
    "    \"Deep learning models are powerful\",\n",
    "    \"I enjoy learning new things\",\n",
    "    \"Artificial intelligence is the future\"\n",
    "]\n",
    "labels = [1, 1, 1, 0, 0]  # Binary classification: 1 for positive, 0 for negative"
   ],
   "id": "a10f9460ee5f8776",
   "outputs": [],
   "execution_count": 4
  },
  {
   "metadata": {
    "ExecuteTime": {
     "end_time": "2024-05-28T15:16:10.114862Z",
     "start_time": "2024-05-28T15:16:10.110448Z"
    }
   },
   "cell_type": "code",
   "source": [
    "# Parameters\n",
    "vocab_size = 50\n",
    "embedding_dim = 8\n",
    "max_length = 10\n",
    "padding_type = 'post'\n",
    "truncating_type = 'post'\n",
    "\n",
    "# Tokenization and padding\n",
    "tokenizer = Tokenizer(num_words=vocab_size, oov_token='<OOV>')\n",
    "tokenizer.fit_on_texts(texts)\n",
    "word_index = tokenizer.word_index\n",
    "sequences = tokenizer.texts_to_sequences(texts)\n",
    "padded_sequences = pad_sequences(sequences, maxlen=max_length, padding=padding_type, truncating=truncating_type)"
   ],
   "id": "6391a72b244a0263",
   "outputs": [],
   "execution_count": 5
  },
  {
   "metadata": {
    "ExecuteTime": {
     "end_time": "2024-05-28T15:16:11.670320Z",
     "start_time": "2024-05-28T15:16:11.667724Z"
    }
   },
   "cell_type": "code",
   "source": [
    "# Convert labels to numpy array\n",
    "labels = np.array(labels)"
   ],
   "id": "1af808e69a252512",
   "outputs": [],
   "execution_count": 6
  },
  {
   "metadata": {
    "ExecuteTime": {
     "end_time": "2024-05-28T15:16:12.813776Z",
     "start_time": "2024-05-28T15:16:12.430299Z"
    }
   },
   "cell_type": "code",
   "source": [
    "# Model creation\n",
    "model = Sequential([\n",
    "    Embedding(input_dim=vocab_size, output_dim=embedding_dim, input_length=max_length),\n",
    "    LSTM(64, return_sequences=False),\n",
    "    Dense(1, activation='sigmoid')\n",
    "])"
   ],
   "id": "2bb95062b1c74ef9",
   "outputs": [
    {
     "name": "stderr",
     "output_type": "stream",
     "text": [
      "2024-05-28 22:16:12.551587: I metal_plugin/src/device/metal_device.cc:1154] Metal device set to: Apple M1 Pro\n",
      "2024-05-28 22:16:12.551630: I metal_plugin/src/device/metal_device.cc:296] systemMemory: 16.00 GB\n",
      "2024-05-28 22:16:12.551644: I metal_plugin/src/device/metal_device.cc:313] maxCacheSize: 5.33 GB\n",
      "2024-05-28 22:16:12.551674: I tensorflow/core/common_runtime/pluggable_device/pluggable_device_factory.cc:306] Could not identify NUMA node of platform GPU ID 0, defaulting to 0. Your kernel may not have been built with NUMA support.\n",
      "2024-05-28 22:16:12.551688: I tensorflow/core/common_runtime/pluggable_device/pluggable_device_factory.cc:272] Created TensorFlow device (/job:localhost/replica:0/task:0/device:GPU:0 with 0 MB memory) -> physical PluggableDevice (device: 0, name: METAL, pci bus id: <undefined>)\n"
     ]
    }
   ],
   "execution_count": 7
  },
  {
   "metadata": {
    "ExecuteTime": {
     "end_time": "2024-05-28T15:16:18.072292Z",
     "start_time": "2024-05-28T15:16:18.049175Z"
    }
   },
   "cell_type": "code",
   "source": [
    "# Compile the model\n",
    "model.compile(loss='binary_crossentropy', optimizer='adam', metrics=['accuracy'])\n",
    "\n",
    "# Print model summary\n",
    "model.summary()"
   ],
   "id": "2af5effec3989f9",
   "outputs": [
    {
     "name": "stdout",
     "output_type": "stream",
     "text": [
      "Model: \"sequential\"\n",
      "_________________________________________________________________\n",
      " Layer (type)                Output Shape              Param #   \n",
      "=================================================================\n",
      " embedding (Embedding)       (None, 10, 8)             400       \n",
      "                                                                 \n",
      " lstm (LSTM)                 (None, 64)                18688     \n",
      "                                                                 \n",
      " dense (Dense)               (None, 1)                 65        \n",
      "                                                                 \n",
      "=================================================================\n",
      "Total params: 19153 (74.82 KB)\n",
      "Trainable params: 19153 (74.82 KB)\n",
      "Non-trainable params: 0 (0.00 Byte)\n",
      "_________________________________________________________________\n"
     ]
    }
   ],
   "execution_count": 8
  },
  {
   "metadata": {
    "ExecuteTime": {
     "end_time": "2024-05-28T15:16:26.345708Z",
     "start_time": "2024-05-28T15:16:24.083462Z"
    }
   },
   "cell_type": "code",
   "source": [
    "# Training the model\n",
    "model.fit(padded_sequences, labels, epochs=1)"
   ],
   "id": "6b3baea563715fd0",
   "outputs": [
    {
     "name": "stderr",
     "output_type": "stream",
     "text": [
      "2024-05-28 22:16:24.791997: I tensorflow/core/grappler/optimizers/custom_graph_optimizer_registry.cc:117] Plugin optimizer for device_type GPU is enabled.\n"
     ]
    },
    {
     "name": "stdout",
     "output_type": "stream",
     "text": [
      "1/1 [==============================] - 2s 2s/step - loss: 0.6933 - accuracy: 0.4000\n"
     ]
    },
    {
     "data": {
      "text/plain": [
       "<keras.src.callbacks.History at 0x287659490>"
      ]
     },
     "execution_count": 9,
     "metadata": {},
     "output_type": "execute_result"
    }
   ],
   "execution_count": 9
  },
  {
   "metadata": {
    "ExecuteTime": {
     "end_time": "2024-05-28T15:16:30.730053Z",
     "start_time": "2024-05-28T15:16:30.221511Z"
    }
   },
   "cell_type": "code",
   "source": [
    "# Sample prediction\n",
    "sample_text = [\"I love AI\"]\n",
    "sample_sequence = tokenizer.texts_to_sequences(sample_text)\n",
    "sample_padded = pad_sequences(sample_sequence, maxlen=max_length, padding=padding_type, truncating=truncating_type)\n",
    "prediction = model.predict(sample_padded)\n",
    "\n",
    "print(\"Prediction for '{}': {:.4f}\".format(sample_text[0], prediction[0][0]))"
   ],
   "id": "31a0637f8c2c1d3c",
   "outputs": [
    {
     "name": "stdout",
     "output_type": "stream",
     "text": [
      "1/1 [==============================] - 0s 477ms/step\n",
      "Prediction for 'I love AI': 0.5018\n"
     ]
    }
   ],
   "execution_count": 10
  },
  {
   "metadata": {},
   "cell_type": "code",
   "outputs": [],
   "execution_count": null,
   "source": "",
   "id": "8b2616c5b1c790c"
  }
 ],
 "metadata": {
  "kernelspec": {
   "display_name": "Python 3",
   "language": "python",
   "name": "python3"
  },
  "language_info": {
   "codemirror_mode": {
    "name": "ipython",
    "version": 2
   },
   "file_extension": ".py",
   "mimetype": "text/x-python",
   "name": "python",
   "nbconvert_exporter": "python",
   "pygments_lexer": "ipython2",
   "version": "2.7.6"
  }
 },
 "nbformat": 4,
 "nbformat_minor": 5
}
