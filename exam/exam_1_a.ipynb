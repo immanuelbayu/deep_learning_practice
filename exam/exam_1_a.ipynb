{
 "cells": [
  {
   "cell_type": "code",
   "id": "initial_id",
   "metadata": {
    "collapsed": true,
    "ExecuteTime": {
     "end_time": "2024-05-28T09:31:33.272717Z",
     "start_time": "2024-05-28T09:31:33.267732Z"
    }
   },
   "source": [
    "import warnings\n",
    "\n",
    "import matplotlib.pyplot as plt\n",
    "# Import libraries\n",
    "import numpy as np\n",
    "import pandas as pd\n",
    "from keras.layers import *\n",
    "from keras.models import *\n",
    "from keras.preprocessing import image\n",
    "from keras.preprocessing.image import ImageDataGenerator\n",
    "from sklearn.preprocessing import MultiLabelBinarizer\n",
    "\n",
    "warnings.filterwarnings('ignore')"
   ],
   "outputs": [],
   "execution_count": 521
  },
  {
   "metadata": {
    "ExecuteTime": {
     "end_time": "2024-05-28T09:31:34.076343Z",
     "start_time": "2024-05-28T09:31:34.056667Z"
    }
   },
   "cell_type": "code",
   "source": [
    "pd_data = pd.read_csv('../data/multilabel_modified/multilabel_classification_clean.csv')   # reading the csv file\n",
    "pd_data.head()"
   ],
   "id": "48404c786f807476",
   "outputs": [
    {
     "data": {
      "text/plain": [
       "   Image_Name       Classes  motorcycle  truck  boat  bus  cycle  person  \\\n",
       "0  image1.jpg    bus person           0      0     0    1      0       1   \n",
       "1  image2.jpg         sitar           0      0     0    0      0       0   \n",
       "2  image3.jpg        flutes           0      0     0    0      0       0   \n",
       "3  image4.jpg     bus trees           0      0     0    1      0       0   \n",
       "4  image5.jpg           bus           0      0     0    1      0       0   \n",
       "\n",
       "   desert  mountains  sea  sunset  trees  sitar  ektara  flutes  tabla  \\\n",
       "0       0          0    0       0      0      0       0       0      0   \n",
       "1       0          0    0       0      0      1       0       0      0   \n",
       "2       0          0    0       0      0      0       0       1      0   \n",
       "3       0          0    0       0      1      0       0       0      0   \n",
       "4       0          0    0       0      0      0       0       0      0   \n",
       "\n",
       "   harmonium  \n",
       "0          0  \n",
       "1          0  \n",
       "2          0  \n",
       "3          0  \n",
       "4          0  "
      ],
      "text/html": [
       "<div>\n",
       "<style scoped>\n",
       "    .dataframe tbody tr th:only-of-type {\n",
       "        vertical-align: middle;\n",
       "    }\n",
       "\n",
       "    .dataframe tbody tr th {\n",
       "        vertical-align: top;\n",
       "    }\n",
       "\n",
       "    .dataframe thead th {\n",
       "        text-align: right;\n",
       "    }\n",
       "</style>\n",
       "<table border=\"1\" class=\"dataframe\">\n",
       "  <thead>\n",
       "    <tr style=\"text-align: right;\">\n",
       "      <th></th>\n",
       "      <th>Image_Name</th>\n",
       "      <th>Classes</th>\n",
       "      <th>motorcycle</th>\n",
       "      <th>truck</th>\n",
       "      <th>boat</th>\n",
       "      <th>bus</th>\n",
       "      <th>cycle</th>\n",
       "      <th>person</th>\n",
       "      <th>desert</th>\n",
       "      <th>mountains</th>\n",
       "      <th>sea</th>\n",
       "      <th>sunset</th>\n",
       "      <th>trees</th>\n",
       "      <th>sitar</th>\n",
       "      <th>ektara</th>\n",
       "      <th>flutes</th>\n",
       "      <th>tabla</th>\n",
       "      <th>harmonium</th>\n",
       "    </tr>\n",
       "  </thead>\n",
       "  <tbody>\n",
       "    <tr>\n",
       "      <th>0</th>\n",
       "      <td>image1.jpg</td>\n",
       "      <td>bus person</td>\n",
       "      <td>0</td>\n",
       "      <td>0</td>\n",
       "      <td>0</td>\n",
       "      <td>1</td>\n",
       "      <td>0</td>\n",
       "      <td>1</td>\n",
       "      <td>0</td>\n",
       "      <td>0</td>\n",
       "      <td>0</td>\n",
       "      <td>0</td>\n",
       "      <td>0</td>\n",
       "      <td>0</td>\n",
       "      <td>0</td>\n",
       "      <td>0</td>\n",
       "      <td>0</td>\n",
       "      <td>0</td>\n",
       "    </tr>\n",
       "    <tr>\n",
       "      <th>1</th>\n",
       "      <td>image2.jpg</td>\n",
       "      <td>sitar</td>\n",
       "      <td>0</td>\n",
       "      <td>0</td>\n",
       "      <td>0</td>\n",
       "      <td>0</td>\n",
       "      <td>0</td>\n",
       "      <td>0</td>\n",
       "      <td>0</td>\n",
       "      <td>0</td>\n",
       "      <td>0</td>\n",
       "      <td>0</td>\n",
       "      <td>0</td>\n",
       "      <td>1</td>\n",
       "      <td>0</td>\n",
       "      <td>0</td>\n",
       "      <td>0</td>\n",
       "      <td>0</td>\n",
       "    </tr>\n",
       "    <tr>\n",
       "      <th>2</th>\n",
       "      <td>image3.jpg</td>\n",
       "      <td>flutes</td>\n",
       "      <td>0</td>\n",
       "      <td>0</td>\n",
       "      <td>0</td>\n",
       "      <td>0</td>\n",
       "      <td>0</td>\n",
       "      <td>0</td>\n",
       "      <td>0</td>\n",
       "      <td>0</td>\n",
       "      <td>0</td>\n",
       "      <td>0</td>\n",
       "      <td>0</td>\n",
       "      <td>0</td>\n",
       "      <td>0</td>\n",
       "      <td>1</td>\n",
       "      <td>0</td>\n",
       "      <td>0</td>\n",
       "    </tr>\n",
       "    <tr>\n",
       "      <th>3</th>\n",
       "      <td>image4.jpg</td>\n",
       "      <td>bus trees</td>\n",
       "      <td>0</td>\n",
       "      <td>0</td>\n",
       "      <td>0</td>\n",
       "      <td>1</td>\n",
       "      <td>0</td>\n",
       "      <td>0</td>\n",
       "      <td>0</td>\n",
       "      <td>0</td>\n",
       "      <td>0</td>\n",
       "      <td>0</td>\n",
       "      <td>1</td>\n",
       "      <td>0</td>\n",
       "      <td>0</td>\n",
       "      <td>0</td>\n",
       "      <td>0</td>\n",
       "      <td>0</td>\n",
       "    </tr>\n",
       "    <tr>\n",
       "      <th>4</th>\n",
       "      <td>image5.jpg</td>\n",
       "      <td>bus</td>\n",
       "      <td>0</td>\n",
       "      <td>0</td>\n",
       "      <td>0</td>\n",
       "      <td>1</td>\n",
       "      <td>0</td>\n",
       "      <td>0</td>\n",
       "      <td>0</td>\n",
       "      <td>0</td>\n",
       "      <td>0</td>\n",
       "      <td>0</td>\n",
       "      <td>0</td>\n",
       "      <td>0</td>\n",
       "      <td>0</td>\n",
       "      <td>0</td>\n",
       "      <td>0</td>\n",
       "      <td>0</td>\n",
       "    </tr>\n",
       "  </tbody>\n",
       "</table>\n",
       "</div>"
      ]
     },
     "execution_count": 522,
     "metadata": {},
     "output_type": "execute_result"
    }
   ],
   "execution_count": 522
  },
  {
   "metadata": {
    "ExecuteTime": {
     "end_time": "2024-05-28T09:31:34.873574Z",
     "start_time": "2024-05-28T09:31:34.770541Z"
    }
   },
   "cell_type": "code",
   "source": [
    "train_dir = \"../data/multilabel_modified/train\"\n",
    "val_dir = \"../data/multilabel_modified/validation\"\n",
    "test_dir = \"../data/multilabel_modified/test\"\n",
    "\n",
    "# Creating Image Data Generator for train, validation and test set\n",
    "def split_and_trim(labels):\n",
    "    return [label.strip() for label in labels.split(' ')]\n",
    "\n",
    "# Apply the function to the Labels column\n",
    "pd_data['Classes'] = pd_data['Classes'].apply(split_and_trim)\n",
    "\n",
    "mlb = MultiLabelBinarizer()\n",
    "multi_hot_labels = mlb.fit_transform(pd_data['Classes'])\n",
    "\n",
    "# Add multi-hot encoded labels to DataFrame\n",
    "label_columns = mlb.classes_\n",
    "for i, label in enumerate(label_columns):\n",
    "    pd_data[label] = multi_hot_labels[:, i]\n",
    "\n",
    "train_gen = ImageDataGenerator(rescale = 1.0/255.0) # Normalise the data\n",
    "train_image_generator = train_gen.flow_from_dataframe(\n",
    "    dataframe=pd_data,\n",
    "    directory=train_dir,\n",
    "    x_col='Image_Name',\n",
    "    y_col=['motorcycle', 'truck', 'boat', 'bus', 'cycle', 'person', 'desert', 'mountains', 'sea',\n",
    "           'sunset', 'trees', 'sitar', 'ektara', 'flutes', 'tabla', 'harmonium'],\n",
    "    color_mode=\"rgb\",\n",
    "    class_mode=\"raw\",\n",
    "    target_size=(224, 224),\n",
    "    batch_size=32  # to make this tutorial simple\n",
    ")\n",
    "\n",
    "val_gen = ImageDataGenerator(rescale = 1.0/255.0) # Normalise the data\n",
    "val_image_generator = val_gen.flow_from_dataframe(\n",
    "    dataframe=pd_data,\n",
    "    directory=val_dir,\n",
    "    x_col='Image_Name',\n",
    "    y_col=['motorcycle', 'truck', 'boat', 'bus', 'cycle', 'person', 'desert', 'mountains', 'sea',\n",
    "           'sunset', 'trees', 'sitar', 'ektara', 'flutes', 'tabla', 'harmonium'],\n",
    "    color_mode=\"rgb\",\n",
    "    class_mode=\"raw\",\n",
    "    target_size=(224, 224),\n",
    "    batch_size=32  # to make this tutorial simple\n",
    ")\n"
   ],
   "id": "2140bed13f111332",
   "outputs": [
    {
     "name": "stdout",
     "output_type": "stream",
     "text": [
      "Found 4000 validated image filenames.\n",
      "Found 2000 validated image filenames.\n"
     ]
    }
   ],
   "execution_count": 523
  },
  {
   "metadata": {
    "ExecuteTime": {
     "end_time": "2024-05-28T09:45:41.803761Z",
     "start_time": "2024-05-28T09:45:41.557678Z"
    }
   },
   "cell_type": "code",
   "source": [
    "# Build a custom sequential CNN model\n",
    "\n",
    "model = Sequential() # model object\n",
    "\n",
    "# Add Layers\n",
    "model.add(Conv2D(filters=16, kernel_size=(3,3), strides=1, padding='same', activation='relu', input_shape=[224, 224, 3]))\n",
    "model.add(MaxPooling2D(2))\n",
    "model.add(Conv2D(filters=32, kernel_size=(3,3), strides=1, padding='same', activation='relu'))\n",
    "model.add(MaxPooling2D(2))\n",
    "\n",
    "# Flatten the feature map\n",
    "model.add(Flatten())\n",
    "\n",
    "# Add the fully connected layers\n",
    "model.add(Dense(128, activation='relu'))\n",
    "model.add(Dropout(0.25))\n",
    "model.add(Dense(128, activation='relu'))\n",
    "model.add(Dense(16, activation='sigmoid'))"
   ],
   "id": "86048ec1ff4989b7",
   "outputs": [],
   "execution_count": 535
  },
  {
   "metadata": {
    "ExecuteTime": {
     "end_time": "2024-05-28T09:45:42.404204Z",
     "start_time": "2024-05-28T09:45:42.391811Z"
    }
   },
   "cell_type": "code",
   "source": [
    "# Print the model summary\n",
    "model.summary()"
   ],
   "id": "4c6d45d72a32c385",
   "outputs": [
    {
     "name": "stdout",
     "output_type": "stream",
     "text": [
      "Model: \"sequential_72\"\n",
      "_________________________________________________________________\n",
      " Layer (type)                Output Shape              Param #   \n",
      "=================================================================\n",
      " conv2d_150 (Conv2D)         (None, 224, 224, 16)      448       \n",
      "                                                                 \n",
      " max_pooling2d_150 (MaxPool  (None, 112, 112, 16)      0         \n",
      " ing2D)                                                          \n",
      "                                                                 \n",
      " conv2d_151 (Conv2D)         (None, 112, 112, 32)      4640      \n",
      "                                                                 \n",
      " max_pooling2d_151 (MaxPool  (None, 56, 56, 32)        0         \n",
      " ing2D)                                                          \n",
      "                                                                 \n",
      " flatten_72 (Flatten)        (None, 100352)            0         \n",
      "                                                                 \n",
      " dense_205 (Dense)           (None, 128)               12845184  \n",
      "                                                                 \n",
      " dropout_77 (Dropout)        (None, 128)               0         \n",
      "                                                                 \n",
      " dense_206 (Dense)           (None, 128)               16512     \n",
      "                                                                 \n",
      " dense_207 (Dense)           (None, 16)                2064      \n",
      "                                                                 \n",
      "=================================================================\n",
      "Total params: 12868848 (49.09 MB)\n",
      "Trainable params: 12868848 (49.09 MB)\n",
      "Non-trainable params: 0 (0.00 Byte)\n",
      "_________________________________________________________________\n"
     ]
    }
   ],
   "execution_count": 536
  },
  {
   "metadata": {
    "ExecuteTime": {
     "end_time": "2024-05-28T09:49:10.038384Z",
     "start_time": "2024-05-28T09:47:20.241419Z"
    }
   },
   "cell_type": "code",
   "source": [
    "# Compile the model\n",
    "model.compile(optimizer='Adam', loss='binary_crossentropy', metrics=['accuracy'])\n",
    "hist = model.fit(train_image_generator, \n",
    "                 epochs=5, \n",
    "                 verbose=1, \n",
    "                 validation_data=val_image_generator, \n",
    "                 steps_per_epoch = 4000//32, \n",
    "                 validation_steps = 2000//32)"
   ],
   "id": "f7eeacce59ba5b35",
   "outputs": [
    {
     "name": "stdout",
     "output_type": "stream",
     "text": [
      "Epoch 1/5\n",
      "125/125 [==============================] - 23s 174ms/step - loss: 0.2595 - accuracy: 0.4882 - val_loss: 0.4745 - val_accuracy: 0.3231\n",
      "Epoch 2/5\n",
      "125/125 [==============================] - 22s 177ms/step - loss: 0.2325 - accuracy: 0.5692 - val_loss: 0.6200 - val_accuracy: 0.1623\n",
      "Epoch 3/5\n",
      "125/125 [==============================] - 22s 176ms/step - loss: 0.2418 - accuracy: 0.5878 - val_loss: 0.6508 - val_accuracy: 0.2182\n",
      "Epoch 4/5\n",
      "125/125 [==============================] - 22s 174ms/step - loss: 0.3400 - accuracy: 0.6130 - val_loss: 1.0339 - val_accuracy: 0.0338\n",
      "Epoch 5/5\n",
      "125/125 [==============================] - 21s 168ms/step - loss: 0.4775 - accuracy: 0.6080 - val_loss: 2.0082 - val_accuracy: 0.0968\n"
     ]
    }
   ],
   "execution_count": 538
  },
  {
   "metadata": {
    "ExecuteTime": {
     "end_time": "2024-05-28T09:33:37.627144Z",
     "start_time": "2024-05-28T09:33:37.480279Z"
    }
   },
   "cell_type": "code",
   "source": [
    "# Plot the error and accuracy\n",
    "h = hist.history\n",
    "plt.style.use('ggplot')\n",
    "plt.figure(figsize=(10, 5))\n",
    "plt.plot(h['loss'], c='red', label='Training Loss')\n",
    "plt.plot(h['val_loss'], c='red', linestyle='--', label='Validation Loss')\n",
    "plt.plot(h['accuracy'], c='blue', label='Training Accuracy')\n",
    "plt.plot(h['val_accuracy'], c='blue', linestyle='--', label='Validation Accuracy')\n",
    "plt.xlabel(\"Number of Epochs\")\n",
    "plt.legend(loc='best')\n",
    "plt.show()"
   ],
   "id": "c4505c533577a252",
   "outputs": [
    {
     "data": {
      "text/plain": [
       "<Figure size 1000x500 with 1 Axes>"
      ],
      "image/png": "[encoded data removed]"
     },
     "metadata": {},
     "output_type": "display_data"
    }
   ],
   "execution_count": 527
  },
  {
   "metadata": {
    "ExecuteTime": {
     "end_time": "2024-05-28T09:33:39.434914Z",
     "start_time": "2024-05-28T09:33:39.235184Z"
    }
   },
   "cell_type": "code",
   "source": [
    "# Load and preprocess the input image\n",
    "img_path = test_dir+'/image6005.jpg'  # Replace 'path_to_input_image' with the actual path\n",
    "img = image.load_img(img_path, target_size=(224, 224))\n",
    "img_array = image.img_to_array(img)\n",
    "img_array = np.expand_dims(img_array, axis=0)  # Add batch dimension\n",
    "img_array /= 255.0  # Scale pixel values to [0, 1]\n",
    "\n",
    "# Make predictions\n",
    "predictions = model.predict(img_array)\n",
    "\n",
    "decoded_predictions = [label_columns[i] for i, pred in enumerate(predictions[0]) if pred >= 0.5]\n",
    "\n",
    "print(\"Predicted labels:\", decoded_predictions)\n"
   ],
   "id": "826c9839b9f52c53",
   "outputs": [
    {
     "name": "stdout",
     "output_type": "stream",
     "text": [
      "1/1 [==============================] - 0s 145ms/step\n",
      "Predicted labels: ['desert']\n"
     ]
    }
   ],
   "execution_count": 528
  },
  {
   "metadata": {},
   "cell_type": "code",
   "outputs": [],
   "execution_count": null,
   "source": "",
   "id": "84b1468ceaee9411"
  }
 ],
 "metadata": {
  "kernelspec": {
   "display_name": "Python 3",
   "language": "python",
   "name": "python3"
  },
  "language_info": {
   "codemirror_mode": {
    "name": "ipython",
    "version": 2
   },
   "file_extension": ".py",
   "mimetype": "text/x-python",
   "name": "python",
   "nbconvert_exporter": "python",
   "pygments_lexer": "ipython2",
   "version": "2.7.6"
  }
 },
 "nbformat": 4,
 "nbformat_minor": 5
}
