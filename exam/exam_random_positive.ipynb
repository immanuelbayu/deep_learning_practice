{
 "cells": [
  {
   "cell_type": "code",
   "id": "initial_id",
   "metadata": {
    "collapsed": true,
    "ExecuteTime": {
     "end_time": "2024-05-30T03:26:58.411830Z",
     "start_time": "2024-05-30T03:19:22.354274Z"
    }
   },
   "source": [
    "import random\n",
    "\n",
    "# Positive sentence templates\n",
    "positive_templates = [\n",
    "    'I love this {}, it is fantastic!',\n",
    "    'An excellent {} with a great plot.',\n",
    "    'Absolutely wonderful and thrilling!',\n",
    "    'An outstanding performance by the actors.',\n",
    "    'A masterpiece of cinematography.',\n",
    "    \"I love BERT!\", \n",
    "    \"BERT is amazing.\", \n",
    "    \"I'm a fan of BERT.\", \n",
    "    \"BERT makes me happy.\"\n",
    "]\n",
    "\n",
    "# Random choices for placeholders\n",
    "choices = [\"movie\", \"book\", \"show\", \"play\", \"experience\", \"performance\", \"film\", \"series\", \"work\"]\n",
    "\n",
    "# Generate 100 unique random positive sentences\n",
    "random_positive_sentences = set()\n",
    "\n",
    "while len(random_positive_sentences) < 100:\n",
    "    template = random.choice(positive_templates)\n",
    "    choice = random.choice(choices)\n",
    "    if '{}' in template:\n",
    "        random_sentence = template.format(choice)\n",
    "    else:\n",
    "        random_sentence = template\n",
    "    random_positive_sentences.add(random_sentence)\n",
    "\n",
    "# Print the generated sentences\n",
    "for sentence in random_positive_sentences:\n",
    "    print(sentence)"
   ],
   "outputs": [
    {
     "ename": "KeyboardInterrupt",
     "evalue": "",
     "output_type": "error",
     "traceback": [
      "\u001B[0;31m---------------------------------------------------------------------------\u001B[0m",
      "\u001B[0;31mKeyboardInterrupt\u001B[0m                         Traceback (most recent call last)",
      "Cell \u001B[0;32mIn[3], line 23\u001B[0m\n\u001B[1;32m     20\u001B[0m random_positive_sentences \u001B[38;5;241m=\u001B[39m \u001B[38;5;28mset\u001B[39m()\n\u001B[1;32m     22\u001B[0m \u001B[38;5;28;01mwhile\u001B[39;00m \u001B[38;5;28mlen\u001B[39m(random_positive_sentences) \u001B[38;5;241m<\u001B[39m \u001B[38;5;241m100\u001B[39m:\n\u001B[0;32m---> 23\u001B[0m     template \u001B[38;5;241m=\u001B[39m \u001B[43mrandom\u001B[49m\u001B[38;5;241;43m.\u001B[39;49m\u001B[43mchoice\u001B[49m\u001B[43m(\u001B[49m\u001B[43mpositive_templates\u001B[49m\u001B[43m)\u001B[49m\n\u001B[1;32m     24\u001B[0m     choice \u001B[38;5;241m=\u001B[39m random\u001B[38;5;241m.\u001B[39mchoice(choices)\n\u001B[1;32m     25\u001B[0m     \u001B[38;5;28;01mif\u001B[39;00m \u001B[38;5;124m'\u001B[39m\u001B[38;5;132;01m{}\u001B[39;00m\u001B[38;5;124m'\u001B[39m \u001B[38;5;129;01min\u001B[39;00m template:\n",
      "File \u001B[0;32m/Library/Developer/CommandLineTools/Library/Frameworks/Python3.framework/Versions/3.9/lib/python3.9/random.py:346\u001B[0m, in \u001B[0;36mRandom.choice\u001B[0;34m(self, seq)\u001B[0m\n\u001B[1;32m    344\u001B[0m \u001B[38;5;250m\u001B[39m\u001B[38;5;124;03m\"\"\"Choose a random element from a non-empty sequence.\"\"\"\u001B[39;00m\n\u001B[1;32m    345\u001B[0m \u001B[38;5;66;03m# raises IndexError if seq is empty\u001B[39;00m\n\u001B[0;32m--> 346\u001B[0m \u001B[38;5;28;01mreturn\u001B[39;00m seq[\u001B[38;5;28;43mself\u001B[39;49m\u001B[38;5;241;43m.\u001B[39;49m\u001B[43m_randbelow\u001B[49m\u001B[43m(\u001B[49m\u001B[38;5;28;43mlen\u001B[39;49m\u001B[43m(\u001B[49m\u001B[43mseq\u001B[49m\u001B[43m)\u001B[49m\u001B[43m)\u001B[49m]\n",
      "File \u001B[0;32m/Library/Developer/CommandLineTools/Library/Frameworks/Python3.framework/Versions/3.9/lib/python3.9/random.py:237\u001B[0m, in \u001B[0;36mRandom._randbelow_with_getrandbits\u001B[0;34m(self, n)\u001B[0m\n\u001B[1;32m    234\u001B[0m             \u001B[38;5;28mcls\u001B[39m\u001B[38;5;241m.\u001B[39m_randbelow \u001B[38;5;241m=\u001B[39m \u001B[38;5;28mcls\u001B[39m\u001B[38;5;241m.\u001B[39m_randbelow_without_getrandbits\n\u001B[1;32m    235\u001B[0m             \u001B[38;5;28;01mbreak\u001B[39;00m\n\u001B[0;32m--> 237\u001B[0m \u001B[38;5;28;01mdef\u001B[39;00m \u001B[38;5;21m_randbelow_with_getrandbits\u001B[39m(\u001B[38;5;28mself\u001B[39m, n):\n\u001B[1;32m    238\u001B[0m     \u001B[38;5;124m\"\u001B[39m\u001B[38;5;124mReturn a random int in the range [0,n).  Returns 0 if n==0.\u001B[39m\u001B[38;5;124m\"\u001B[39m\n\u001B[1;32m    240\u001B[0m     \u001B[38;5;28;01mif\u001B[39;00m \u001B[38;5;129;01mnot\u001B[39;00m n:\n",
      "\u001B[0;31mKeyboardInterrupt\u001B[0m: "
     ]
    }
   ],
   "execution_count": 3
  },
  {
   "metadata": {},
   "cell_type": "code",
   "outputs": [],
   "execution_count": null,
   "source": "",
   "id": "6824b43440170a79"
  }
 ],
 "metadata": {
  "kernelspec": {
   "display_name": "Python 3",
   "language": "python",
   "name": "python3"
  },
  "language_info": {
   "codemirror_mode": {
    "name": "ipython",
    "version": 2
   },
   "file_extension": ".py",
   "mimetype": "text/x-python",
   "name": "python",
   "nbconvert_exporter": "python",
   "pygments_lexer": "ipython2",
   "version": "2.7.6"
  }
 },
 "nbformat": 4,
 "nbformat_minor": 5
}
