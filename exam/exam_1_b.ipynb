{
 "cells": [
  {
   "cell_type": "code",
   "id": "initial_id",
   "metadata": {
    "collapsed": true,
    "ExecuteTime": {
     "end_time": "2024-05-28T14:32:01.791735Z",
     "start_time": "2024-05-28T14:31:58.180078Z"
    }
   },
   "source": [
    "import warnings\n",
    "\n",
    "# Import libraries\n",
    "import numpy as np\n",
    "import pandas as pd\n",
    "from keras.layers import *\n",
    "from keras.models import *\n",
    "from keras.preprocessing import image\n",
    "from keras.preprocessing.image import ImageDataGenerator\n",
    "from sklearn.preprocessing import MultiLabelBinarizer\n",
    "from tensorflow.keras.applications import InceptionV3\n",
    "from tensorflow.keras.optimizers import Adam\n",
    "\n",
    "warnings.filterwarnings('ignore')"
   ],
   "outputs": [],
   "execution_count": 2
  },
  {
   "metadata": {
    "ExecuteTime": {
     "end_time": "2024-05-28T14:32:05.200171Z",
     "start_time": "2024-05-28T14:32:05.176274Z"
    }
   },
   "cell_type": "code",
   "source": [
    "pd_data = pd.read_csv('../data/multilabel_modified/multilabel_classification_clean.csv')   # reading the csv file\n",
    "pd_data.head()"
   ],
   "id": "a2c1a0ad2027b620",
   "outputs": [
    {
     "data": {
      "text/plain": [
       "   Image_Name       Classes  motorcycle  truck  boat  bus  cycle  person  \\\n",
       "0  image1.jpg    bus person           0      0     0    1      0       1   \n",
       "1  image2.jpg         sitar           0      0     0    0      0       0   \n",
       "2  image3.jpg        flutes           0      0     0    0      0       0   \n",
       "3  image4.jpg     bus trees           0      0     0    1      0       0   \n",
       "4  image5.jpg           bus           0      0     0    1      0       0   \n",
       "\n",
       "   desert  mountains  sea  sunset  trees  sitar  ektara  flutes  tabla  \\\n",
       "0       0          0    0       0      0      0       0       0      0   \n",
       "1       0          0    0       0      0      1       0       0      0   \n",
       "2       0          0    0       0      0      0       0       1      0   \n",
       "3       0          0    0       0      1      0       0       0      0   \n",
       "4       0          0    0       0      0      0       0       0      0   \n",
       "\n",
       "   harmonium  \n",
       "0          0  \n",
       "1          0  \n",
       "2          0  \n",
       "3          0  \n",
       "4          0  "
      ],
      "text/html": [
       "<div>\n",
       "<style scoped>\n",
       "    .dataframe tbody tr th:only-of-type {\n",
       "        vertical-align: middle;\n",
       "    }\n",
       "\n",
       "    .dataframe tbody tr th {\n",
       "        vertical-align: top;\n",
       "    }\n",
       "\n",
       "    .dataframe thead th {\n",
       "        text-align: right;\n",
       "    }\n",
       "</style>\n",
       "<table border=\"1\" class=\"dataframe\">\n",
       "  <thead>\n",
       "    <tr style=\"text-align: right;\">\n",
       "      <th></th>\n",
       "      <th>Image_Name</th>\n",
       "      <th>Classes</th>\n",
       "      <th>motorcycle</th>\n",
       "      <th>truck</th>\n",
       "      <th>boat</th>\n",
       "      <th>bus</th>\n",
       "      <th>cycle</th>\n",
       "      <th>person</th>\n",
       "      <th>desert</th>\n",
       "      <th>mountains</th>\n",
       "      <th>sea</th>\n",
       "      <th>sunset</th>\n",
       "      <th>trees</th>\n",
       "      <th>sitar</th>\n",
       "      <th>ektara</th>\n",
       "      <th>flutes</th>\n",
       "      <th>tabla</th>\n",
       "      <th>harmonium</th>\n",
       "    </tr>\n",
       "  </thead>\n",
       "  <tbody>\n",
       "    <tr>\n",
       "      <th>0</th>\n",
       "      <td>image1.jpg</td>\n",
       "      <td>bus person</td>\n",
       "      <td>0</td>\n",
       "      <td>0</td>\n",
       "      <td>0</td>\n",
       "      <td>1</td>\n",
       "      <td>0</td>\n",
       "      <td>1</td>\n",
       "      <td>0</td>\n",
       "      <td>0</td>\n",
       "      <td>0</td>\n",
       "      <td>0</td>\n",
       "      <td>0</td>\n",
       "      <td>0</td>\n",
       "      <td>0</td>\n",
       "      <td>0</td>\n",
       "      <td>0</td>\n",
       "      <td>0</td>\n",
       "    </tr>\n",
       "    <tr>\n",
       "      <th>1</th>\n",
       "      <td>image2.jpg</td>\n",
       "      <td>sitar</td>\n",
       "      <td>0</td>\n",
       "      <td>0</td>\n",
       "      <td>0</td>\n",
       "      <td>0</td>\n",
       "      <td>0</td>\n",
       "      <td>0</td>\n",
       "      <td>0</td>\n",
       "      <td>0</td>\n",
       "      <td>0</td>\n",
       "      <td>0</td>\n",
       "      <td>0</td>\n",
       "      <td>1</td>\n",
       "      <td>0</td>\n",
       "      <td>0</td>\n",
       "      <td>0</td>\n",
       "      <td>0</td>\n",
       "    </tr>\n",
       "    <tr>\n",
       "      <th>2</th>\n",
       "      <td>image3.jpg</td>\n",
       "      <td>flutes</td>\n",
       "      <td>0</td>\n",
       "      <td>0</td>\n",
       "      <td>0</td>\n",
       "      <td>0</td>\n",
       "      <td>0</td>\n",
       "      <td>0</td>\n",
       "      <td>0</td>\n",
       "      <td>0</td>\n",
       "      <td>0</td>\n",
       "      <td>0</td>\n",
       "      <td>0</td>\n",
       "      <td>0</td>\n",
       "      <td>0</td>\n",
       "      <td>1</td>\n",
       "      <td>0</td>\n",
       "      <td>0</td>\n",
       "    </tr>\n",
       "    <tr>\n",
       "      <th>3</th>\n",
       "      <td>image4.jpg</td>\n",
       "      <td>bus trees</td>\n",
       "      <td>0</td>\n",
       "      <td>0</td>\n",
       "      <td>0</td>\n",
       "      <td>1</td>\n",
       "      <td>0</td>\n",
       "      <td>0</td>\n",
       "      <td>0</td>\n",
       "      <td>0</td>\n",
       "      <td>0</td>\n",
       "      <td>0</td>\n",
       "      <td>1</td>\n",
       "      <td>0</td>\n",
       "      <td>0</td>\n",
       "      <td>0</td>\n",
       "      <td>0</td>\n",
       "      <td>0</td>\n",
       "    </tr>\n",
       "    <tr>\n",
       "      <th>4</th>\n",
       "      <td>image5.jpg</td>\n",
       "      <td>bus</td>\n",
       "      <td>0</td>\n",
       "      <td>0</td>\n",
       "      <td>0</td>\n",
       "      <td>1</td>\n",
       "      <td>0</td>\n",
       "      <td>0</td>\n",
       "      <td>0</td>\n",
       "      <td>0</td>\n",
       "      <td>0</td>\n",
       "      <td>0</td>\n",
       "      <td>0</td>\n",
       "      <td>0</td>\n",
       "      <td>0</td>\n",
       "      <td>0</td>\n",
       "      <td>0</td>\n",
       "      <td>0</td>\n",
       "    </tr>\n",
       "  </tbody>\n",
       "</table>\n",
       "</div>"
      ]
     },
     "execution_count": 3,
     "metadata": {},
     "output_type": "execute_result"
    }
   ],
   "execution_count": 3
  },
  {
   "metadata": {
    "ExecuteTime": {
     "end_time": "2024-05-28T14:32:06.157737Z",
     "start_time": "2024-05-28T14:32:06.031048Z"
    }
   },
   "cell_type": "code",
   "source": [
    "train_dir = \"../data/multilabel_modified/train\"\n",
    "val_dir = \"../data/multilabel_modified/validation\"\n",
    "test_dir = \"../data/multilabel_modified/test\"\n",
    "\n",
    "# Creating Image Data Generator for train, validation and test set\n",
    "def split_and_trim(labels):\n",
    "    return [label.strip() for label in labels.split(' ')]\n",
    "\n",
    "# Apply the function to the Labels column\n",
    "pd_data['Classes'] = pd_data['Classes'].apply(split_and_trim)\n",
    "\n",
    "mlb = MultiLabelBinarizer()\n",
    "multi_hot_labels = mlb.fit_transform(pd_data['Classes'])\n",
    "\n",
    "# Add multi-hot encoded labels to DataFrame\n",
    "label_columns = mlb.classes_\n",
    "for i, label in enumerate(label_columns):\n",
    "    pd_data[label] = multi_hot_labels[:, i]\n",
    "    \n",
    "y_cols = ['motorcycle', 'truck', 'boat', 'bus', 'cycle', 'person', 'desert', 'mountains', 'sea',\n",
    "           'sunset', 'trees', 'sitar', 'ektara', 'flutes', 'tabla', 'harmonium']\n",
    "\n",
    "train_gen = ImageDataGenerator(rescale = 1.0/255.0) # Normalise the data\n",
    "train_image_generator = train_gen.flow_from_dataframe(\n",
    "    dataframe=pd_data,\n",
    "    directory=train_dir,\n",
    "    x_col='Image_Name',\n",
    "    y_col= y_cols,\n",
    "    color_mode=\"rgb\",\n",
    "    class_mode=\"raw\",\n",
    "    target_size=(224, 224),\n",
    "    batch_size=32  # to make this tutorial simple\n",
    ")\n",
    "\n",
    "val_gen = ImageDataGenerator(rescale = 1.0/255.0) # Normalise the data\n",
    "val_image_generator = val_gen.flow_from_dataframe(\n",
    "    dataframe=pd_data,\n",
    "    directory=val_dir,\n",
    "    x_col='Image_Name',\n",
    "    y_col=y_cols,\n",
    "    color_mode=\"rgb\",\n",
    "    class_mode=\"raw\",\n",
    "    target_size=(224, 224),\n",
    "    batch_size=32  # to make this tutorial simple\n",
    ")"
   ],
   "id": "bd27dfbdf579a8ab",
   "outputs": [
    {
     "name": "stdout",
     "output_type": "stream",
     "text": [
      "Found 4000 validated image filenames.\n",
      "Found 2000 validated image filenames.\n"
     ]
    }
   ],
   "execution_count": 4
  },
  {
   "metadata": {
    "ExecuteTime": {
     "end_time": "2024-05-28T14:36:50.997419Z",
     "start_time": "2024-05-28T14:36:49.100326Z"
    }
   },
   "cell_type": "code",
   "source": [
    "# Load the InceptionV3 model\n",
    "base_model = InceptionV3(weights='imagenet', include_top=False, input_shape=(224, 224, 3))\n",
    "\n",
    "# Add custom layers on top of InceptionV3\n",
    "x = base_model.output\n",
    "x = GlobalAveragePooling2D()(x)\n",
    "x = Dense(512, activation='relu')(x)\n",
    "x = Dropout(0.5)(x)\n",
    "predictions = Dense(len(y_cols), activation='sigmoid')(x)\n",
    "\n",
    "# Create the model\n",
    "model = Model(inputs=base_model.input, outputs=predictions)"
   ],
   "id": "a13701069358e91d",
   "outputs": [],
   "execution_count": 9
  },
  {
   "metadata": {
    "ExecuteTime": {
     "end_time": "2024-05-28T14:53:01.289866Z",
     "start_time": "2024-05-28T14:53:01.238866Z"
    }
   },
   "cell_type": "code",
   "source": [
    "# Compile the model\n",
    "model.compile(optimizer=Adam(lr=0.01), loss='binary_crossentropy', metrics=['accuracy'])"
   ],
   "id": "5a4d45af00712b1f",
   "outputs": [
    {
     "name": "stderr",
     "output_type": "stream",
     "text": [
      "WARNING:absl:At this time, the v2.11+ optimizer `tf.keras.optimizers.Adam` runs slowly on M1/M2 Macs, please use the legacy Keras optimizer instead, located at `tf.keras.optimizers.legacy.Adam`.\n",
      "WARNING:absl:`lr` is deprecated in Keras optimizer, please use `learning_rate` or use the legacy optimizer, e.g.,tf.keras.optimizers.legacy.Adam.\n"
     ]
    }
   ],
   "execution_count": 17
  },
  {
   "metadata": {
    "ExecuteTime": {
     "end_time": "2024-05-28T15:01:49.984917Z",
     "start_time": "2024-05-28T14:59:23.834205Z"
    }
   },
   "cell_type": "code",
   "source": [
    "# Train the model\n",
    "history = model.fit(\n",
    "    train_image_generator,\n",
    "    validation_data=val_image_generator,\n",
    "    epochs=3,  # Adjust the number of epochs as needed\n",
    "    steps_per_epoch=len(train_image_generator),\n",
    "    validation_steps=len(val_image_generator)\n",
    ")"
   ],
   "id": "2e813b29b1a4f696",
   "outputs": [
    {
     "name": "stdout",
     "output_type": "stream",
     "text": [
      "Epoch 1/3\n",
      "125/125 [==============================] - 51s 400ms/step - loss: 0.0636 - accuracy: 0.8568 - val_loss: 0.6298 - val_accuracy: 0.1570\n",
      "Epoch 2/3\n",
      "125/125 [==============================] - 47s 377ms/step - loss: 0.0669 - accuracy: 0.8393 - val_loss: 0.4878 - val_accuracy: 0.3360\n",
      "Epoch 3/3\n",
      "125/125 [==============================] - 47s 377ms/step - loss: 0.0577 - accuracy: 0.8612 - val_loss: 0.4266 - val_accuracy: 0.3765\n"
     ]
    }
   ],
   "execution_count": 19
  },
  {
   "metadata": {
    "ExecuteTime": {
     "end_time": "2024-05-28T14:33:43.860384Z",
     "start_time": "2024-05-28T14:33:40.864263Z"
    }
   },
   "cell_type": "code",
   "source": [
    "# Load and preprocess the input image\n",
    "img_path = test_dir+'/image6005.jpg'  # Replace 'path_to_input_image' with the actual path\n",
    "img = image.load_img(img_path, target_size=(224, 224))\n",
    "img_array = image.img_to_array(img)\n",
    "img_array = np.expand_dims(img_array, axis=0)  # Add batch dimension\n",
    "img_array /= 255.0  # Scale pixel values to [0, 1]\n",
    "\n",
    "# Make predictions\n",
    "predictions = model.predict(img_array)\n",
    "\n",
    "decoded_predictions = [label_columns[i] for i, pred in enumerate(predictions[0]) if pred >= 0.5]\n",
    "\n",
    "print(\"Predicted labels:\", decoded_predictions)\n"
   ],
   "id": "fb4ffd27e21f7d38",
   "outputs": [
    {
     "name": "stdout",
     "output_type": "stream",
     "text": [
      "1/1 [==============================] - 3s 3s/step\n",
      "Predicted labels: ['cycle']\n"
     ]
    }
   ],
   "execution_count": 8
  },
  {
   "metadata": {},
   "cell_type": "code",
   "outputs": [],
   "execution_count": null,
   "source": "",
   "id": "b5f073b646e8082a"
  }
 ],
 "metadata": {
  "kernelspec": {
   "display_name": "Python 3",
   "language": "python",
   "name": "python3"
  },
  "language_info": {
   "codemirror_mode": {
    "name": "ipython",
    "version": 2
   },
   "file_extension": ".py",
   "mimetype": "text/x-python",
   "name": "python",
   "nbconvert_exporter": "python",
   "pygments_lexer": "ipython2",
   "version": "2.7.6"
  }
 },
 "nbformat": 4,
 "nbformat_minor": 5
}
