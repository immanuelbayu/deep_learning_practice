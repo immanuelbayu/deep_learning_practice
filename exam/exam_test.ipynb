{
 "cells": [
  {
   "cell_type": "code",
   "execution_count": null,
   "id": "initial_id",
   "metadata": {
    "collapsed": true
   },
   "outputs": [],
   "source": [
    "import torch\n",
    "from transformers import BertTokenizer, BertForSequenceClassification, Trainer, TrainingArguments"
   ]
  },
  {
   "metadata": {},
   "cell_type": "code",
   "outputs": [],
   "execution_count": null,
   "source": [
    "# Define a simple custom dataset\n",
    "train_texts = [\"I love BERT!\", \"BERT is amazing.\"]\n",
    "train_labels = [1, 1]  # Positive sentiment for both examples\n",
    "\n",
    "eval_texts = [\"I dislike BERT.\", \"BERT is not good.\"]\n",
    "eval_labels = [0, 0]  # Negative sentiment for both examples"
   ],
   "id": "2fb6eab148c2a4be"
  },
  {
   "metadata": {},
   "cell_type": "code",
   "outputs": [],
   "execution_count": null,
   "source": "",
   "id": "635e9d69e4488edb"
  }
 ],
 "metadata": {
  "kernelspec": {
   "display_name": "Python 3",
   "language": "python",
   "name": "python3"
  },
  "language_info": {
   "codemirror_mode": {
    "name": "ipython",
    "version": 2
   },
   "file_extension": ".py",
   "mimetype": "text/x-python",
   "name": "python",
   "nbconvert_exporter": "python",
   "pygments_lexer": "ipython2",
   "version": "2.7.6"
  }
 },
 "nbformat": 4,
 "nbformat_minor": 5
}
