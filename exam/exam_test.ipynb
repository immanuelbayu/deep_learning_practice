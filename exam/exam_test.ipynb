{
 "cells": [
  {
   "cell_type": "code",
   "id": "initial_id",
   "metadata": {
    "collapsed": true,
    "ExecuteTime": {
     "end_time": "2024-05-28T02:52:49.432291Z",
     "start_time": "2024-05-28T02:52:49.420128Z"
    }
   },
   "source": [
    "import warnings\n",
    "\n",
    "# Import libraries\n",
    "import numpy as np\n",
    "import pandas as pd\n",
    "from keras.layers import *\n",
    "from keras.models import *\n",
    "from keras.preprocessing.image import ImageDataGenerator\n",
    "from tensorflow import keras\n",
    "from sklearn.preprocessing import MultiLabelBinarizer\n",
    "\n",
    "warnings.filterwarnings('ignore')\n",
    "\n",
    "%matplotlib inline"
   ],
   "outputs": [],
   "execution_count": 162
  },
  {
   "metadata": {
    "ExecuteTime": {
     "end_time": "2024-05-28T02:52:50.398330Z",
     "start_time": "2024-05-28T02:52:50.376286Z"
    }
   },
   "cell_type": "code",
   "source": [
    "pd_data = pd.read_csv('../data/multilabel_modified/multilabel_classification_clean.csv')   # reading the csv file\n",
    "pd_data.head()"
   ],
   "id": "48404c786f807476",
   "outputs": [
    {
     "data": {
      "text/plain": [
       "   Image_Name       Classes  motorcycle  truck  boat  bus  cycle  person  \\\n",
       "0  image1.jpg    bus person           0      0     0    1      0       1   \n",
       "1  image2.jpg         sitar           0      0     0    0      0       0   \n",
       "2  image3.jpg        flutes           0      0     0    0      0       0   \n",
       "3  image4.jpg     bus trees           0      0     0    1      0       0   \n",
       "4  image5.jpg           bus           0      0     0    1      0       0   \n",
       "\n",
       "   desert  mountains  sea  sunset  trees  sitar  ektara  flutes  tabla  \\\n",
       "0       0          0    0       0      0      0       0       0      0   \n",
       "1       0          0    0       0      0      1       0       0      0   \n",
       "2       0          0    0       0      0      0       0       1      0   \n",
       "3       0          0    0       0      1      0       0       0      0   \n",
       "4       0          0    0       0      0      0       0       0      0   \n",
       "\n",
       "   harmonium  \n",
       "0          0  \n",
       "1          0  \n",
       "2          0  \n",
       "3          0  \n",
       "4          0  "
      ],
      "text/html": [
       "<div>\n",
       "<style scoped>\n",
       "    .dataframe tbody tr th:only-of-type {\n",
       "        vertical-align: middle;\n",
       "    }\n",
       "\n",
       "    .dataframe tbody tr th {\n",
       "        vertical-align: top;\n",
       "    }\n",
       "\n",
       "    .dataframe thead th {\n",
       "        text-align: right;\n",
       "    }\n",
       "</style>\n",
       "<table border=\"1\" class=\"dataframe\">\n",
       "  <thead>\n",
       "    <tr style=\"text-align: right;\">\n",
       "      <th></th>\n",
       "      <th>Image_Name</th>\n",
       "      <th>Classes</th>\n",
       "      <th>motorcycle</th>\n",
       "      <th>truck</th>\n",
       "      <th>boat</th>\n",
       "      <th>bus</th>\n",
       "      <th>cycle</th>\n",
       "      <th>person</th>\n",
       "      <th>desert</th>\n",
       "      <th>mountains</th>\n",
       "      <th>sea</th>\n",
       "      <th>sunset</th>\n",
       "      <th>trees</th>\n",
       "      <th>sitar</th>\n",
       "      <th>ektara</th>\n",
       "      <th>flutes</th>\n",
       "      <th>tabla</th>\n",
       "      <th>harmonium</th>\n",
       "    </tr>\n",
       "  </thead>\n",
       "  <tbody>\n",
       "    <tr>\n",
       "      <th>0</th>\n",
       "      <td>image1.jpg</td>\n",
       "      <td>bus person</td>\n",
       "      <td>0</td>\n",
       "      <td>0</td>\n",
       "      <td>0</td>\n",
       "      <td>1</td>\n",
       "      <td>0</td>\n",
       "      <td>1</td>\n",
       "      <td>0</td>\n",
       "      <td>0</td>\n",
       "      <td>0</td>\n",
       "      <td>0</td>\n",
       "      <td>0</td>\n",
       "      <td>0</td>\n",
       "      <td>0</td>\n",
       "      <td>0</td>\n",
       "      <td>0</td>\n",
       "      <td>0</td>\n",
       "    </tr>\n",
       "    <tr>\n",
       "      <th>1</th>\n",
       "      <td>image2.jpg</td>\n",
       "      <td>sitar</td>\n",
       "      <td>0</td>\n",
       "      <td>0</td>\n",
       "      <td>0</td>\n",
       "      <td>0</td>\n",
       "      <td>0</td>\n",
       "      <td>0</td>\n",
       "      <td>0</td>\n",
       "      <td>0</td>\n",
       "      <td>0</td>\n",
       "      <td>0</td>\n",
       "      <td>0</td>\n",
       "      <td>1</td>\n",
       "      <td>0</td>\n",
       "      <td>0</td>\n",
       "      <td>0</td>\n",
       "      <td>0</td>\n",
       "    </tr>\n",
       "    <tr>\n",
       "      <th>2</th>\n",
       "      <td>image3.jpg</td>\n",
       "      <td>flutes</td>\n",
       "      <td>0</td>\n",
       "      <td>0</td>\n",
       "      <td>0</td>\n",
       "      <td>0</td>\n",
       "      <td>0</td>\n",
       "      <td>0</td>\n",
       "      <td>0</td>\n",
       "      <td>0</td>\n",
       "      <td>0</td>\n",
       "      <td>0</td>\n",
       "      <td>0</td>\n",
       "      <td>0</td>\n",
       "      <td>0</td>\n",
       "      <td>1</td>\n",
       "      <td>0</td>\n",
       "      <td>0</td>\n",
       "    </tr>\n",
       "    <tr>\n",
       "      <th>3</th>\n",
       "      <td>image4.jpg</td>\n",
       "      <td>bus trees</td>\n",
       "      <td>0</td>\n",
       "      <td>0</td>\n",
       "      <td>0</td>\n",
       "      <td>1</td>\n",
       "      <td>0</td>\n",
       "      <td>0</td>\n",
       "      <td>0</td>\n",
       "      <td>0</td>\n",
       "      <td>0</td>\n",
       "      <td>0</td>\n",
       "      <td>1</td>\n",
       "      <td>0</td>\n",
       "      <td>0</td>\n",
       "      <td>0</td>\n",
       "      <td>0</td>\n",
       "      <td>0</td>\n",
       "    </tr>\n",
       "    <tr>\n",
       "      <th>4</th>\n",
       "      <td>image5.jpg</td>\n",
       "      <td>bus</td>\n",
       "      <td>0</td>\n",
       "      <td>0</td>\n",
       "      <td>0</td>\n",
       "      <td>1</td>\n",
       "      <td>0</td>\n",
       "      <td>0</td>\n",
       "      <td>0</td>\n",
       "      <td>0</td>\n",
       "      <td>0</td>\n",
       "      <td>0</td>\n",
       "      <td>0</td>\n",
       "      <td>0</td>\n",
       "      <td>0</td>\n",
       "      <td>0</td>\n",
       "      <td>0</td>\n",
       "      <td>0</td>\n",
       "    </tr>\n",
       "  </tbody>\n",
       "</table>\n",
       "</div>"
      ]
     },
     "execution_count": 163,
     "metadata": {},
     "output_type": "execute_result"
    }
   ],
   "execution_count": 163
  },
  {
   "metadata": {
    "ExecuteTime": {
     "end_time": "2024-05-28T02:52:51.174733Z",
     "start_time": "2024-05-28T02:52:51.050331Z"
    }
   },
   "cell_type": "code",
   "source": [
    "train_dir = \"../data/multilabel_modified/train\"\n",
    "val_dir = \"../data/multilabel_modified/validation\"\n",
    "test_dir = \"../data/multilabel_modified/test\"\n",
    "\n",
    "# Creating Image Data Generator for train, validation and test set\n",
    "def split_and_trim(labels):\n",
    "    return [label.strip() for label in labels.split(' ')]\n",
    "\n",
    "# Apply the function to the Labels column\n",
    "pd_data['Classes'] = pd_data['Classes'].apply(split_and_trim)\n",
    "\n",
    "mlb = MultiLabelBinarizer()\n",
    "multi_hot_labels = mlb.fit_transform(pd_data['Classes'])\n",
    "\n",
    "# Add multi-hot encoded labels to DataFrame\n",
    "label_columns = mlb.classes_\n",
    "for i, label in enumerate(label_columns):\n",
    "    pd_data[label] = multi_hot_labels[:, i]\n",
    "\n",
    "train_gen = ImageDataGenerator(rescale = 1.0/255.0) # Normalise the data\n",
    "train_image_generator = train_gen.flow_from_dataframe(\n",
    "    dataframe=pd_data,\n",
    "    directory=train_dir,\n",
    "    x_col='Image_Name',\n",
    "    y_col=label_columns.tolist(),\n",
    "    color_mode=\"rgb\",\n",
    "    class_mode=\"raw\",\n",
    "    target_size=(150, 150),\n",
    "    batch_size=32  # to make this tutorial simple\n",
    ")\n",
    "\n",
    "val_gen = ImageDataGenerator(rescale = 1.0/255.0) # Normalise the data\n",
    "val_image_generator = val_gen.flow_from_dataframe(\n",
    "    dataframe=pd_data,\n",
    "    directory=val_dir,\n",
    "    x_col='Image_Name',\n",
    "    y_col=label_columns.tolist(),\n",
    "    color_mode=\"rgb\",\n",
    "    class_mode=\"raw\",\n",
    "    target_size=(150, 150),\n",
    "    batch_size=32  # to make this tutorial simple\n",
    ")\n"
   ],
   "id": "2140bed13f111332",
   "outputs": [
    {
     "name": "stdout",
     "output_type": "stream",
     "text": [
      "Found 4000 validated image filenames.\n",
      "Found 1999 validated image filenames.\n"
     ]
    }
   ],
   "execution_count": 164
  },
  {
   "metadata": {
    "ExecuteTime": {
     "end_time": "2024-05-28T02:52:53.160878Z",
     "start_time": "2024-05-28T02:52:52.956320Z"
    }
   },
   "cell_type": "code",
   "source": [
    "# Define a simple CNN model\n",
    "model = Sequential([\n",
    "    Conv2D(4, (3, 3), activation='relu', input_shape=(150, 150, 3)),\n",
    "    MaxPooling2D((2, 2)),\n",
    "    Conv2D(8, (3, 3), activation='relu'),\n",
    "    MaxPooling2D((2, 2)),\n",
    "    Flatten(),\n",
    "    Dense(512, activation='relu'),\n",
    "    Dropout(0.5),\n",
    "    Dense(len(label_columns), activation='sigmoid')  # Multi-label classification\n",
    "])"
   ],
   "id": "86048ec1ff4989b7",
   "outputs": [],
   "execution_count": 166
  },
  {
   "metadata": {
    "ExecuteTime": {
     "end_time": "2024-05-28T02:52:53.948100Z",
     "start_time": "2024-05-28T02:52:53.930238Z"
    }
   },
   "cell_type": "code",
   "source": [
    "# Compile the model\n",
    "model.compile(optimizer='adam', loss='binary_crossentropy', metrics=['accuracy'])\n",
    "\n",
    "# Print the model summary\n",
    "model.summary()"
   ],
   "id": "4c6d45d72a32c385",
   "outputs": [
    {
     "name": "stdout",
     "output_type": "stream",
     "text": [
      "Model: \"sequential_22\"\n",
      "_________________________________________________________________\n",
      " Layer (type)                Output Shape              Param #   \n",
      "=================================================================\n",
      " conv2d_50 (Conv2D)          (None, 148, 148, 4)       40        \n",
      "                                                                 \n",
      " max_pooling2d_50 (MaxPooli  (None, 74, 74, 4)         0         \n",
      " ng2D)                                                           \n",
      "                                                                 \n",
      " conv2d_51 (Conv2D)          (None, 72, 72, 8)         296       \n",
      "                                                                 \n",
      " max_pooling2d_51 (MaxPooli  (None, 36, 36, 8)         0         \n",
      " ng2D)                                                           \n",
      "                                                                 \n",
      " flatten_22 (Flatten)        (None, 10368)             0         \n",
      "                                                                 \n",
      " dense_58 (Dense)            (None, 512)               5308928   \n",
      "                                                                 \n",
      " dropout_27 (Dropout)        (None, 512)               0         \n",
      "                                                                 \n",
      " dense_59 (Dense)            (None, 29)                14877     \n",
      "                                                                 \n",
      "=================================================================\n",
      "Total params: 5324141 (20.31 MB)\n",
      "Trainable params: 5324141 (20.31 MB)\n",
      "Non-trainable params: 0 (0.00 Byte)\n",
      "_________________________________________________________________\n"
     ]
    }
   ],
   "execution_count": 167
  },
  {
   "metadata": {
    "ExecuteTime": {
     "end_time": "2024-05-28T02:53:18.042298Z",
     "start_time": "2024-05-28T02:52:55.048785Z"
    }
   },
   "cell_type": "code",
   "source": [
    "# Fit the model using the generator\n",
    "early_stopping = keras.callbacks.EarlyStopping(patience=5) # Set up callbacks\n",
    "hist = model.fit(train_image_generator, \n",
    "                 epochs=1, \n",
    "                 verbose=1, \n",
    "                 validation_data=val_image_generator, \n",
    "                 steps_per_epoch = 4000//32, \n",
    "                 validation_steps = 1999//32, \n",
    "                 callbacks=early_stopping)"
   ],
   "id": "f7eeacce59ba5b35",
   "outputs": [
    {
     "name": "stdout",
     "output_type": "stream",
     "text": [
      "125/125 [==============================] - 23s 171ms/step - loss: 0.1567 - accuracy: 0.9920 - val_loss: 0.2220 - val_accuracy: 1.0000\n"
     ]
    }
   ],
   "execution_count": 168
  },
  {
   "metadata": {},
   "cell_type": "code",
   "outputs": [],
   "execution_count": null,
   "source": "",
   "id": "c4505c533577a252"
  }
 ],
 "metadata": {
  "kernelspec": {
   "display_name": "Python 3",
   "language": "python",
   "name": "python3"
  },
  "language_info": {
   "codemirror_mode": {
    "name": "ipython",
    "version": 2
   },
   "file_extension": ".py",
   "mimetype": "text/x-python",
   "name": "python",
   "nbconvert_exporter": "python",
   "pygments_lexer": "ipython2",
   "version": "2.7.6"
  }
 },
 "nbformat": 4,
 "nbformat_minor": 5
}
