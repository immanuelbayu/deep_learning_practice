{
 "cells": [
  {
   "cell_type": "code",
   "id": "initial_id",
   "metadata": {
    "collapsed": true,
    "ExecuteTime": {
     "end_time": "2024-05-29T15:30:58.591828Z",
     "start_time": "2024-05-29T15:30:58.586713Z"
    }
   },
   "source": [
    "import random\n",
    "import torch\n",
    "from transformers import BertTokenizer, BertForSequenceClassification, Trainer, TrainingArguments"
   ],
   "outputs": [],
   "execution_count": 11
  },
  {
   "metadata": {
    "ExecuteTime": {
     "end_time": "2024-05-29T15:31:00.495219Z",
     "start_time": "2024-05-29T15:31:00.489564Z"
    }
   },
   "cell_type": "code",
   "source": [
    "# Generate random positive and negative sentences\n",
    "def generate_random_sentences(num_samples):\n",
    "    positive_sentences = [\"I love BERT!\", \"BERT is amazing.\", \"I'm a fan of BERT.\", \"BERT makes me happy.\"]\n",
    "    negative_sentences = [\"I dislike BERT.\", \"BERT is not good.\", \"I'm not impressed with BERT.\", \"BERT disappoints me.\"]\n",
    "\n",
    "    random.seed(42)  # For reproducibility\n",
    "    random_samples = []\n",
    "    labels = []\n",
    "\n",
    "    for _ in range(num_samples):\n",
    "        sentiment = random.choice([0, 1])  # 0 for negative, 1 for positive\n",
    "        if sentiment == 0:\n",
    "            random_samples.append(random.choice(negative_sentences))\n",
    "            labels.append(0)\n",
    "        else:\n",
    "            random_samples.append(random.choice(positive_sentences))\n",
    "            labels.append(1)\n",
    "\n",
    "    return random_samples, labels\n",
    "\n",
    "# Generate the dataset\n",
    "train_texts, train_labels = generate_random_sentences(80)\n",
    "eval_texts, eval_labels = generate_random_sentences(20)"
   ],
   "id": "2fb6eab148c2a4be",
   "outputs": [],
   "execution_count": 12
  },
  {
   "metadata": {
    "ExecuteTime": {
     "end_time": "2024-05-29T15:31:02.264985Z",
     "start_time": "2024-05-29T15:31:01.361268Z"
    }
   },
   "cell_type": "code",
   "source": [
    "# Initialize the tokenizer\n",
    "tokenizer = BertTokenizer.from_pretrained('bert-base-uncased')"
   ],
   "id": "635e9d69e4488edb",
   "outputs": [],
   "execution_count": 13
  },
  {
   "metadata": {
    "ExecuteTime": {
     "end_time": "2024-05-29T15:31:03.034534Z",
     "start_time": "2024-05-29T15:31:03.019508Z"
    }
   },
   "cell_type": "code",
   "source": [
    "# Tokenize the input\n",
    "train_encodings = tokenizer(train_texts, truncation=True, padding=True)\n",
    "eval_encodings = tokenizer(eval_texts, truncation=True, padding=True)"
   ],
   "id": "a3064316e3b89d71",
   "outputs": [],
   "execution_count": 14
  },
  {
   "metadata": {
    "ExecuteTime": {
     "end_time": "2024-05-29T15:31:03.659817Z",
     "start_time": "2024-05-29T15:31:03.656607Z"
    }
   },
   "cell_type": "code",
   "source": [
    "# Define a PyTorch dataset\n",
    "class CustomDataset(torch.utils.data.Dataset):\n",
    "    def __init__(self, encodings, labels):\n",
    "        self.encodings = encodings\n",
    "        self.labels = labels\n",
    "\n",
    "    def __getitem__(self, idx):\n",
    "        item = {key: torch.tensor(val[idx]) for key, val in self.encodings.items()}\n",
    "        item['labels'] = torch.tensor(self.labels[idx])\n",
    "        return item\n",
    "\n",
    "    def __len__(self):\n",
    "        return len(self.labels)\n",
    "\n",
    "train_dataset = CustomDataset(train_encodings, train_labels)\n",
    "eval_dataset = CustomDataset(eval_encodings, eval_labels)"
   ],
   "id": "63b9b163d77b24ec",
   "outputs": [],
   "execution_count": 15
  },
  {
   "metadata": {
    "ExecuteTime": {
     "end_time": "2024-05-29T15:31:06.599471Z",
     "start_time": "2024-05-29T15:31:04.781664Z"
    }
   },
   "cell_type": "code",
   "source": [
    "# Load the model\n",
    "model = BertForSequenceClassification.from_pretrained('bert-base-uncased', num_labels=2)"
   ],
   "id": "a6959cb30b48937e",
   "outputs": [
    {
     "name": "stderr",
     "output_type": "stream",
     "text": [
      "Some weights of BertForSequenceClassification were not initialized from the model checkpoint at bert-base-uncased and are newly initialized: ['classifier.bias', 'classifier.weight']\n",
      "You should probably TRAIN this model on a down-stream task to be able to use it for predictions and inference.\n"
     ]
    }
   ],
   "execution_count": 16
  },
  {
   "metadata": {
    "ExecuteTime": {
     "end_time": "2024-05-29T15:31:08.161360Z",
     "start_time": "2024-05-29T15:31:08.145612Z"
    }
   },
   "cell_type": "code",
   "source": [
    "# Set up training arguments\n",
    "training_args = TrainingArguments(\n",
    "    output_dir='./results',          # output directory\n",
    "    num_train_epochs=3,              # number of training epochs\n",
    "    per_device_train_batch_size=2,   # batch size for training\n",
    "    per_device_eval_batch_size=2,    # batch size for evaluation\n",
    "    warmup_steps=500,                # number of warmup steps for learning rate scheduler\n",
    "    weight_decay=0.01,               # strength of weight decay\n",
    "    logging_dir='./logs',            # directory for storing logs\n",
    "    logging_steps=10,\n",
    ")"
   ],
   "id": "d35f042430940245",
   "outputs": [],
   "execution_count": 17
  },
  {
   "metadata": {
    "ExecuteTime": {
     "end_time": "2024-05-29T15:31:10.684339Z",
     "start_time": "2024-05-29T15:31:09.269526Z"
    }
   },
   "cell_type": "code",
   "source": [
    "# Initialize the Trainer\n",
    "trainer = Trainer(\n",
    "    model=model,                         # the instantiated 🤗 Transformers model to be trained\n",
    "    args=training_args,                  # training arguments, defined above\n",
    "    train_dataset=train_dataset,         # training dataset\n",
    "    eval_dataset=eval_dataset            # evaluation dataset\n",
    ")\n"
   ],
   "id": "79fd2b280aa6f360",
   "outputs": [],
   "execution_count": 18
  },
  {
   "metadata": {
    "ExecuteTime": {
     "end_time": "2024-05-29T15:31:31.061065Z",
     "start_time": "2024-05-29T15:31:11.516846Z"
    }
   },
   "cell_type": "code",
   "source": [
    "# Train the model\n",
    "trainer.train()\n",
    "\n",
    "# Evaluate the model\n",
    "eval_result = trainer.evaluate()\n",
    "\n",
    "print(f\"Evaluation results: {eval_result}\")"
   ],
   "id": "2c57b61f05a6ae16",
   "outputs": [
    {
     "data": {
      "text/plain": [
       "<IPython.core.display.HTML object>"
      ],
      "text/html": [
       "\n",
       "    <div>\n",
       "      \n",
       "      <progress value='120' max='120' style='width:300px; height:20px; vertical-align: middle;'></progress>\n",
       "      [120/120 00:17, Epoch 3/3]\n",
       "    </div>\n",
       "    <table border=\"1\" class=\"dataframe\">\n",
       "  <thead>\n",
       " <tr style=\"text-align: left;\">\n",
       "      <th>Step</th>\n",
       "      <th>Training Loss</th>\n",
       "    </tr>\n",
       "  </thead>\n",
       "  <tbody>\n",
       "    <tr>\n",
       "      <td>10</td>\n",
       "      <td>0.605900</td>\n",
       "    </tr>\n",
       "    <tr>\n",
       "      <td>20</td>\n",
       "      <td>0.740500</td>\n",
       "    </tr>\n",
       "    <tr>\n",
       "      <td>30</td>\n",
       "      <td>0.673400</td>\n",
       "    </tr>\n",
       "    <tr>\n",
       "      <td>40</td>\n",
       "      <td>0.680600</td>\n",
       "    </tr>\n",
       "    <tr>\n",
       "      <td>50</td>\n",
       "      <td>0.560500</td>\n",
       "    </tr>\n",
       "    <tr>\n",
       "      <td>60</td>\n",
       "      <td>0.407100</td>\n",
       "    </tr>\n",
       "    <tr>\n",
       "      <td>70</td>\n",
       "      <td>0.258500</td>\n",
       "    </tr>\n",
       "    <tr>\n",
       "      <td>80</td>\n",
       "      <td>0.199500</td>\n",
       "    </tr>\n",
       "    <tr>\n",
       "      <td>90</td>\n",
       "      <td>0.142200</td>\n",
       "    </tr>\n",
       "    <tr>\n",
       "      <td>100</td>\n",
       "      <td>0.095600</td>\n",
       "    </tr>\n",
       "    <tr>\n",
       "      <td>110</td>\n",
       "      <td>0.068400</td>\n",
       "    </tr>\n",
       "    <tr>\n",
       "      <td>120</td>\n",
       "      <td>0.041800</td>\n",
       "    </tr>\n",
       "  </tbody>\n",
       "</table><p>"
      ]
     },
     "metadata": {},
     "output_type": "display_data"
    },
    {
     "data": {
      "text/plain": [
       "<IPython.core.display.HTML object>"
      ],
      "text/html": [
       "\n",
       "    <div>\n",
       "      \n",
       "      <progress value='10' max='10' style='width:300px; height:20px; vertical-align: middle;'></progress>\n",
       "      [10/10 00:00]\n",
       "    </div>\n",
       "    "
      ]
     },
     "metadata": {},
     "output_type": "display_data"
    },
    {
     "name": "stdout",
     "output_type": "stream",
     "text": [
      "Evaluation results: {'eval_loss': 0.029392385855317116, 'eval_runtime': 0.2392, 'eval_samples_per_second': 83.616, 'eval_steps_per_second': 41.808, 'epoch': 3.0}\n"
     ]
    }
   ],
   "execution_count": 19
  },
  {
   "metadata": {},
   "cell_type": "code",
   "outputs": [],
   "execution_count": null,
   "source": "",
   "id": "d9201d379102836b"
  }
 ],
 "metadata": {
  "kernelspec": {
   "display_name": "Python 3",
   "language": "python",
   "name": "python3"
  },
  "language_info": {
   "codemirror_mode": {
    "name": "ipython",
    "version": 2
   },
   "file_extension": ".py",
   "mimetype": "text/x-python",
   "name": "python",
   "nbconvert_exporter": "python",
   "pygments_lexer": "ipython2",
   "version": "2.7.6"
  }
 },
 "nbformat": 4,
 "nbformat_minor": 5
}
