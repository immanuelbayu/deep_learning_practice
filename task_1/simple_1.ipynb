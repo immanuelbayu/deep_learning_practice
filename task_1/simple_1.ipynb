{
 "cells": [
  {
   "cell_type": "code",
   "execution_count": 1,
   "id": "initial_id",
   "metadata": {
    "collapsed": true,
    "ExecuteTime": {
     "end_time": "2024-05-03T08:17:35.031856Z",
     "start_time": "2024-05-03T08:17:33.846662Z"
    }
   },
   "source": [
    "import pandas as pd\n",
    "import numpy as np\n",
    "\n",
    "from sklearn.feature_extraction.text import TfidfVectorizer\n",
    "from sklearn.naive_bayes import MultinomialNB\n",
    "from sklearn.metrics import classification_report"
   ],
   "outputs": []
  },
  {
   "cell_type": "code",
   "execution_count": 2,
   "source": [
    "# Define the labeled dataset (documents and corresponding labels)\n",
    "# Load the CSV file containing the collection of documents\n",
    "df = pd.read_csv('../data/Indonesian Sentiment Twitter Dataset Labeled.csv', sep=\"\\t\")\n",
    "\n",
    "# Assuming the CSV file has a column named 'text' that contains the text of each document\n",
    "corpus = df['Tweet'].tolist()\n",
    "sentiments = df['sentimen'].values\n",
    "\n",
    "# Convert sentiments to binary labels\n",
    "binary_labels = np.array([1 if x == 1 else 0 for x in sentiments])"
   ],
   "metadata": {
    "collapsed": false,
    "ExecuteTime": {
     "end_time": "2024-05-03T08:51:12.996029Z",
     "start_time": "2024-05-03T08:51:12.851678Z"
    }
   },
   "id": "e1e80780dc63c7b",
   "outputs": []
  },
  {
   "cell_type": "code",
   "execution_count": 3,
   "source": [
    "# Create TF-IDF vectorizer\n",
    "vectorizer = TfidfVectorizer()\n",
    "\n",
    "# Fit the vectorizer to the documents and transform the documents into TF-IDF vectors\n",
    "tfidf_matrix = vectorizer.fit_transform(corpus)\n",
    "\n",
    "# Create a Multinomial Naive Bayes classifier\n",
    "classifier = MultinomialNB()\n",
    "\n",
    "# Fit the classifier to the TF-IDF vectors and labels\n",
    "classifier.fit(tfidf_matrix, binary_labels)"
   ],
   "metadata": {
    "collapsed": false,
    "ExecuteTime": {
     "end_time": "2024-05-03T08:51:17.371922Z",
     "start_time": "2024-05-03T08:51:17.258034Z"
    }
   },
   "id": "8d4da1a70da5c384",
   "outputs": []
  },
  {
   "cell_type": "code",
   "execution_count": 4,
   "source": [
    "# Get the feature names (words)\n",
    "feature_names = vectorizer.get_feature_names_out()\n",
    "\n",
    "# Print TF-IDF matrix and feature names\n",
    "print(\"TF-IDF Matrix:\")\n",
    "print(tfidf_matrix.toarray())\n",
    "print(\"\\nFeature Names:\")\n",
    "print(feature_names)"
   ],
   "metadata": {
    "collapsed": false,
    "ExecuteTime": {
     "end_time": "2024-05-03T08:51:19.684116Z",
     "start_time": "2024-05-03T08:51:19.346807Z"
    }
   },
   "id": "f2eced4f3656dc5d",
   "outputs": []
  },
  {
   "cell_type": "code",
   "execution_count": 25,
   "source": [
    "# Predict the labels for the same documents (for demonstration purposes)\n",
    "predicted_labels = classifier.predict(tfidf_matrix)"
   ],
   "metadata": {
    "collapsed": false,
    "ExecuteTime": {
     "end_time": "2024-05-03T04:12:43.532563Z",
     "start_time": "2024-05-03T04:12:43.527999Z"
    }
   },
   "id": "ec302e81e199393",
   "outputs": []
  },
  {
   "cell_type": "code",
   "execution_count": 26,
   "source": [
    "# Print the classification report to see accuracy, precision, and recall\n",
    "print(\"Classification Report:\")\n",
    "print(classification_report(binary_labels, predicted_labels))"
   ],
   "metadata": {
    "collapsed": false,
    "ExecuteTime": {
     "end_time": "2024-05-03T04:12:49.346404Z",
     "start_time": "2024-05-03T04:12:49.322519Z"
    }
   },
   "id": "8f34be0e04fe073b",
   "outputs": []
  },
  {
   "cell_type": "code",
   "execution_count": null,
   "source": [],
   "metadata": {
    "collapsed": false
   },
   "id": "4ca51dcfebcc494",
   "outputs": []
  }
 ],
 "metadata": {
  "kernelspec": {
   "display_name": "Python 3",
   "language": "python",
   "name": "python3"
  },
  "language_info": {
   "codemirror_mode": {
    "name": "ipython",
    "version": 2
   },
   "file_extension": ".py",
   "mimetype": "text/x-python",
   "name": "python",
   "nbconvert_exporter": "python",
   "pygments_lexer": "ipython2",
   "version": "2.7.6"
  }
 },
 "nbformat": 4,
 "nbformat_minor": 5
}
