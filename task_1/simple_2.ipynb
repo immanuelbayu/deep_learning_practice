{
 "cells": [
  {
   "cell_type": "code",
   "execution_count": 23,
   "source": [
    "import re\n",
    "import warnings\n",
    "\n",
    "import numpy as np\n",
    "import pandas as pd\n",
    "from Sastrawi.Stemmer.StemmerFactory import StemmerFactory\n",
    "from gensim.models import FastText\n",
    "from gensim.models import KeyedVectors\n",
    "from gensim.models import Word2Vec\n",
    "from keras.preprocessing.sequence import pad_sequences\n",
    "from keras.preprocessing.text import Tokenizer\n",
    "from sklearn.feature_extraction.text import TfidfVectorizer\n",
    "from sklearn.model_selection import train_test_split\n",
    "from tensorflow.keras.utils import to_categorical\n",
    "\n",
    "warnings.filterwarnings('ignore')"
   ],
   "metadata": {
    "collapsed": false,
    "ExecuteTime": {
     "end_time": "2024-05-03T06:05:36.345044Z",
     "start_time": "2024-05-03T06:05:36.344096Z"
    }
   },
   "id": "44168063c65faead",
   "outputs": []
  },
  {
   "cell_type": "code",
   "execution_count": 4,
   "source": [
    "df = pd.read_csv('../data/Indonesian Sentiment Twitter Dataset Labeled.csv', sep=\"\\t\")\n",
    "df.head()"
   ],
   "metadata": {
    "collapsed": false,
    "ExecuteTime": {
     "end_time": "2024-05-03T06:02:56.690558Z",
     "start_time": "2024-05-03T06:02:56.657437Z"
    }
   },
   "id": "838f30dee040f3d",
   "outputs": []
  },
  {
   "cell_type": "code",
   "execution_count": 5,
   "source": [
    "alay_dict = pd.read_csv(\"../data/new_kamusalay.csv\", encoding = 'latin-1', header=None)\n",
    "alay_dict = alay_dict.rename(columns=  {0: 'original',\n",
    "                                        1: 'replacement'})\n",
    "stopword_dict = pd.read_csv('../data/stopwordbahasa.csv', header=None)\n",
    "stopword_dict = stopword_dict.rename(columns={0: 'stopword'})"
   ],
   "metadata": {
    "collapsed": false,
    "ExecuteTime": {
     "end_time": "2024-05-03T06:02:57.755026Z",
     "start_time": "2024-05-03T06:02:57.733596Z"
    }
   },
   "id": "57da99c799483137",
   "outputs": []
  },
  {
   "cell_type": "code",
   "execution_count": 6,
   "source": [
    "df.isnull().sum()"
   ],
   "metadata": {
    "collapsed": false,
    "ExecuteTime": {
     "end_time": "2024-05-03T06:02:58.804548Z",
     "start_time": "2024-05-03T06:02:58.796886Z"
    }
   },
   "id": "757cc68b9087b865",
   "outputs": []
  },
  {
   "cell_type": "code",
   "execution_count": 7,
   "source": [
    "factory = StemmerFactory()\n",
    "stemmer = factory.create_stemmer()\n",
    "\n",
    "#lowercase\n",
    "def lowercase(text):\n",
    "    return text.lower()\n",
    "\n",
    "def remove_unnecessary_char(text):\n",
    "    text = re.sub('\\n',' ',text) # Remove every '\\n'\n",
    "    text = re.sub('rt',' ',text) # Remove every retweet symbol\n",
    "    text = re.sub('((@[^\\s]+)|(#[^\\s]+))',' ',text)\n",
    "    text = re.sub('((www\\.[^\\s]+)|(https?://[^\\s]+)|(http?://[^\\s]+))',' ',text) # Remove every URL\n",
    "    text = re.sub('  +', ' ', text) # Remove extra spaces\n",
    "    return text\n",
    "    \n",
    "def remove_nonaplhanumeric(text):\n",
    "    text = re.sub('[^0-9a-zA-Z]+', ' ', text) \n",
    "    return text\n",
    "\n",
    "alay_dict_map = dict(zip(alay_dict['original'], alay_dict['replacement']))\n",
    "def normalize_alay(text):\n",
    "    return ' '.join([alay_dict_map[word] if word in alay_dict_map else word for word in text.split(' ')])\n",
    "\n",
    "def remove_stopword(text):\n",
    "    text = ' '.join(['' if word in stopword_dict.stopword.values else word for word in text.split(' ')])\n",
    "    text = re.sub('  +', ' ', text) # Remove extra spaces\n",
    "    text = text.strip()\n",
    "    return text\n",
    "\n",
    "def stemming(text):\n",
    "    return stemmer.stem(text)\n",
    "\n",
    "def preprocess(text):\n",
    "    text = lowercase(text) # 1\n",
    "    text = remove_unnecessary_char(text) # 2\n",
    "    text = remove_nonaplhanumeric(text) # 3\n",
    "    text = normalize_alay(text) # 4\n",
    "    text = remove_stopword(text) # 5\n",
    "    text = stemming(text) # 6\n",
    "    return text"
   ],
   "metadata": {
    "collapsed": false,
    "ExecuteTime": {
     "end_time": "2024-05-03T06:02:59.815315Z",
     "start_time": "2024-05-03T06:02:59.792648Z"
    }
   },
   "id": "30626513762d8bf2",
   "outputs": []
  },
  {
   "cell_type": "code",
   "execution_count": 8,
   "source": [
    "df.replace(-1, 0, inplace=True)"
   ],
   "metadata": {
    "collapsed": false,
    "ExecuteTime": {
     "end_time": "2024-05-03T06:03:05.710715Z",
     "start_time": "2024-05-03T06:03:05.705499Z"
    }
   },
   "id": "cd621908ab347c77",
   "outputs": []
  },
  {
   "cell_type": "code",
   "execution_count": 9,
   "source": [
    "X = df['Tweet'].apply(preprocess)"
   ],
   "metadata": {
    "collapsed": false,
    "ExecuteTime": {
     "end_time": "2024-05-03T06:03:11.329931Z",
     "start_time": "2024-05-03T06:03:06.619921Z"
    }
   },
   "id": "a9617a9a8a7d9a3e",
   "outputs": []
  },
  {
   "cell_type": "code",
   "execution_count": 10,
   "source": [
    "# Assuming the CSV file has a column named 'text' that contains the text of each document\n",
    "corpus = X.tolist()\n",
    "sentiments = df['sentimen'].values"
   ],
   "metadata": {
    "collapsed": false,
    "ExecuteTime": {
     "end_time": "2024-05-03T06:03:17.146063Z",
     "start_time": "2024-05-03T06:03:17.141823Z"
    }
   },
   "id": "93f93eb634b06b9b",
   "outputs": []
  },
  {
   "cell_type": "code",
   "execution_count": 11,
   "source": [
    "max_features = 1000\n",
    "max_len=50\n",
    "tokenizer = Tokenizer(num_words=max_features, split=' ')\n",
    "tokenizer.fit_on_texts(X.values)\n",
    "X = tokenizer.texts_to_sequences(X.values)\n",
    "X = pad_sequences(X, padding='post', maxlen=max_len)\n",
    "X.shape"
   ],
   "metadata": {
    "collapsed": false,
    "ExecuteTime": {
     "end_time": "2024-05-03T06:03:17.989715Z",
     "start_time": "2024-05-03T06:03:17.887677Z"
    }
   },
   "id": "277c5dbdb1bd0e26",
   "outputs": []
  },
  {
   "cell_type": "code",
   "execution_count": 12,
   "source": [
    "sentiment_encode = {-1 : 0, 0 : 1, 1 : 2}\n",
    "y = df['sentimen'].map(sentiment_encode).values\n",
    "print(df['sentimen'])\n",
    "print(y)"
   ],
   "metadata": {
    "collapsed": false,
    "ExecuteTime": {
     "end_time": "2024-05-03T06:03:18.879192Z",
     "start_time": "2024-05-03T06:03:18.869944Z"
    }
   },
   "id": "5dcac57c1672caba",
   "outputs": []
  },
  {
   "cell_type": "code",
   "execution_count": 13,
   "source": [
    "X_train, X_test, y_train, y_test = train_test_split(X, y, test_size = 0.15, random_state = 1)\n",
    "X_train, X_val, y_train, y_val = train_test_split(X_train, y_train, test_size=0.20, random_state=1)\n",
    "y_train = to_categorical(y_train, 3)\n",
    "y_test = to_categorical(y_test, 3)\n",
    "y_val = to_categorical(y_val, 3)\n",
    "print(X_train.shape, y_train.shape)\n",
    "print(X_test.shape, y_test.shape)"
   ],
   "metadata": {
    "collapsed": false,
    "ExecuteTime": {
     "end_time": "2024-05-03T06:03:19.650930Z",
     "start_time": "2024-05-03T06:03:19.631656Z"
    }
   },
   "id": "bc64a92f50d4c28c",
   "outputs": []
  },
  {
   "cell_type": "code",
   "execution_count": 14,
   "source": [
    "# Convert sentiments to binary labels\n",
    "binary_labels = np.array([1 if x == 1 else 0 for x in sentiments])\n",
    "\n",
    "# Create TF-IDF vectorizer\n",
    "vectorizer = TfidfVectorizer()\n",
    "\n",
    "# Fit and transform the vectorizer on the corpus\n",
    "tfidf_matrix = vectorizer.fit_transform(corpus)\n",
    "\n",
    "# Get the feature names (words)\n",
    "feature_names = vectorizer.get_feature_names_out()"
   ],
   "metadata": {
    "collapsed": false,
    "ExecuteTime": {
     "end_time": "2024-05-03T06:03:20.808178Z",
     "start_time": "2024-05-03T06:03:20.767087Z"
    }
   },
   "id": "35732c7bf6e5e6f",
   "outputs": []
  },
  {
   "cell_type": "code",
   "execution_count": 15,
   "source": [
    "# Print TF-IDF matrix and feature names\n",
    "print(\"TF-IDF Matrix:\")\n",
    "print(tfidf_matrix.toarray())\n",
    "print(\"\\nFeature Names:\")\n",
    "print(feature_names)"
   ],
   "metadata": {
    "collapsed": false,
    "ExecuteTime": {
     "end_time": "2024-05-03T06:03:21.826229Z",
     "start_time": "2024-05-03T06:03:21.558939Z"
    }
   },
   "id": "6aca21eac798f4d4",
   "outputs": []
  },
  {
   "cell_type": "markdown",
   "source": [
    "Fast Text"
   ],
   "metadata": {
    "collapsed": false
   },
   "id": "e148f5c643bed069"
  },
  {
   "cell_type": "code",
   "execution_count": 28,
   "source": [
    "# Convert the TF-IDF matrix to a dense array\n",
    "dense_tfidf_matrix = tfidf_matrix.toarray()\n",
    "\n",
    "# Initialize a FastText model\n",
    "model_ft = FastText(vector_size=100, window=5, min_count=1)\n",
    "\n",
    "# Build vocabulary and train the FastText model\n",
    "model_ft.build_vocab(corpus_iterable=[text.split() for text in corpus])\n",
    "model_ft.train(corpus_iterable=[text.split() for text in corpus], total_examples=len(corpus), epochs=10)\n",
    "\n",
    "# Initialize an empty matrix to store word embeddings\n",
    "word_embeddings = np.zeros((len(feature_names), model_ft.vector_size))\n",
    "\n",
    "# Map each word to its FastText vector\n",
    "for idx, word in enumerate(feature_names):\n",
    "    if word in model_ft.wv:\n",
    "        word_embeddings[idx] = model_ft.wv[word]\n",
    "\n",
    "word_embed_ft = model_ft.wv[\"dan\"]\n",
    "print(word_embed_ft)\n",
    "\n",
    "# Print word embeddings for the first few words\n",
    "# print(\"Word Embeddings:\")\n",
    "# print(word_embeddings[:10])  # Print embeddings for the first 10 words"
   ],
   "metadata": {
    "collapsed": false,
    "ExecuteTime": {
     "end_time": "2024-05-03T06:20:11.405569Z",
     "start_time": "2024-05-03T06:20:08.206771Z"
    }
   },
   "id": "d9e381a054122e27",
   "outputs": []
  },
  {
   "cell_type": "markdown",
   "source": [
    "Glove"
   ],
   "metadata": {
    "collapsed": false
   },
   "id": "6232781198200f92"
  },
  {
   "cell_type": "code",
   "execution_count": 33,
   "source": [
    "# Load the GloVe word vectors\n",
    "glove_file = '../data/vectors.txt'\n",
    "word_vectors = KeyedVectors.load_word2vec_format(glove_file, binary=False, no_header=True)\n",
    "\n",
    "# Initialize an empty matrix to store word embeddings\n",
    "word_embeddings = np.zeros((len(feature_names), word_vectors.vector_size))\n",
    "\n",
    "# Map each word to its GloVe vector\n",
    "for idx, word in enumerate(feature_names):\n",
    "    if word in word_vectors:\n",
    "        word_embeddings[idx] = word_vectors[word]\n",
    "        \n",
    "word_embed_glove = word_vectors.word_vec('dan')\n",
    "print(word_embed_glove)\n",
    "\n",
    "# Print word embeddings for the first few words\n",
    "# print(\"Word Embeddings:\")\n",
    "# print(word_embeddings[:10])  # Print embeddings for the first 10 words"
   ],
   "metadata": {
    "collapsed": false,
    "ExecuteTime": {
     "end_time": "2024-05-03T08:58:48.009242Z",
     "start_time": "2024-05-03T08:58:41.304675Z"
    }
   },
   "id": "4322a00ac3a14940",
   "outputs": []
  },
  {
   "cell_type": "markdown",
   "source": [
    "Word2vec- Cbow"
   ],
   "metadata": {
    "collapsed": false
   },
   "id": "e70a127c4c585b5d"
  },
  {
   "cell_type": "code",
   "execution_count": 31,
   "source": [
    "# Preprocess the corpus for Word2Vec\n",
    "tokenized_corpus = [text.split() for text in corpus]\n",
    "\n",
    "# Initialize a Word2Vec CBOW model\n",
    "model_w2v_cbow = Word2Vec(sentences=tokenized_corpus, vector_size=100, window=5, sg=0, min_count=1, workers=4)\n",
    "\n",
    "# Train the Word2Vec CBOW model\n",
    "model_w2v_cbow.train(tokenized_corpus, total_examples=len(tokenized_corpus), epochs=10)\n",
    "\n",
    "# Initialize an empty matrix to store word embeddings\n",
    "word_embeddings = np.zeros((len(feature_names), model_w2v_cbow.vector_size))\n",
    "\n",
    "# Map each word to its Word2Vec CBOW vector\n",
    "for idx, word in enumerate(feature_names):\n",
    "    if word in model_w2v_cbow.wv:\n",
    "        word_embeddings[idx] = model_w2v_cbow.wv[word]\n",
    "\n",
    "word_embed_cbow = model_w2v_cbow.wv.most_similar('dan')\n",
    "print(word_embed_cbow)\n",
    "\n",
    "# Print word embeddings for the first few words\n",
    "# print(\"Word Embeddings:\")\n",
    "# print(word_embeddings[:10])  # Print embeddings for the first 10 words"
   ],
   "metadata": {
    "collapsed": false,
    "ExecuteTime": {
     "end_time": "2024-05-03T06:25:58.549681Z",
     "start_time": "2024-05-03T06:25:57.505992Z"
    }
   },
   "id": "4876b39f65c209c2",
   "outputs": []
  },
  {
   "cell_type": "code",
   "execution_count": 32,
   "source": [
    "# Preprocess the corpus for Word2Vec\n",
    "tokenized_corpus = [text.split() for text in corpus]\n",
    "\n",
    "# Initialize a Word2Vec Skip-gram model\n",
    "model_w2v_sg = Word2Vec(sentences=tokenized_corpus, vector_size=100, window=5, sg=1, min_count=1, workers=4)\n",
    "\n",
    "# Train the Word2Vec Skip-gram model\n",
    "model_w2v_sg.train(tokenized_corpus, total_examples=len(tokenized_corpus), epochs=10)\n",
    "\n",
    "# Initialize an empty matrix to store word embeddings\n",
    "word_embeddings = np.zeros((len(feature_names), model_w2v_sg.vector_size))\n",
    "\n",
    "# Map each word to its Word2Vec Skip-gram vector\n",
    "for idx, word in enumerate(feature_names):\n",
    "    if word in model_w2v_sg.wv:\n",
    "        word_embeddings[idx] = model_w2v_sg.wv[word]\n",
    "        \n",
    "word_embed_skipgram = model_w2v_sg.wv.most_similar('dan')\n",
    "print(word_embed_skipgram)\n",
    "\n",
    "# Print word embeddings for the first few words\n",
    "# print(\"Word Embeddings:\")\n",
    "# print(word_embeddings[:10])  # Print embeddings for the first 10 words"
   ],
   "metadata": {
    "collapsed": false,
    "ExecuteTime": {
     "end_time": "2024-05-03T06:26:40.516659Z",
     "start_time": "2024-05-03T06:26:38.652940Z"
    }
   },
   "id": "35edf9ab6bc6a900",
   "outputs": []
  },
  {
   "cell_type": "code",
   "execution_count": null,
   "source": [],
   "metadata": {
    "collapsed": false
   },
   "id": "e4a87798d6dd57b7",
   "outputs": []
  }
 ],
 "metadata": {
  "kernelspec": {
   "display_name": "Python 3",
   "language": "python",
   "name": "python3"
  },
  "language_info": {
   "codemirror_mode": {
    "name": "ipython",
    "version": 2
   },
   "file_extension": ".py",
   "mimetype": "text/x-python",
   "name": "python",
   "nbconvert_exporter": "python",
   "pygments_lexer": "ipython2",
   "version": "2.7.6"
  }
 },
 "nbformat": 4,
 "nbformat_minor": 5
}
