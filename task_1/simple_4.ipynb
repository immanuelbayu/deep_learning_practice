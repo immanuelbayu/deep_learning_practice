{
 "cells": [
  {
   "cell_type": "code",
   "execution_count": 5,
   "id": "initial_id",
   "metadata": {
    "collapsed": true,
    "ExecuteTime": {
     "end_time": "2024-05-03T06:49:46.159473Z",
     "start_time": "2024-05-03T06:49:42.599356Z"
    }
   },
   "source": [
    "import warnings\n",
    "\n",
    "import numpy as np\n",
    "import pandas as pd\n",
    "from keras.callbacks import EarlyStopping\n",
    "from keras.layers import Embedding, LSTM, GRU, Dense, SpatialDropout1D\n",
    "from keras.models import Sequential\n",
    "from keras.preprocessing.sequence import pad_sequences\n",
    "from keras.preprocessing.text import Tokenizer\n",
    "from sklearn.model_selection import train_test_split\n",
    "from sklearn.preprocessing import LabelEncoder\n",
    "\n",
    "warnings.filterwarnings('ignore')"
   ],
   "outputs": []
  },
  {
   "cell_type": "code",
   "execution_count": 6,
   "source": [
    "df = pd.read_csv('../data/Indonesian Sentiment Twitter Dataset Labeled.csv', sep=\"\\t\")\n",
    "df.head()"
   ],
   "metadata": {
    "collapsed": false,
    "ExecuteTime": {
     "end_time": "2024-05-03T06:49:46.182649Z",
     "start_time": "2024-05-03T06:49:46.158899Z"
    }
   },
   "id": "c1cc5010a38f38d8",
   "outputs": []
  },
  {
   "cell_type": "code",
   "execution_count": 7,
   "source": [
    "df.replace(-1, 0, inplace=True)"
   ],
   "metadata": {
    "collapsed": false,
    "ExecuteTime": {
     "end_time": "2024-05-03T06:49:47.204722Z",
     "start_time": "2024-05-03T06:49:47.199751Z"
    }
   },
   "id": "8d78f2813e50ccf1",
   "outputs": []
  },
  {
   "cell_type": "code",
   "execution_count": 8,
   "source": [
    "# Assuming the CSV file has a column named 'text' that contains the text of each document\n",
    "corpus = df['Tweet'].tolist()\n",
    "sentiments = df['sentimen'].values"
   ],
   "metadata": {
    "collapsed": false,
    "ExecuteTime": {
     "end_time": "2024-05-03T06:49:48.536210Z",
     "start_time": "2024-05-03T06:49:48.533305Z"
    }
   },
   "id": "6f54fca4bff9a15d",
   "outputs": []
  },
  {
   "cell_type": "code",
   "execution_count": 9,
   "source": [
    "sentiment_encode = {-1 : 0, 0 : 1, 1 : 2}\n",
    "y = df['sentimen'].map(sentiment_encode).values"
   ],
   "metadata": {
    "collapsed": false,
    "ExecuteTime": {
     "end_time": "2024-05-03T06:49:49.738548Z",
     "start_time": "2024-05-03T06:49:49.735427Z"
    }
   },
   "id": "8fe8d99ac379ac2f",
   "outputs": []
  },
  {
   "cell_type": "code",
   "execution_count": 10,
   "source": [
    "# Convert sentiments to binary labels\n",
    "binary_labels = np.array([1 if x == 1 else 0 for x in sentiments])"
   ],
   "metadata": {
    "collapsed": false,
    "ExecuteTime": {
     "end_time": "2024-05-03T06:49:51.132719Z",
     "start_time": "2024-05-03T06:49:51.127344Z"
    }
   },
   "id": "70c28b72e8b77e80",
   "outputs": []
  },
  {
   "cell_type": "code",
   "execution_count": 11,
   "source": [
    "# Preprocess labels (convert categorical labels to numerical labels)\n",
    "label_encoder = LabelEncoder()\n",
    "y = label_encoder.fit_transform(y)"
   ],
   "metadata": {
    "collapsed": false,
    "ExecuteTime": {
     "end_time": "2024-05-03T06:49:51.899115Z",
     "start_time": "2024-05-03T06:49:51.890292Z"
    }
   },
   "id": "6cebab1a1591e33d",
   "outputs": []
  },
  {
   "cell_type": "code",
   "execution_count": 13,
   "source": [
    "# Tokenize text\n",
    "tokenizer = Tokenizer()\n",
    "tokenizer.fit_on_texts(corpus)\n",
    "X_seq = tokenizer.texts_to_sequences(corpus)\n",
    "\n",
    "# Pad sequences\n",
    "max_length = max(len(seq) for seq in X_seq)\n",
    "X_pad = pad_sequences(X_seq, maxlen=max_length)"
   ],
   "metadata": {
    "collapsed": false,
    "ExecuteTime": {
     "end_time": "2024-05-03T06:50:28.193969Z",
     "start_time": "2024-05-03T06:50:27.970806Z"
    }
   },
   "id": "6f35278b5d52a4b3",
   "outputs": []
  },
  {
   "cell_type": "code",
   "execution_count": 14,
   "source": [
    "# Split the data into training and testing sets\n",
    "X_train, X_test, y_train, y_test = train_test_split(X_pad, y, test_size=0.2, random_state=42)\n"
   ],
   "metadata": {
    "collapsed": false,
    "ExecuteTime": {
     "end_time": "2024-05-03T06:50:36.902769Z",
     "start_time": "2024-05-03T06:50:36.902052Z"
    }
   },
   "id": "f1fdd413d41bd55",
   "outputs": []
  },
  {
   "cell_type": "code",
   "execution_count": 15,
   "source": [
    "# Define model architecture for LSTM\n",
    "model_lstm = Sequential()\n",
    "model_lstm.add(Embedding(input_dim=len(tokenizer.word_index) + 1, output_dim=100, input_length=max_length))\n",
    "model_lstm.add(SpatialDropout1D(0.2))\n",
    "model_lstm.add(LSTM(100, dropout=0.2, recurrent_dropout=0.2))\n",
    "model_lstm.add(Dense(1, activation='sigmoid'))"
   ],
   "metadata": {
    "collapsed": false,
    "ExecuteTime": {
     "end_time": "2024-05-03T06:50:44.635682Z",
     "start_time": "2024-05-03T06:50:43.565369Z"
    }
   },
   "id": "dc3920ef074e3e6d",
   "outputs": []
  },
  {
   "cell_type": "code",
   "execution_count": 17,
   "source": [
    "# Compile the model\n",
    "model_lstm.compile(optimizer='adam', loss='binary_crossentropy', metrics=['accuracy'])"
   ],
   "metadata": {
    "collapsed": false,
    "ExecuteTime": {
     "end_time": "2024-05-03T06:51:06.432463Z",
     "start_time": "2024-05-03T06:51:06.347243Z"
    }
   },
   "id": "165cb37910a79e6",
   "outputs": []
  },
  {
   "cell_type": "code",
   "execution_count": 19,
   "source": [
    "# Train the model\n",
    "epochs = 1\n",
    "batch_size = 64\n",
    "early_stopping = EarlyStopping(monitor='val_loss', patience=3, restore_best_weights=True)\n",
    "history_lstm = model_lstm.fit(X_train, y_train, epochs=epochs, batch_size=batch_size, validation_split=0.2, callbacks=[early_stopping])"
   ],
   "metadata": {
    "collapsed": false,
    "ExecuteTime": {
     "end_time": "2024-05-03T06:54:27.634328Z",
     "start_time": "2024-05-03T06:51:17.288431Z"
    }
   },
   "id": "9dc2978058087b29",
   "outputs": []
  },
  {
   "cell_type": "code",
   "execution_count": 20,
   "source": [
    "# Evaluate the model on test data\n",
    "_, accuracy_lstm = model_lstm.evaluate(X_test, y_test)"
   ],
   "metadata": {
    "collapsed": false,
    "ExecuteTime": {
     "end_time": "2024-05-03T06:54:40.517647Z",
     "start_time": "2024-05-03T06:54:34.374357Z"
    }
   },
   "id": "bd4db9bda90ec963",
   "outputs": []
  },
  {
   "cell_type": "code",
   "execution_count": 21,
   "source": [
    "# Define model architecture for GRU\n",
    "model_gru = Sequential()\n",
    "model_gru.add(Embedding(input_dim=len(tokenizer.word_index) + 1, output_dim=100, input_length=max_length))\n",
    "model_gru.add(SpatialDropout1D(0.2))\n",
    "model_gru.add(GRU(100, dropout=0.2, recurrent_dropout=0.2))\n",
    "model_gru.add(Dense(1, activation='sigmoid'))"
   ],
   "metadata": {
    "collapsed": false,
    "ExecuteTime": {
     "end_time": "2024-05-03T06:54:44.888097Z",
     "start_time": "2024-05-03T06:54:44.714674Z"
    }
   },
   "id": "c2a8f5b3123cd1b0",
   "outputs": []
  },
  {
   "cell_type": "code",
   "execution_count": 22,
   "source": [
    "# Compile the model\n",
    "model_gru.compile(optimizer='adam', loss='binary_crossentropy', metrics=['accuracy'])"
   ],
   "metadata": {
    "collapsed": false,
    "ExecuteTime": {
     "end_time": "2024-05-03T06:54:46.673377Z",
     "start_time": "2024-05-03T06:54:46.660712Z"
    }
   },
   "id": "2336ffb6a07c8192",
   "outputs": []
  },
  {
   "cell_type": "code",
   "execution_count": 23,
   "source": [
    "# Train the model\n",
    "history_gru = model_gru.fit(X_train, y_train, epochs=epochs, batch_size=batch_size, validation_split=0.2, callbacks=[early_stopping])"
   ],
   "metadata": {
    "collapsed": false,
    "ExecuteTime": {
     "end_time": "2024-05-03T06:58:01.990219Z",
     "start_time": "2024-05-03T06:54:48.657277Z"
    }
   },
   "id": "f39d5c18f892f67a",
   "outputs": []
  },
  {
   "cell_type": "code",
   "execution_count": 24,
   "source": [
    "# Evaluate the model on test data\n",
    "_, accuracy_gru = model_gru.evaluate(X_test, y_test)"
   ],
   "metadata": {
    "collapsed": false,
    "ExecuteTime": {
     "end_time": "2024-05-03T06:58:08.161529Z",
     "start_time": "2024-05-03T06:58:01.982042Z"
    }
   },
   "id": "93b7603fc7d11cbb",
   "outputs": []
  },
  {
   "cell_type": "code",
   "execution_count": 25,
   "source": [
    "# Print accuracy of LSTM and GRU models\n",
    "print(f\"Accuracy of LSTM model: {accuracy_lstm:.4f}\")\n",
    "print(f\"Accuracy of GRU model: {accuracy_gru:.4f}\")"
   ],
   "metadata": {
    "collapsed": false,
    "ExecuteTime": {
     "end_time": "2024-05-03T06:58:09.932923Z",
     "start_time": "2024-05-03T06:58:09.926787Z"
    }
   },
   "id": "83434b959cf9a665",
   "outputs": []
  },
  {
   "cell_type": "code",
   "execution_count": null,
   "source": [],
   "metadata": {
    "collapsed": false
   },
   "id": "6cb9b00f4b6f8e3f",
   "outputs": []
  }
 ],
 "metadata": {
  "kernelspec": {
   "display_name": "Python 3",
   "language": "python",
   "name": "python3"
  },
  "language_info": {
   "codemirror_mode": {
    "name": "ipython",
    "version": 2
   },
   "file_extension": ".py",
   "mimetype": "text/x-python",
   "name": "python",
   "nbconvert_exporter": "python",
   "pygments_lexer": "ipython2",
   "version": "2.7.6"
  }
 },
 "nbformat": 4,
 "nbformat_minor": 5
}
