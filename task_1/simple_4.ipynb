{
 "cells": [
  {
   "cell_type": "code",
   "execution_count": 5,
   "id": "initial_id",
   "metadata": {
    "collapsed": true,
    "ExecuteTime": {
     "end_time": "2024-05-03T06:49:46.159473Z",
     "start_time": "2024-05-03T06:49:42.599356Z"
    }
   },
   "outputs": [],
   "source": [
    "import warnings\n",
    "\n",
    "import numpy as np\n",
    "import pandas as pd\n",
    "from keras.callbacks import EarlyStopping\n",
    "from keras.layers import Embedding, LSTM, GRU, Dense, SpatialDropout1D\n",
    "from keras.models import Sequential\n",
    "from keras.preprocessing.sequence import pad_sequences\n",
    "from keras.preprocessing.text import Tokenizer\n",
    "from sklearn.model_selection import train_test_split\n",
    "from sklearn.preprocessing import LabelEncoder\n",
    "\n",
    "warnings.filterwarnings('ignore')"
   ]
  },
  {
   "cell_type": "code",
   "execution_count": 6,
   "outputs": [
    {
     "data": {
      "text/plain": "   sentimen                                              Tweet\n0        -1  lagu bosan apa yang aku save ni huhuhuhuhuhuhu...\n1        -1  kita lanjutkan saja diam ini hingga kau dan ak...\n2         1  doa rezeki tak putus inna haa zaa larizquna ma...\n3         1  makasih loh ntar kita bagi hasil aku 99 9 sisa...\n4        -1  aku tak faham betul jenis orang malaysia yang ...",
      "text/html": "<div>\n<style scoped>\n    .dataframe tbody tr th:only-of-type {\n        vertical-align: middle;\n    }\n\n    .dataframe tbody tr th {\n        vertical-align: top;\n    }\n\n    .dataframe thead th {\n        text-align: right;\n    }\n</style>\n<table border=\"1\" class=\"dataframe\">\n  <thead>\n    <tr style=\"text-align: right;\">\n      <th></th>\n      <th>sentimen</th>\n      <th>Tweet</th>\n    </tr>\n  </thead>\n  <tbody>\n    <tr>\n      <th>0</th>\n      <td>-1</td>\n      <td>lagu bosan apa yang aku save ni huhuhuhuhuhuhu...</td>\n    </tr>\n    <tr>\n      <th>1</th>\n      <td>-1</td>\n      <td>kita lanjutkan saja diam ini hingga kau dan ak...</td>\n    </tr>\n    <tr>\n      <th>2</th>\n      <td>1</td>\n      <td>doa rezeki tak putus inna haa zaa larizquna ma...</td>\n    </tr>\n    <tr>\n      <th>3</th>\n      <td>1</td>\n      <td>makasih loh ntar kita bagi hasil aku 99 9 sisa...</td>\n    </tr>\n    <tr>\n      <th>4</th>\n      <td>-1</td>\n      <td>aku tak faham betul jenis orang malaysia yang ...</td>\n    </tr>\n  </tbody>\n</table>\n</div>"
     },
     "execution_count": 6,
     "metadata": {},
     "output_type": "execute_result"
    }
   ],
   "source": [
    "df = pd.read_csv('../data/Indonesian Sentiment Twitter Dataset Labeled.csv', sep=\"\\t\")\n",
    "df.head()"
   ],
   "metadata": {
    "collapsed": false,
    "ExecuteTime": {
     "end_time": "2024-05-03T06:49:46.182649Z",
     "start_time": "2024-05-03T06:49:46.158899Z"
    }
   },
   "id": "c1cc5010a38f38d8"
  },
  {
   "cell_type": "code",
   "execution_count": 7,
   "outputs": [],
   "source": [
    "df.replace(-1, 0, inplace=True)"
   ],
   "metadata": {
    "collapsed": false,
    "ExecuteTime": {
     "end_time": "2024-05-03T06:49:47.204722Z",
     "start_time": "2024-05-03T06:49:47.199751Z"
    }
   },
   "id": "8d78f2813e50ccf1"
  },
  {
   "cell_type": "code",
   "execution_count": 8,
   "outputs": [],
   "source": [
    "# Assuming the CSV file has a column named 'text' that contains the text of each document\n",
    "corpus = df['Tweet'].tolist()\n",
    "sentiments = df['sentimen'].values"
   ],
   "metadata": {
    "collapsed": false,
    "ExecuteTime": {
     "end_time": "2024-05-03T06:49:48.536210Z",
     "start_time": "2024-05-03T06:49:48.533305Z"
    }
   },
   "id": "6f54fca4bff9a15d"
  },
  {
   "cell_type": "code",
   "execution_count": 9,
   "outputs": [],
   "source": [
    "sentiment_encode = {-1 : 0, 0 : 1, 1 : 2}\n",
    "y = df['sentimen'].map(sentiment_encode).values"
   ],
   "metadata": {
    "collapsed": false,
    "ExecuteTime": {
     "end_time": "2024-05-03T06:49:49.738548Z",
     "start_time": "2024-05-03T06:49:49.735427Z"
    }
   },
   "id": "8fe8d99ac379ac2f"
  },
  {
   "cell_type": "code",
   "execution_count": 10,
   "outputs": [],
   "source": [
    "# Convert sentiments to binary labels\n",
    "binary_labels = np.array([1 if x == 1 else 0 for x in sentiments])"
   ],
   "metadata": {
    "collapsed": false,
    "ExecuteTime": {
     "end_time": "2024-05-03T06:49:51.132719Z",
     "start_time": "2024-05-03T06:49:51.127344Z"
    }
   },
   "id": "70c28b72e8b77e80"
  },
  {
   "cell_type": "code",
   "execution_count": 11,
   "outputs": [],
   "source": [
    "# Preprocess labels (convert categorical labels to numerical labels)\n",
    "label_encoder = LabelEncoder()\n",
    "y = label_encoder.fit_transform(y)"
   ],
   "metadata": {
    "collapsed": false,
    "ExecuteTime": {
     "end_time": "2024-05-03T06:49:51.899115Z",
     "start_time": "2024-05-03T06:49:51.890292Z"
    }
   },
   "id": "6cebab1a1591e33d"
  },
  {
   "cell_type": "code",
   "execution_count": 13,
   "outputs": [],
   "source": [
    "# Tokenize text\n",
    "tokenizer = Tokenizer()\n",
    "tokenizer.fit_on_texts(corpus)\n",
    "X_seq = tokenizer.texts_to_sequences(corpus)\n",
    "\n",
    "# Pad sequences\n",
    "max_length = max(len(seq) for seq in X_seq)\n",
    "X_pad = pad_sequences(X_seq, maxlen=max_length)"
   ],
   "metadata": {
    "collapsed": false,
    "ExecuteTime": {
     "end_time": "2024-05-03T06:50:28.193969Z",
     "start_time": "2024-05-03T06:50:27.970806Z"
    }
   },
   "id": "6f35278b5d52a4b3"
  },
  {
   "cell_type": "code",
   "execution_count": 14,
   "outputs": [],
   "source": [
    "# Split the data into training and testing sets\n",
    "X_train, X_test, y_train, y_test = train_test_split(X_pad, y, test_size=0.2, random_state=42)\n"
   ],
   "metadata": {
    "collapsed": false,
    "ExecuteTime": {
     "end_time": "2024-05-03T06:50:36.902769Z",
     "start_time": "2024-05-03T06:50:36.902052Z"
    }
   },
   "id": "f1fdd413d41bd55"
  },
  {
   "cell_type": "code",
   "execution_count": 15,
   "outputs": [
    {
     "name": "stderr",
     "output_type": "stream",
     "text": [
      "2024-05-03 13:50:43.615677: I metal_plugin/src/device/metal_device.cc:1154] Metal device set to: Apple M1 Pro\n",
      "2024-05-03 13:50:43.616085: I metal_plugin/src/device/metal_device.cc:296] systemMemory: 16.00 GB\n",
      "2024-05-03 13:50:43.616129: I metal_plugin/src/device/metal_device.cc:313] maxCacheSize: 5.33 GB\n",
      "2024-05-03 13:50:43.616370: I tensorflow/core/common_runtime/pluggable_device/pluggable_device_factory.cc:306] Could not identify NUMA node of platform GPU ID 0, defaulting to 0. Your kernel may not have been built with NUMA support.\n",
      "2024-05-03 13:50:43.616426: I tensorflow/core/common_runtime/pluggable_device/pluggable_device_factory.cc:272] Created TensorFlow device (/job:localhost/replica:0/task:0/device:GPU:0 with 0 MB memory) -> physical PluggableDevice (device: 0, name: METAL, pci bus id: <undefined>)\n"
     ]
    },
    {
     "name": "stdout",
     "output_type": "stream",
     "text": [
      "WARNING:tensorflow:Layer lstm will not use cuDNN kernels since it doesn't meet the criteria. It will use a generic GPU kernel as fallback when running on GPU.\n"
     ]
    }
   ],
   "source": [
    "# Define model architecture for LSTM\n",
    "model_lstm = Sequential()\n",
    "model_lstm.add(Embedding(input_dim=len(tokenizer.word_index) + 1, output_dim=100, input_length=max_length))\n",
    "model_lstm.add(SpatialDropout1D(0.2))\n",
    "model_lstm.add(LSTM(100, dropout=0.2, recurrent_dropout=0.2))\n",
    "model_lstm.add(Dense(1, activation='sigmoid'))"
   ],
   "metadata": {
    "collapsed": false,
    "ExecuteTime": {
     "end_time": "2024-05-03T06:50:44.635682Z",
     "start_time": "2024-05-03T06:50:43.565369Z"
    }
   },
   "id": "dc3920ef074e3e6d"
  },
  {
   "cell_type": "code",
   "execution_count": 17,
   "outputs": [],
   "source": [
    "# Compile the model\n",
    "model_lstm.compile(optimizer='adam', loss='binary_crossentropy', metrics=['accuracy'])"
   ],
   "metadata": {
    "collapsed": false,
    "ExecuteTime": {
     "end_time": "2024-05-03T06:51:06.432463Z",
     "start_time": "2024-05-03T06:51:06.347243Z"
    }
   },
   "id": "165cb37910a79e6"
  },
  {
   "cell_type": "code",
   "execution_count": 19,
   "outputs": [
    {
     "name": "stdout",
     "output_type": "stream",
     "text": [
      "109/109 [==============================] - 190s 2s/step - loss: 0.5522 - accuracy: 0.7591 - val_loss: 0.5151 - val_accuracy: 0.7687\n"
     ]
    }
   ],
   "source": [
    "# Train the model\n",
    "epochs = 1\n",
    "batch_size = 64\n",
    "early_stopping = EarlyStopping(monitor='val_loss', patience=3, restore_best_weights=True)\n",
    "history_lstm = model_lstm.fit(X_train, y_train, epochs=epochs, batch_size=batch_size, validation_split=0.2, callbacks=[early_stopping])"
   ],
   "metadata": {
    "collapsed": false,
    "ExecuteTime": {
     "end_time": "2024-05-03T06:54:27.634328Z",
     "start_time": "2024-05-03T06:51:17.288431Z"
    }
   },
   "id": "9dc2978058087b29"
  },
  {
   "cell_type": "code",
   "execution_count": 20,
   "outputs": [
    {
     "name": "stdout",
     "output_type": "stream",
     "text": [
      "68/68 [==============================] - 6s 86ms/step - loss: 0.5086 - accuracy: 0.7826\n"
     ]
    }
   ],
   "source": [
    "# Evaluate the model on test data\n",
    "_, accuracy_lstm = model_lstm.evaluate(X_test, y_test)"
   ],
   "metadata": {
    "collapsed": false,
    "ExecuteTime": {
     "end_time": "2024-05-03T06:54:40.517647Z",
     "start_time": "2024-05-03T06:54:34.374357Z"
    }
   },
   "id": "bd4db9bda90ec963"
  },
  {
   "cell_type": "code",
   "execution_count": 21,
   "outputs": [
    {
     "name": "stdout",
     "output_type": "stream",
     "text": [
      "WARNING:tensorflow:Layer gru will not use cuDNN kernels since it doesn't meet the criteria. It will use a generic GPU kernel as fallback when running on GPU.\n"
     ]
    }
   ],
   "source": [
    "# Define model architecture for GRU\n",
    "model_gru = Sequential()\n",
    "model_gru.add(Embedding(input_dim=len(tokenizer.word_index) + 1, output_dim=100, input_length=max_length))\n",
    "model_gru.add(SpatialDropout1D(0.2))\n",
    "model_gru.add(GRU(100, dropout=0.2, recurrent_dropout=0.2))\n",
    "model_gru.add(Dense(1, activation='sigmoid'))"
   ],
   "metadata": {
    "collapsed": false,
    "ExecuteTime": {
     "end_time": "2024-05-03T06:54:44.888097Z",
     "start_time": "2024-05-03T06:54:44.714674Z"
    }
   },
   "id": "c2a8f5b3123cd1b0"
  },
  {
   "cell_type": "code",
   "execution_count": 22,
   "outputs": [],
   "source": [
    "# Compile the model\n",
    "model_gru.compile(optimizer='adam', loss='binary_crossentropy', metrics=['accuracy'])"
   ],
   "metadata": {
    "collapsed": false,
    "ExecuteTime": {
     "end_time": "2024-05-03T06:54:46.673377Z",
     "start_time": "2024-05-03T06:54:46.660712Z"
    }
   },
   "id": "2336ffb6a07c8192"
  },
  {
   "cell_type": "code",
   "execution_count": 23,
   "outputs": [
    {
     "name": "stdout",
     "output_type": "stream",
     "text": [
      "109/109 [==============================] - 193s 2s/step - loss: 0.5525 - accuracy: 0.7556 - val_loss: 0.5150 - val_accuracy: 0.7588\n"
     ]
    }
   ],
   "source": [
    "# Train the model\n",
    "history_gru = model_gru.fit(X_train, y_train, epochs=epochs, batch_size=batch_size, validation_split=0.2, callbacks=[early_stopping])"
   ],
   "metadata": {
    "collapsed": false,
    "ExecuteTime": {
     "end_time": "2024-05-03T06:58:01.990219Z",
     "start_time": "2024-05-03T06:54:48.657277Z"
    }
   },
   "id": "f39d5c18f892f67a"
  },
  {
   "cell_type": "code",
   "execution_count": 24,
   "outputs": [
    {
     "name": "stdout",
     "output_type": "stream",
     "text": [
      "68/68 [==============================] - 6s 89ms/step - loss: 0.5077 - accuracy: 0.7710\n"
     ]
    }
   ],
   "source": [
    "# Evaluate the model on test data\n",
    "_, accuracy_gru = model_gru.evaluate(X_test, y_test)"
   ],
   "metadata": {
    "collapsed": false,
    "ExecuteTime": {
     "end_time": "2024-05-03T06:58:08.161529Z",
     "start_time": "2024-05-03T06:58:01.982042Z"
    }
   },
   "id": "93b7603fc7d11cbb"
  },
  {
   "cell_type": "code",
   "execution_count": 25,
   "outputs": [
    {
     "name": "stdout",
     "output_type": "stream",
     "text": [
      "Accuracy of LSTM model: 0.7826\n",
      "Accuracy of GRU model: 0.7710\n"
     ]
    }
   ],
   "source": [
    "# Print accuracy of LSTM and GRU models\n",
    "print(f\"Accuracy of LSTM model: {accuracy_lstm:.4f}\")\n",
    "print(f\"Accuracy of GRU model: {accuracy_gru:.4f}\")"
   ],
   "metadata": {
    "collapsed": false,
    "ExecuteTime": {
     "end_time": "2024-05-03T06:58:09.932923Z",
     "start_time": "2024-05-03T06:58:09.926787Z"
    }
   },
   "id": "83434b959cf9a665"
  },
  {
   "cell_type": "code",
   "execution_count": null,
   "outputs": [],
   "source": [],
   "metadata": {
    "collapsed": false
   },
   "id": "6cb9b00f4b6f8e3f"
  }
 ],
 "metadata": {
  "kernelspec": {
   "display_name": "Python 3",
   "language": "python",
   "name": "python3"
  },
  "language_info": {
   "codemirror_mode": {
    "name": "ipython",
    "version": 2
   },
   "file_extension": ".py",
   "mimetype": "text/x-python",
   "name": "python",
   "nbconvert_exporter": "python",
   "pygments_lexer": "ipython2",
   "version": "2.7.6"
  }
 },
 "nbformat": 4,
 "nbformat_minor": 5
}
